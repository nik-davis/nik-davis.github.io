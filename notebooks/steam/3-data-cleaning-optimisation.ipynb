{
 "cells": [
  {
   "cell_type": "markdown",
   "metadata": {},
   "source": [
    "# Steam Data Cleaning - Optimisation\n",
    "\n",
    "*This forms part of a larger series of posts for my [blog](http://nik-davis.github.io) on downloading, processing and analysing data from the steam store. [See all posts here](http://nik-davis.github.io/tag/steam).*"
   ]
  },
  {
   "cell_type": "code",
   "execution_count": 1,
   "metadata": {},
   "outputs": [
    {
     "data": {
      "application/json": {
       "Software versions": [
        {
         "module": "Python",
         "version": "3.7.3 64bit [MSC v.1900 64 bit (AMD64)]"
        },
        {
         "module": "IPython",
         "version": "7.5.0"
        },
        {
         "module": "OS",
         "version": "Windows 10 10.0.18362 SP0"
        },
        {
         "module": "numpy",
         "version": "1.16.3"
        },
        {
         "module": "pandas",
         "version": "0.24.2"
        }
       ]
      },
      "text/html": [
       "<table><tr><th>Software</th><th>Version</th></tr><tr><td>Python</td><td>3.7.3 64bit [MSC v.1900 64 bit (AMD64)]</td></tr><tr><td>IPython</td><td>7.5.0</td></tr><tr><td>OS</td><td>Windows 10 10.0.18362 SP0</td></tr><tr><td>numpy</td><td>1.16.3</td></tr><tr><td>pandas</td><td>0.24.2</td></tr><tr><td colspan='2'>Fri Jun 07 17:19:10 2019 GMT Summer Time</td></tr></table>"
      ],
      "text/latex": [
       "\\begin{tabular}{|l|l|}\\hline\n",
       "{\\bf Software} & {\\bf Version} \\\\ \\hline\\hline\n",
       "Python & 3.7.3 64bit [MSC v.1900 64 bit (AMD64)] \\\\ \\hline\n",
       "IPython & 7.5.0 \\\\ \\hline\n",
       "OS & Windows 10 10.0.18362 SP0 \\\\ \\hline\n",
       "numpy & 1.16.3 \\\\ \\hline\n",
       "pandas & 0.24.2 \\\\ \\hline\n",
       "\\hline \\multicolumn{2}{|l|}{Fri Jun 07 17:19:10 2019 GMT Summer Time} \\\\ \\hline\n",
       "\\end{tabular}\n"
      ],
      "text/plain": [
       "Software versions\n",
       "Python 3.7.3 64bit [MSC v.1900 64 bit (AMD64)]\n",
       "IPython 7.5.0\n",
       "OS Windows 10 10.0.18362 SP0\n",
       "numpy 1.16.3\n",
       "pandas 0.24.2\n",
       "Fri Jun 07 17:19:10 2019 GMT Summer Time"
      ]
     },
     "execution_count": 1,
     "metadata": {},
     "output_type": "execute_result"
    }
   ],
   "source": [
    "# view software version information\n",
    "\n",
    "# http://raw.github.com/jrjohansson/version_information/master/version_information.py\n",
    "%load_ext version_information\n",
    "%reload_ext version_information\n",
    "\n",
    "%version_information numpy, pandas"
   ]
  },
  {
   "cell_type": "markdown",
   "metadata": {},
   "source": [
    "# ----------------\n",
    "# Part 3\n",
    "# ----------------"
   ]
  },
  {
   "cell_type": "markdown",
   "metadata": {},
   "source": [
    "# Steam Data Cleaning (Part 3)\n",
    "\n",
    "*This is part of a larger series of notebooks on downloading, processing and analysing data from the steam store. [See all notebooks here.](../notebooks)*"
   ]
  },
  {
   "cell_type": "markdown",
   "metadata": {},
   "source": [
    "# Release Date optimisation and combining\n",
    "\n",
    "Almost finished with steam data. Final column then combine"
   ]
  },
  {
   "cell_type": "markdown",
   "metadata": {},
   "source": [
    "In part 1 of cleaning the data, we wrote a `print_steam_links` function to easily create links from a dataframe. To use it again, we could copy the code and define it here. Instead, we're going to use a handy trick in jupyter notebook. If we place the function in a separate python (.py) file inside the `src` folder, we can tell python to look there for local modules using `sys.path.append`. Next, we can import the function directly.\n",
    "\n"
   ]
  },
  {
   "cell_type": "code",
   "execution_count": 2,
   "metadata": {},
   "outputs": [],
   "source": [
    "import sys\n",
    "sys.path.append('../src/')\n",
    "\n",
    "from datacleaning import print_steam_links"
   ]
  },
  {
   "cell_type": "code",
   "execution_count": 3,
   "metadata": {},
   "outputs": [],
   "source": [
    "# standard library imports\n",
    "from ast import literal_eval\n",
    "import itertools\n",
    "import time\n",
    "import re\n",
    "import sys\n",
    "sys.path.append('../src/')\n",
    "\n",
    "# third-party imports\n",
    "import numpy as np\n",
    "import pandas as pd\n",
    "\n",
    "# local imports\n",
    "from datacleaning import print_steam_links\n",
    "\n",
    "# customisations\n",
    "pd.set_option(\"max_columns\", 100)"
   ]
  },
  {
   "cell_type": "markdown",
   "metadata": {},
   "source": [
    "## Import and Inspect Data"
   ]
  },
  {
   "cell_type": "code",
   "execution_count": 4,
   "metadata": {
    "scrolled": false
   },
   "outputs": [
    {
     "name": "stdout",
     "output_type": "stream",
     "text": [
      "Rows: 27391\n",
      "Columns: 12\n"
     ]
    },
    {
     "data": {
      "text/html": [
       "<div>\n",
       "<style scoped>\n",
       "    .dataframe tbody tr th:only-of-type {\n",
       "        vertical-align: middle;\n",
       "    }\n",
       "\n",
       "    .dataframe tbody tr th {\n",
       "        vertical-align: top;\n",
       "    }\n",
       "\n",
       "    .dataframe thead th {\n",
       "        text-align: right;\n",
       "    }\n",
       "</style>\n",
       "<table border=\"1\" class=\"dataframe\">\n",
       "  <thead>\n",
       "    <tr style=\"text-align: right;\">\n",
       "      <th></th>\n",
       "      <th>name</th>\n",
       "      <th>steam_appid</th>\n",
       "      <th>required_age</th>\n",
       "      <th>platforms</th>\n",
       "      <th>categories</th>\n",
       "      <th>genres</th>\n",
       "      <th>achievements</th>\n",
       "      <th>release_date</th>\n",
       "      <th>price</th>\n",
       "      <th>english</th>\n",
       "      <th>developer</th>\n",
       "      <th>publisher</th>\n",
       "    </tr>\n",
       "  </thead>\n",
       "  <tbody>\n",
       "    <tr>\n",
       "      <th>0</th>\n",
       "      <td>Counter-Strike</td>\n",
       "      <td>10</td>\n",
       "      <td>0</td>\n",
       "      <td>windows;mac;linux</td>\n",
       "      <td>Multi-player;Online Multi-Player;Local Multi-P...</td>\n",
       "      <td>Action</td>\n",
       "      <td>0</td>\n",
       "      <td>{'coming_soon': False, 'date': '1 Nov, 2000'}</td>\n",
       "      <td>7.19</td>\n",
       "      <td>1</td>\n",
       "      <td>Valve</td>\n",
       "      <td>Valve</td>\n",
       "    </tr>\n",
       "    <tr>\n",
       "      <th>1</th>\n",
       "      <td>Team Fortress Classic</td>\n",
       "      <td>20</td>\n",
       "      <td>0</td>\n",
       "      <td>windows;mac;linux</td>\n",
       "      <td>Multi-player;Online Multi-Player;Local Multi-P...</td>\n",
       "      <td>Action</td>\n",
       "      <td>0</td>\n",
       "      <td>{'coming_soon': False, 'date': '1 Apr, 1999'}</td>\n",
       "      <td>3.99</td>\n",
       "      <td>1</td>\n",
       "      <td>Valve</td>\n",
       "      <td>Valve</td>\n",
       "    </tr>\n",
       "    <tr>\n",
       "      <th>2</th>\n",
       "      <td>Day of Defeat</td>\n",
       "      <td>30</td>\n",
       "      <td>0</td>\n",
       "      <td>windows;mac;linux</td>\n",
       "      <td>Multi-player;Valve Anti-Cheat enabled</td>\n",
       "      <td>Action</td>\n",
       "      <td>0</td>\n",
       "      <td>{'coming_soon': False, 'date': '1 May, 2003'}</td>\n",
       "      <td>3.99</td>\n",
       "      <td>1</td>\n",
       "      <td>Valve</td>\n",
       "      <td>Valve</td>\n",
       "    </tr>\n",
       "    <tr>\n",
       "      <th>3</th>\n",
       "      <td>Deathmatch Classic</td>\n",
       "      <td>40</td>\n",
       "      <td>0</td>\n",
       "      <td>windows;mac;linux</td>\n",
       "      <td>Multi-player;Online Multi-Player;Local Multi-P...</td>\n",
       "      <td>Action</td>\n",
       "      <td>0</td>\n",
       "      <td>{'coming_soon': False, 'date': '1 Jun, 2001'}</td>\n",
       "      <td>3.99</td>\n",
       "      <td>1</td>\n",
       "      <td>Valve</td>\n",
       "      <td>Valve</td>\n",
       "    </tr>\n",
       "    <tr>\n",
       "      <th>4</th>\n",
       "      <td>Half-Life: Opposing Force</td>\n",
       "      <td>50</td>\n",
       "      <td>0</td>\n",
       "      <td>windows;mac;linux</td>\n",
       "      <td>Single-player;Multi-player;Valve Anti-Cheat en...</td>\n",
       "      <td>Action</td>\n",
       "      <td>0</td>\n",
       "      <td>{'coming_soon': False, 'date': '1 Nov, 1999'}</td>\n",
       "      <td>3.99</td>\n",
       "      <td>1</td>\n",
       "      <td>Gearbox Software</td>\n",
       "      <td>Valve</td>\n",
       "    </tr>\n",
       "  </tbody>\n",
       "</table>\n",
       "</div>"
      ],
      "text/plain": [
       "                        name  steam_appid  required_age          platforms  \\\n",
       "0             Counter-Strike           10             0  windows;mac;linux   \n",
       "1      Team Fortress Classic           20             0  windows;mac;linux   \n",
       "2              Day of Defeat           30             0  windows;mac;linux   \n",
       "3         Deathmatch Classic           40             0  windows;mac;linux   \n",
       "4  Half-Life: Opposing Force           50             0  windows;mac;linux   \n",
       "\n",
       "                                          categories  genres  achievements  \\\n",
       "0  Multi-player;Online Multi-Player;Local Multi-P...  Action             0   \n",
       "1  Multi-player;Online Multi-Player;Local Multi-P...  Action             0   \n",
       "2              Multi-player;Valve Anti-Cheat enabled  Action             0   \n",
       "3  Multi-player;Online Multi-Player;Local Multi-P...  Action             0   \n",
       "4  Single-player;Multi-player;Valve Anti-Cheat en...  Action             0   \n",
       "\n",
       "                                    release_date  price  english  \\\n",
       "0  {'coming_soon': False, 'date': '1 Nov, 2000'}   7.19        1   \n",
       "1  {'coming_soon': False, 'date': '1 Apr, 1999'}   3.99        1   \n",
       "2  {'coming_soon': False, 'date': '1 May, 2003'}   3.99        1   \n",
       "3  {'coming_soon': False, 'date': '1 Jun, 2001'}   3.99        1   \n",
       "4  {'coming_soon': False, 'date': '1 Nov, 1999'}   3.99        1   \n",
       "\n",
       "          developer publisher  \n",
       "0             Valve     Valve  \n",
       "1             Valve     Valve  \n",
       "2             Valve     Valve  \n",
       "3             Valve     Valve  \n",
       "4  Gearbox Software     Valve  "
      ]
     },
     "execution_count": 4,
     "metadata": {},
     "output_type": "execute_result"
    }
   ],
   "source": [
    "imported_steam_data = pd.read_csv('../data/exports/steam_partially_clean.csv')\n",
    "\n",
    "print('Rows:', imported_steam_data.shape[0])\n",
    "print('Columns:', imported_steam_data.shape[1])\n",
    "imported_steam_data.head()"
   ]
  },
  {
   "cell_type": "markdown",
   "metadata": {},
   "source": [
    "Check null counts"
   ]
  },
  {
   "cell_type": "code",
   "execution_count": 5,
   "metadata": {},
   "outputs": [
    {
     "data": {
      "text/plain": [
       "name            0\n",
       "steam_appid     0\n",
       "required_age    0\n",
       "platforms       0\n",
       "categories      0\n",
       "genres          0\n",
       "achievements    0\n",
       "release_date    0\n",
       "price           0\n",
       "english         0\n",
       "developer       0\n",
       "publisher       0\n",
       "dtype: int64"
      ]
     },
     "execution_count": 5,
     "metadata": {},
     "output_type": "execute_result"
    }
   ],
   "source": [
    "imported_steam_data.isnull().sum()"
   ]
  },
  {
   "cell_type": "markdown",
   "metadata": {},
   "source": [
    "## Processing and Optimising Release Date\n",
    "\n",
    "The final column to clean, release date, provides some interesting optimisation and learning challenges. We've encountered some columns with a similar structure already, so we can use what we've learned so far, but now we have some dates to handle.\n",
    "\n",
    "First we shall inspect the raw format of the column. As we can see below, it is stored as a dictionary-like string object containing values for `coming_soon` and `date`. From the first few rows it would appear that the dates are stored in a uniform format - day as an integer, month as a 3-character string abbreviation, a comma, then the year as a four-digit number. We can parse this either using the python built-in datetime module, or as we already have pandas imported, we can use the [pd.to_datetime](https://pandas.pydata.org/pandas-docs/stable/reference/api/pandas.to_datetime.html) function.\n",
    "\n",
    "Also, as our analysis will involve looking at ownership and sales data, looking at games that are not released yet will not be useful to us. Intuitively, we can drop any titles which are marked as coming soon, presumably having this value set to true. As a side note, once parsed it may be worth checking that no release dates in our data are beyond the current date, just to make doubly sure none slip through."
   ]
  },
  {
   "cell_type": "code",
   "execution_count": 6,
   "metadata": {},
   "outputs": [
    {
     "data": {
      "text/plain": [
       "\"{'coming_soon': False, 'date': '1 Nov, 2000'}\""
      ]
     },
     "metadata": {},
     "output_type": "display_data"
    }
   ],
   "source": [
    "display(imported_steam_data['release_date'][0])"
   ]
  },
  {
   "cell_type": "code",
   "execution_count": 7,
   "metadata": {},
   "outputs": [
    {
     "data": {
      "text/html": [
       "<div>\n",
       "<style scoped>\n",
       "    .dataframe tbody tr th:only-of-type {\n",
       "        vertical-align: middle;\n",
       "    }\n",
       "\n",
       "    .dataframe tbody tr th {\n",
       "        vertical-align: top;\n",
       "    }\n",
       "\n",
       "    .dataframe thead th {\n",
       "        text-align: right;\n",
       "    }\n",
       "</style>\n",
       "<table border=\"1\" class=\"dataframe\">\n",
       "  <thead>\n",
       "    <tr style=\"text-align: right;\">\n",
       "      <th></th>\n",
       "      <th>name</th>\n",
       "      <th>release_date</th>\n",
       "    </tr>\n",
       "  </thead>\n",
       "  <tbody>\n",
       "    <tr>\n",
       "      <th>0</th>\n",
       "      <td>Counter-Strike</td>\n",
       "      <td>{'coming_soon': False, 'date': '1 Nov, 2000'}</td>\n",
       "    </tr>\n",
       "    <tr>\n",
       "      <th>1</th>\n",
       "      <td>Team Fortress Classic</td>\n",
       "      <td>{'coming_soon': False, 'date': '1 Apr, 1999'}</td>\n",
       "    </tr>\n",
       "    <tr>\n",
       "      <th>2</th>\n",
       "      <td>Day of Defeat</td>\n",
       "      <td>{'coming_soon': False, 'date': '1 May, 2003'}</td>\n",
       "    </tr>\n",
       "    <tr>\n",
       "      <th>3</th>\n",
       "      <td>Deathmatch Classic</td>\n",
       "      <td>{'coming_soon': False, 'date': '1 Jun, 2001'}</td>\n",
       "    </tr>\n",
       "    <tr>\n",
       "      <th>4</th>\n",
       "      <td>Half-Life: Opposing Force</td>\n",
       "      <td>{'coming_soon': False, 'date': '1 Nov, 1999'}</td>\n",
       "    </tr>\n",
       "  </tbody>\n",
       "</table>\n",
       "</div>"
      ],
      "text/plain": [
       "                        name                                   release_date\n",
       "0             Counter-Strike  {'coming_soon': False, 'date': '1 Nov, 2000'}\n",
       "1      Team Fortress Classic  {'coming_soon': False, 'date': '1 Apr, 1999'}\n",
       "2              Day of Defeat  {'coming_soon': False, 'date': '1 May, 2003'}\n",
       "3         Deathmatch Classic  {'coming_soon': False, 'date': '1 Jun, 2001'}\n",
       "4  Half-Life: Opposing Force  {'coming_soon': False, 'date': '1 Nov, 1999'}"
      ]
     },
     "execution_count": 7,
     "metadata": {},
     "output_type": "execute_result"
    }
   ],
   "source": [
    "imported_steam_data[['name', 'release_date']].head()"
   ]
  },
  {
   "cell_type": "markdown",
   "metadata": {},
   "source": [
    "As usual, one of the first steps we'll take is to check for null values. Luckily, it seems that the cleaning we have performed already has removed any null values from our data set, as seen below. We may still have some hidden empty values of course. "
   ]
  },
  {
   "cell_type": "code",
   "execution_count": 8,
   "metadata": {},
   "outputs": [
    {
     "name": "stdout",
     "output_type": "stream",
     "text": [
      "Null values:\n",
      "\n",
      "Partially cleaned: 0\n"
     ]
    }
   ],
   "source": [
    "print('Null values:\\n')\n",
    "# print('Raw data:', imported_steam_data['release_date'].isnull().sum())\n",
    "print('Partially cleaned:', imported_steam_data['release_date'].isnull().sum())"
   ]
  },
  {
   "cell_type": "markdown",
   "metadata": {},
   "source": [
    "Exploring the data using the value_counts method brings a couple of data issues to light.\n",
    "\n",
    "In the raw data, we can see that 64 rows have data but date is an empty string, ''. Like we've seen before, this means they do not have null values, but may need to be treated as such depending on the reason. This may be data corruption, or it may be another reason entirely. We will probably have to decide what to do with these cases and investigate further.\n",
    "\n",
    "Another issue we can notice is that while most of the dates are stored in the format we saw previously (dd mmm, yyyy), at least a couple are simply stored as the month and year (e.g. 'Oct 2016'). This means that the dates aren't all stored uniformly so we will have to take care when parsing them.\n",
    "\n",
    "# May have to change this and discover later"
   ]
  },
  {
   "cell_type": "code",
   "execution_count": 52,
   "metadata": {
    "scrolled": false
   },
   "outputs": [
    {
     "name": "stdout",
     "output_type": "stream",
     "text": [
      "{'coming_soon': False, 'date': '13 Jul, 2018'}    64\n",
      "{'coming_soon': False, 'date': '31 Jan, 2019'}    58\n",
      "{'coming_soon': False, 'date': '16 Nov, 2018'}    56\n",
      "{'coming_soon': False, 'date': '5 Apr, 2016'}     56\n",
      "{'coming_soon': False, 'date': '31 May, 2018'}    55\n",
      "Name: release_date, dtype: int64\n"
     ]
    },
    {
     "data": {
      "text/plain": [
       "{'coming_soon': False, 'date': 'Oct 2016'}    1\n",
       "{'coming_soon': False, 'date': 'Aug 2015'}    1\n",
       "Name: release_date, dtype: int64"
      ]
     },
     "execution_count": 52,
     "metadata": {},
     "output_type": "execute_result"
    }
   ],
   "source": [
    "value_counts = imported_steam_data['release_date'].value_counts()\n",
    "\n",
    "print(value_counts.head())\n",
    "\n",
    "value_counts[[-75, -50]]"
   ]
  },
  {
   "cell_type": "markdown",
   "metadata": {},
   "source": [
    "Before we move on, let's quickly inspect some of the rows which have a blank date. \n",
    "\n",
    "It looks like some are special re-releases, like anniversary or game of the year editions, some are early access and not officially released yet, and others simply have a missing date. Apart from that there don't appear to be any clear patterns emerging, so as there are only 22 rows it may be best to remove them."
   ]
  },
  {
   "cell_type": "code",
   "execution_count": 53,
   "metadata": {},
   "outputs": [
    {
     "name": "stdout",
     "output_type": "stream",
     "text": [
      "Rows with no release date: 22 \n",
      "\n",
      "Borderlands Game of the Year: https://store.steampowered.com/app/8980\n",
      "Sherlock Holmes: The Mystery of the Persian Carpet: https://store.steampowered.com/app/11180\n",
      "1... 2... 3... KICK IT! (Drop That Beat Like an Ugly Baby): https://store.steampowered.com/app/15540\n",
      "The Great Art Race: https://store.steampowered.com/app/33580\n",
      "SpellForce 2 - Anniversary Edition: https://store.steampowered.com/app/39550\n"
     ]
    },
    {
     "data": {
      "text/html": [
       "<div>\n",
       "<style scoped>\n",
       "    .dataframe tbody tr th:only-of-type {\n",
       "        vertical-align: middle;\n",
       "    }\n",
       "\n",
       "    .dataframe tbody tr th {\n",
       "        vertical-align: top;\n",
       "    }\n",
       "\n",
       "    .dataframe thead th {\n",
       "        text-align: right;\n",
       "    }\n",
       "</style>\n",
       "<table border=\"1\" class=\"dataframe\">\n",
       "  <thead>\n",
       "    <tr style=\"text-align: right;\">\n",
       "      <th></th>\n",
       "      <th>name</th>\n",
       "      <th>steam_appid</th>\n",
       "      <th>required_age</th>\n",
       "      <th>platforms</th>\n",
       "      <th>categories</th>\n",
       "      <th>genres</th>\n",
       "      <th>achievements</th>\n",
       "      <th>release_date</th>\n",
       "      <th>price</th>\n",
       "      <th>english</th>\n",
       "      <th>developer</th>\n",
       "      <th>publisher</th>\n",
       "    </tr>\n",
       "  </thead>\n",
       "  <tbody>\n",
       "    <tr>\n",
       "      <th>224</th>\n",
       "      <td>Borderlands Game of the Year</td>\n",
       "      <td>8980</td>\n",
       "      <td>18</td>\n",
       "      <td>windows</td>\n",
       "      <td>Single-player;Multi-player;Co-op;Steam Achieve...</td>\n",
       "      <td>Action;RPG</td>\n",
       "      <td>80</td>\n",
       "      <td>{'coming_soon': False, 'date': ''}</td>\n",
       "      <td>24.99</td>\n",
       "      <td>1</td>\n",
       "      <td>Gearbox Software</td>\n",
       "      <td>2K</td>\n",
       "    </tr>\n",
       "    <tr>\n",
       "      <th>275</th>\n",
       "      <td>Sherlock Holmes: The Mystery of the Persian Ca...</td>\n",
       "      <td>11180</td>\n",
       "      <td>0</td>\n",
       "      <td>windows</td>\n",
       "      <td>Single-player</td>\n",
       "      <td>Adventure;Casual</td>\n",
       "      <td>0</td>\n",
       "      <td>{'coming_soon': False, 'date': ''}</td>\n",
       "      <td>6.99</td>\n",
       "      <td>1</td>\n",
       "      <td>Frogwares</td>\n",
       "      <td>Frogwares</td>\n",
       "    </tr>\n",
       "    <tr>\n",
       "      <th>366</th>\n",
       "      <td>1... 2... 3... KICK IT! (Drop That Beat Like a...</td>\n",
       "      <td>15540</td>\n",
       "      <td>0</td>\n",
       "      <td>windows</td>\n",
       "      <td>Single-player;Steam Achievements;Steam Trading...</td>\n",
       "      <td>Action;Early Access;Indie</td>\n",
       "      <td>1</td>\n",
       "      <td>{'coming_soon': False, 'date': ''}</td>\n",
       "      <td>6.99</td>\n",
       "      <td>1</td>\n",
       "      <td>Dejobaan Games, LLC</td>\n",
       "      <td>Dejobaan Games, LLC</td>\n",
       "    </tr>\n",
       "    <tr>\n",
       "      <th>634</th>\n",
       "      <td>The Great Art Race</td>\n",
       "      <td>33580</td>\n",
       "      <td>0</td>\n",
       "      <td>windows</td>\n",
       "      <td>Single-player</td>\n",
       "      <td>Simulation;Strategy</td>\n",
       "      <td>0</td>\n",
       "      <td>{'coming_soon': False, 'date': ''}</td>\n",
       "      <td>3.99</td>\n",
       "      <td>1</td>\n",
       "      <td>Ascaron Entertainment ltd.</td>\n",
       "      <td>Assemble Entertainment</td>\n",
       "    </tr>\n",
       "    <tr>\n",
       "      <th>757</th>\n",
       "      <td>SpellForce 2 - Anniversary Edition</td>\n",
       "      <td>39550</td>\n",
       "      <td>0</td>\n",
       "      <td>windows</td>\n",
       "      <td>Single-player;Multi-player;Online Multi-Player...</td>\n",
       "      <td>RPG;Strategy</td>\n",
       "      <td>0</td>\n",
       "      <td>{'coming_soon': False, 'date': ''}</td>\n",
       "      <td>13.99</td>\n",
       "      <td>1</td>\n",
       "      <td>Phenomic;THQ Nordic</td>\n",
       "      <td>THQ Nordic</td>\n",
       "    </tr>\n",
       "  </tbody>\n",
       "</table>\n",
       "</div>"
      ],
      "text/plain": [
       "                                                  name  steam_appid  \\\n",
       "224                       Borderlands Game of the Year         8980   \n",
       "275  Sherlock Holmes: The Mystery of the Persian Ca...        11180   \n",
       "366  1... 2... 3... KICK IT! (Drop That Beat Like a...        15540   \n",
       "634                                 The Great Art Race        33580   \n",
       "757                 SpellForce 2 - Anniversary Edition        39550   \n",
       "\n",
       "     required_age platforms  \\\n",
       "224            18   windows   \n",
       "275             0   windows   \n",
       "366             0   windows   \n",
       "634             0   windows   \n",
       "757             0   windows   \n",
       "\n",
       "                                            categories  \\\n",
       "224  Single-player;Multi-player;Co-op;Steam Achieve...   \n",
       "275                                      Single-player   \n",
       "366  Single-player;Steam Achievements;Steam Trading...   \n",
       "634                                      Single-player   \n",
       "757  Single-player;Multi-player;Online Multi-Player...   \n",
       "\n",
       "                        genres  achievements  \\\n",
       "224                 Action;RPG            80   \n",
       "275           Adventure;Casual             0   \n",
       "366  Action;Early Access;Indie             1   \n",
       "634        Simulation;Strategy             0   \n",
       "757               RPG;Strategy             0   \n",
       "\n",
       "                           release_date  price  english  \\\n",
       "224  {'coming_soon': False, 'date': ''}  24.99        1   \n",
       "275  {'coming_soon': False, 'date': ''}   6.99        1   \n",
       "366  {'coming_soon': False, 'date': ''}   6.99        1   \n",
       "634  {'coming_soon': False, 'date': ''}   3.99        1   \n",
       "757  {'coming_soon': False, 'date': ''}  13.99        1   \n",
       "\n",
       "                      developer               publisher  \n",
       "224            Gearbox Software                      2K  \n",
       "275                   Frogwares               Frogwares  \n",
       "366         Dejobaan Games, LLC     Dejobaan Games, LLC  \n",
       "634  Ascaron Entertainment ltd.  Assemble Entertainment  \n",
       "757         Phenomic;THQ Nordic              THQ Nordic  "
      ]
     },
     "execution_count": 53,
     "metadata": {},
     "output_type": "execute_result"
    }
   ],
   "source": [
    "no_release_date = imported_steam_data[imported_steam_data['release_date'] == \"{'coming_soon': False, 'date': ''}\"]\n",
    "\n",
    "print('Rows with no release date:', no_release_date.shape[0], '\\n')\n",
    "print_steam_links(no_release_date.head())\n",
    "no_release_date.head()"
   ]
  },
  {
   "cell_type": "markdown",
   "metadata": {},
   "source": [
    "Taking a look at the format of the column, we'll need to be using literal_eval once more. Apart from that it should be straightforward enough to extract the date."
   ]
  },
  {
   "cell_type": "code",
   "execution_count": 54,
   "metadata": {},
   "outputs": [
    {
     "name": "stdout",
     "output_type": "stream",
     "text": [
      "<class 'str'>\n"
     ]
    },
    {
     "data": {
      "text/plain": [
       "\"{'coming_soon': False, 'date': '1 Nov, 2000'}\""
      ]
     },
     "execution_count": 54,
     "metadata": {},
     "output_type": "execute_result"
    }
   ],
   "source": [
    "print(type(imported_steam_data['release_date'].iloc[0]))\n",
    "\n",
    "imported_steam_data['release_date'].iloc[0]"
   ]
  },
  {
   "cell_type": "code",
   "execution_count": 55,
   "metadata": {},
   "outputs": [
    {
     "name": "stdout",
     "output_type": "stream",
     "text": [
      "<class 'dict'>\n"
     ]
    },
    {
     "data": {
      "text/plain": [
       "'1 Nov, 2000'"
      ]
     },
     "execution_count": 55,
     "metadata": {},
     "output_type": "execute_result"
    }
   ],
   "source": [
    "print(type(literal_eval(imported_steam_data['release_date'].iloc[0])))\n",
    "\n",
    "literal_eval(imported_steam_data['release_date'].iloc[0])['date']"
   ]
  },
  {
   "cell_type": "markdown",
   "metadata": {},
   "source": [
    "Once extracted, we can use the pd.to_datetime functon to interpret and store dates as datetime objects. This will be particularly useful as it will allow us to search and sort our dataset when it comes to performing analysis. Say for example we only wish to examine games released in 2010, by converting our dates to a python-recognisable format this will be very easy to achieve.\n",
    "\n",
    "As seen below, we can supply the to_datetime function with our date and pandas will automatically interpret the format. We can then inspect it or print an attribute like the year. We can also provide pandas with the format explicitly, so it knows what to look for and how to parse it, which may be [quicker for large sets of data](https://stackoverflow.com/questions/32034689/why-is-pandas-to-datetime-slow-for-non-standard-time-format-such-as-2014-12-31)."
   ]
  },
  {
   "cell_type": "code",
   "execution_count": 56,
   "metadata": {},
   "outputs": [
    {
     "name": "stdout",
     "output_type": "stream",
     "text": [
      "2000-11-01 00:00:00\n",
      "2000\n"
     ]
    },
    {
     "data": {
      "text/plain": [
       "Timestamp('2000-11-01 00:00:00')"
      ]
     },
     "execution_count": 56,
     "metadata": {},
     "output_type": "execute_result"
    }
   ],
   "source": [
    "timestamp = pd.to_datetime(literal_eval(imported_steam_data['release_date'].iloc[0])['date'])\n",
    "\n",
    "print(timestamp)\n",
    "print(timestamp.year)\n",
    "\n",
    "pd.to_datetime(literal_eval(imported_steam_data['release_date'].iloc[0])['date'], format='%d %b, %Y')"
   ]
  },
  {
   "cell_type": "markdown",
   "metadata": {},
   "source": [
    "Now we are ready to begin defining our function. As we only want to keep unreleased games, we first values from the coming_soon key, and keep only those where the value is False. Next we extract the release date, and set missing dates to np.nan, the default way of storing null values in pandas.\n",
    "\n",
    "Then, using the formats we learned previously, we interpret those datesusing the to_datetime function. Once complete we pass over the dataframe once more with a general call to to_datetime, catching any dates we missed.\n",
    "\n",
    "Finally we drop the columns we no longer need and return the dataframe.\n",
    "\n",
    "Whilst functional, the process is quite slow. We can use the %timeit magic to test how long it takes to run our function, and we can see that on average it takes almost four seconds. Whilst manageable, we could certainly benefit from optimising our code, as this could quickly add up in larger data sets, where increasing efficiency can prove invaluable."
   ]
  },
  {
   "cell_type": "code",
   "execution_count": 57,
   "metadata": {},
   "outputs": [
    {
     "name": "stdout",
     "output_type": "stream",
     "text": [
      "3.68 s ± 33.2 ms per loop (mean ± std. dev. of 7 runs, 1 loop each)\n"
     ]
    }
   ],
   "source": [
    "def process_release_date(df):\n",
    "    df = df.copy()\n",
    "    \n",
    "    df['coming_soon'] = df['release_date'].apply(lambda x: literal_eval(x)['coming_soon'])\n",
    "    # Only want to keep released games\n",
    "    df = df[df['coming_soon'] == False].copy()\n",
    "    \n",
    "    # extract release date and set missing dates to null\n",
    "    df['date'] = df['release_date'].apply(lambda x: literal_eval(x)['date'])\n",
    "    df.loc[df['date'] == '', 'date'] = np.nan\n",
    "    \n",
    "    # Parse the date formats we have discovered\n",
    "    df['datetime'] = pd.to_datetime(df['date'], format='%d %b, %Y', errors='ignore')\n",
    "    df['datetime'] = pd.to_datetime(df['datetime'], format='%b %Y', errors='ignore')\n",
    "    \n",
    "    # Parse the rest of the date formats\n",
    "    df['release_date'] = pd.to_datetime(df['datetime'])\n",
    "    \n",
    "    df = df.drop(['coming_soon', 'date', 'datetime'], axis=1)\n",
    "    return df\n",
    "\n",
    "%timeit process_release_date(imported_steam_data)"
   ]
  },
  {
   "cell_type": "markdown",
   "metadata": {},
   "source": [
    "There are a few areas we can investigate to make improvements. When initially parsing the date, we end up calling literal_eval twice, which may be a source of slowdown. We also loop over the entire dataset multiple times when calling the to_datetime function. \n",
    "\n",
    "We'll investigate which part is causing the greatest slowdown, but we can be certain that reducing the traversals over the data set will most likely provide significant gains. There are also a few other issues that we'll dive into over the course of our optimisation process.\n",
    "\n",
    "First, let's find out where the main slowdowns are. As we just saw we can use the %timeit magic to time our function. We can also use the in-built time module to inspect parts of our code."
   ]
  },
  {
   "cell_type": "code",
   "execution_count": 58,
   "metadata": {},
   "outputs": [
    {
     "name": "stdout",
     "output_type": "stream",
     "text": [
      "Evaluation run-time: 0.7187628746032715\n",
      "First parse run-time: 0.005997657775878906\n",
      "Final parse run-time: 2.8425958156585693\n",
      "\n",
      "Total run-time: 3.595338821411133\n"
     ]
    }
   ],
   "source": [
    "def process_release_date(df):\n",
    "    df = df.copy()\n",
    "    \n",
    "    eval_start = time.time()\n",
    "    \n",
    "    df['coming_soon'] = df['release_date'].apply(lambda x: literal_eval(x)['coming_soon'])\n",
    "    df = df[df['coming_soon'] == False].copy()\n",
    "    df['date'] = df['release_date'].apply(lambda x: literal_eval(x)['date'])\n",
    "    \n",
    "    print('Evaluation run-time:', time.time() - eval_start)\n",
    "    \n",
    "    df.loc[df['date'] == '', 'date'] = None\n",
    "    \n",
    "    first_parse_start = time.time()\n",
    "    \n",
    "    df['datetime'] = pd.to_datetime(df['date'], format='%d %b, %Y', errors='ignore')\n",
    "    df['datetime'] = pd.to_datetime(df['datetime'], format='%b %Y', errors='ignore')\n",
    "    \n",
    "    print('First parse run-time:', time.time() - first_parse_start)\n",
    "    \n",
    "    second_parse_start = time.time()\n",
    "    \n",
    "    df['release_date'] = pd.to_datetime(df['datetime'])\n",
    "    \n",
    "    print('Final parse run-time:', time.time() - second_parse_start)\n",
    "    \n",
    "    df = df.drop(['coming_soon', 'date', 'datetime'], axis=1)\n",
    "    return df\n",
    "\n",
    "function_start = time.time()\n",
    "process_release_date(imported_steam_data)\n",
    "print('\\nTotal run-time:', time.time() - function_start)"
   ]
  },
  {
   "cell_type": "markdown",
   "metadata": {},
   "source": [
    "Immediately we can see that the majority of run-time is taken up by the final call to pd.to_datetime. This suggests that the first two calls are not functioning as expected - they are possibly terminating after the first error instead of skipping over it as desired - and most of the work is being done by the final call. Now it makes sense why it is slow - pandas has to figure out how each date is formatted, and since we know we have some variations this may be slowing it down considerably.\n",
    "\n",
    "Whilst the evaluation run-time is much shorter, our multiple calls to literal_eval may be slowing the function as well, so we may wish to investigate that. As we know the biggest slowdown, we should begin there.\n",
    "\n",
    "We now know that handling our dates in their current form is slow, and we know that we have some different formats mixed in there. Whilst there are likely many possible solutions to this problem, using regular expressions (or regex) comes to mind as they tend to excel at pattern matching in strings.\n",
    "\n",
    "We know for sure two of the patterns, so let's build a regex for each of those. Then we can iteratively add more as we discover any other patterns. A powerful and useful tool for building and testing regex can be found at [regexr.com](https://regexr.com/)."
   ]
  },
  {
   "cell_type": "code",
   "execution_count": 59,
   "metadata": {},
   "outputs": [
    {
     "name": "stdout",
     "output_type": "stream",
     "text": [
      "<re.Match object; span=(0, 12), match='13 Jul, 2018'>\n",
      "<re.Match object; span=(0, 8), match='Apr 2016'>\n"
     ]
    }
   ],
   "source": [
    "pattern = r'[\\d]{1,2} [A-Za-z]{3}, [\\d]{4}'\n",
    "string = '13 Jul, 2018'\n",
    "\n",
    "print(re.search(pattern, string))\n",
    "\n",
    "pattern = r'[A-Za-z]{3} [\\d]{4}'\n",
    "string = 'Apr 2016'\n",
    "\n",
    "print(re.search(pattern, string))"
   ]
  },
  {
   "cell_type": "markdown",
   "metadata": {},
   "source": [
    "Using these two patterns we can start building out our function. We're going to apply a function to the date column which searches for each pattern, returning a standardised date string which we will then feed into the to_datetime function.\n",
    "\n",
    "Our first search matches the 'mmm yyyy' pattern, like 'Apr 2019'. As we don't know the particular day for these matches we will assume it is the first of the month, returning '1 Apr 2019' in this example.\n",
    "\n",
    "If we don't match this, we'll check for the second case. Our second match will be the 'dd mmm, yyyy' pattern, like '13 Jul, 2018'. In this case we will simply return the match with the comma removed, to become '13 Jul 2018'.\n",
    "\n",
    "Finally we'll check for the empty string, and return it for now.\n",
    "\n",
    "For anything else we'll simply print the string so we know what else we should be searching for."
   ]
  },
  {
   "cell_type": "code",
   "execution_count": 60,
   "metadata": {},
   "outputs": [],
   "source": [
    "def process_release_date(df):\n",
    "    df = df.copy()\n",
    "    \n",
    "    df['coming_soon'] = df['release_date'].apply(lambda x: literal_eval(x)['coming_soon'])\n",
    "    df = df[df['coming_soon'] == False].copy()\n",
    "    df['date'] = df['release_date'].apply(lambda x: literal_eval(x)['date'])\n",
    "    \n",
    "    def parse_date(x):\n",
    "        if re.search(r'[A-Za-z]{3} [\\d]{4}', x):\n",
    "            return '1 ' + x \n",
    "        elif re.search(r'[\\d]{1,2} [A-Za-z]{3}, [\\d]{4}', x):\n",
    "            return x.replace(',', '')\n",
    "        elif x == '':\n",
    "            return x\n",
    "        else:\n",
    "            print(x)\n",
    "            \n",
    "    df['date'] = df['date'].apply(parse_date)\n",
    "    df['release_date'] = pd.to_datetime(df['date'], infer_datetime_format=True)\n",
    "    \n",
    "    df = df.drop(['coming_soon', 'date'], axis=1)\n",
    "    \n",
    "    return df\n",
    "\n",
    "result = process_release_date(imported_steam_data)"
   ]
  },
  {
   "cell_type": "markdown",
   "metadata": {},
   "source": [
    "It looks like we've caught all of the patterns and don't have any to take care of.\n",
    "\n",
    "Previously we used the `infer_datetime_format` parameter of to_datetime, which can speed up the process. However, as we now know exactly the format our dates will be in, we can explicitly set it ourselves, which should be the fastest way of doing things.\n",
    "\n",
    "We also need to decide how to handle our missing dates - those with the empty strings. For now let's change the way the function handles errors from raise to coerce, which returns NaT (not a time) instead.\n",
    "\n",
    "We can now rewrite our function and time it as we did before."
   ]
  },
  {
   "cell_type": "code",
   "execution_count": 61,
   "metadata": {},
   "outputs": [
    {
     "name": "stdout",
     "output_type": "stream",
     "text": [
      "Testing date parsing:\n",
      "\n",
      "3.57 s ± 6.67 ms per loop (mean ± std. dev. of 7 runs, 1 loop each)\n",
      "877 ms ± 1.62 ms per loop (mean ± std. dev. of 7 runs, 1 loop each)\n"
     ]
    }
   ],
   "source": [
    "def process_release_date_old(df):\n",
    "    df = df.copy()\n",
    "    \n",
    "    df['coming_soon'] = df['release_date'].apply(lambda x: literal_eval(x)['coming_soon'])\n",
    "    df = df[df['coming_soon'] == False].copy()\n",
    "    df['date'] = df['release_date'].apply(lambda x: literal_eval(x)['date'])\n",
    "    \n",
    "    # Simple parsing\n",
    "    df['release_date'] = pd.to_datetime(df['date'])\n",
    "    \n",
    "    df = df.drop(['coming_soon', 'date'], axis=1)\n",
    "    \n",
    "    return df\n",
    "\n",
    "\n",
    "def process_release_date_new(df):\n",
    "    df = df.copy()\n",
    "    \n",
    "    df['coming_soon'] = df['release_date'].apply(lambda x: literal_eval(x)['coming_soon'])\n",
    "    df = df[df['coming_soon'] == False].copy()\n",
    "    df['date'] = df['release_date'].apply(lambda x: literal_eval(x)['date'])\n",
    "    \n",
    "    # Complex parsing\n",
    "    def parse_date(x):\n",
    "        if re.search(r'[A-Za-z]{3} [\\d]{4}', x):\n",
    "            return '1 ' + x\n",
    "        elif re.search(r'[\\d]{1,2} [A-Za-z]{3}, [\\d]{4}', x):\n",
    "            return x.replace(',', '')\n",
    "        elif x == '':\n",
    "            return x\n",
    "        else:\n",
    "            # Should be everything, print out anything left just in case\n",
    "            print(x)\n",
    "            \n",
    "    df['date'] = df['date'].apply(parse_date)\n",
    "    df['release_date'] = pd.to_datetime(df['date'], format='%d %b %Y', errors='coerce')\n",
    "    \n",
    "    df = df.drop(['coming_soon', 'date'], axis=1)\n",
    "    \n",
    "    return df\n",
    "\n",
    "print('Testing date parsing:\\n')\n",
    "%timeit process_release_date_old(imported_steam_data)\n",
    "%timeit process_release_date_new(imported_steam_data)"
   ]
  },
  {
   "cell_type": "markdown",
   "metadata": {},
   "source": [
    "Our results show that the new method is almost four times faster, so we're on the right track.\n",
    "\n",
    "Another optimisation we can make here is checking which part of the if/elif statements has the most matches. It makes sense to order our statements from most matches to least, so for the majority of rows we only have to search through once. \n",
    "\n",
    "To do this, instead of returning the date we'll return a number for each match. We can then print the value counts for the column and see which is the most frequent."
   ]
  },
  {
   "cell_type": "code",
   "execution_count": 62,
   "metadata": {},
   "outputs": [
    {
     "data": {
      "text/plain": [
       "1: dd mmm, yyyy    27275\n",
       "0: mmm yyyy           57\n",
       "2: empty              22\n",
       "Name: release_date, dtype: int64"
      ]
     },
     "execution_count": 62,
     "metadata": {},
     "output_type": "execute_result"
    }
   ],
   "source": [
    "def optimise_regex_order(df):\n",
    "    df = df.copy()\n",
    "    \n",
    "    df['coming_soon'] = df['release_date'].apply(lambda x: literal_eval(x)['coming_soon'])\n",
    "    df = df[df['coming_soon'] == False].copy()\n",
    "    df['date'] = df['release_date'].apply(lambda x: literal_eval(x)['date'])\n",
    "    \n",
    "    def parse_date(x):\n",
    "        if re.search(r'[A-Za-z]{3} [\\d]{4}', x):\n",
    "            return '0: mmm yyyy' # '1 ' + x\n",
    "        elif re.search(r'[\\d]{1,2} [A-Za-z]{3}, [\\d]{4}', x):\n",
    "            return '1: dd mmm, yyyy' # x.replace(',', '')\n",
    "        elif x == '':\n",
    "            return '2: empty' # pass\n",
    "        else:\n",
    "            # Should be everything, print out anything left just in case\n",
    "            print(x)\n",
    "            \n",
    "    df['release_date'] = df['date'].apply(parse_date)\n",
    "    \n",
    "    return df\n",
    "\n",
    "\n",
    "result = optimise_regex_order(imported_steam_data)\n",
    "\n",
    "result['release_date'].value_counts()"
   ]
  },
  {
   "cell_type": "markdown",
   "metadata": {},
   "source": [
    "By far the majority of dates are in the 'dd mmm, yyyy' format, which is second in our if/else statements. This means that for all these rows we are unnecessarily searching the string twice. Simply by reordering our searches we should see a minor performance improvement."
   ]
  },
  {
   "cell_type": "code",
   "execution_count": 63,
   "metadata": {},
   "outputs": [
    {
     "name": "stdout",
     "output_type": "stream",
     "text": [
      "819 ms ± 5.34 ms per loop (mean ± std. dev. of 7 runs, 1 loop each)\n",
      "782 ms ± 1.61 ms per loop (mean ± std. dev. of 7 runs, 1 loop each)\n"
     ]
    }
   ],
   "source": [
    "def process_release_date_unordered(df):\n",
    "    df = df.copy()\n",
    "    \n",
    "    df['coming_soon'] = df['release_date'].apply(lambda x: literal_eval(x)['coming_soon'])\n",
    "    df = df[df['coming_soon'] == False].copy()\n",
    "    df['date'] = df['release_date'].apply(lambda x: literal_eval(x)['date'])\n",
    "    \n",
    "    def parse_date(x):\n",
    "        if re.search(r'[A-Za-z]{3} [\\d]{4}', x):\n",
    "            return '1 ' + x\n",
    "        elif re.search(r'[\\d]{1,2} [A-Za-z]{3}, [\\d]{4}', x):\n",
    "            return x.replace(',', '')\n",
    "        elif x == '':\n",
    "            return x\n",
    "        else:\n",
    "            # Should be everything, print out anything left just in case\n",
    "            print(x)\n",
    "            \n",
    "    df['release_date'] = df['date'].apply(parse_date)\n",
    "    df['release_date'] = pd.to_datetime(df['date'], format='%d %b %Y', errors='coerce')\n",
    "    df = df.drop(['coming_soon', 'date'], axis=1)\n",
    "    \n",
    "    return df\n",
    "\n",
    "\n",
    "def process_release_date_ordered(df):\n",
    "    df = df.copy()\n",
    "    \n",
    "    df['coming_soon'] = df['release_date'].apply(lambda x: literal_eval(x)['coming_soon'])\n",
    "    df = df[df['coming_soon'] == False].copy()\n",
    "    df['date'] = df['release_date'].apply(lambda x: literal_eval(x)['date'])\n",
    "    \n",
    "    def parse_date(x):\n",
    "        if re.search(r'[\\d]{1,2} [A-Za-z]{3}, [\\d]{4}', x):\n",
    "            return x.replace(',', '')\n",
    "        elif re.search(r'[A-Za-z]{3} [\\d]{4}', x):\n",
    "            return '1 ' + x\n",
    "        elif x == '':\n",
    "            return x\n",
    "        else:\n",
    "            # Should be everything, print out anything left just in case\n",
    "            print(x)\n",
    "            \n",
    "    df['release_date'] = df['date'].apply(parse_date)\n",
    "    df['release_date'] = pd.to_datetime(df['date'], format='%d %b %Y', errors='coerce')\n",
    "    df = df.drop(['coming_soon', 'date'], axis=1)\n",
    "    \n",
    "    return df\n",
    "\n",
    "\n",
    "%timeit process_release_date_unordered(imported_steam_data)\n",
    "%timeit process_release_date_ordered(imported_steam_data)"
   ]
  },
  {
   "cell_type": "markdown",
   "metadata": {},
   "source": [
    "It's an improvement, if only slightly, so we'll keep it. If anything this goes to show how fast regex pattern matching is, as there was hardly any slowdown in searching every string twice.\n",
    "\n",
    "Now parsing is well-optimised we can move on to the evaluation section."
   ]
  },
  {
   "cell_type": "code",
   "execution_count": 64,
   "metadata": {},
   "outputs": [
    {
     "name": "stdout",
     "output_type": "stream",
     "text": [
      "714 ms ± 1.55 ms per loop (mean ± std. dev. of 7 runs, 1 loop each)\n",
      "373 ms ± 738 µs per loop (mean ± std. dev. of 7 runs, 1 loop each)\n",
      "369 ms ± 1.02 ms per loop (mean ± std. dev. of 7 runs, 1 loop each)\n",
      "356 ms ± 848 µs per loop (mean ± std. dev. of 7 runs, 1 loop each)\n"
     ]
    }
   ],
   "source": [
    "# Testing evaluation methods\n",
    "def evaluation_method_original(df):\n",
    "    df = df.copy()\n",
    "    \n",
    "    df['coming_soon'] = df['release_date'].apply(lambda x: literal_eval(x)['coming_soon'])    \n",
    "    df = df[df['coming_soon'] == False].copy()\n",
    "    df['release_date'] = df['release_date'].apply(lambda x: literal_eval(x)['date'])\n",
    "    \n",
    "    return df\n",
    "\n",
    "\n",
    "def evaluation_method_1(df):\n",
    "    df = df.copy()\n",
    "    \n",
    "    df['release_date'] = df['release_date'].apply(lambda x: literal_eval(x))\n",
    "    \n",
    "    df['coming_soon'] = df['release_date'].apply(lambda x: x['coming_soon'])\n",
    "    df = df[df['coming_soon'] == False].copy()\n",
    "    \n",
    "    df['release_date'] = df['release_date'].apply(lambda x: x['date'])\n",
    "    \n",
    "    return df\n",
    "\n",
    "\n",
    "def evaluation_method_2(df):\n",
    "    df = df.copy()\n",
    "    \n",
    "    df['release_date'] = df['release_date'].apply(lambda x: literal_eval(x))\n",
    "    df_2 = df['release_date'].transform([lambda x: x['coming_soon'], lambda x: x['date']])\n",
    "    df = pd.concat([df, df_2], axis=1)\n",
    "    \n",
    "    return df\n",
    "\n",
    "\n",
    "def evaluation_method_3(df):\n",
    "    df = df.copy()\n",
    "    \n",
    "    def eval_date(x):\n",
    "        x = literal_eval(x)\n",
    "        if x['coming_soon']:\n",
    "            return np.nan\n",
    "        else:\n",
    "            return x['date']\n",
    "    \n",
    "    df['release_date'] = df['release_date'].apply(eval_date)\n",
    "    df = df[df['release_date'].notnull()]  # could change to drop when '' and deal with missing release dates also\n",
    "    \n",
    "    return df\n",
    "\n",
    "\n",
    "%timeit evaluation_method_original(imported_steam_data)\n",
    "\n",
    "%timeit evaluation_method_1(imported_steam_data)\n",
    "%timeit evaluation_method_2(imported_steam_data)\n",
    "%timeit evaluation_method_3(imported_steam_data)"
   ]
  },
  {
   "cell_type": "markdown",
   "metadata": {},
   "source": [
    "It looks like we may have been right in our assumption that multiple calls to literal_eval were slowing down the function - by calling it once instead of twice we almost halved the run-time.\n",
    "\n",
    "Of our new methods the final one was just about the fastest, which is useful because it contains flexible custom logic we can modify if needed. Let's put everything together into our final function, and time it once more to see the improvements we've made.\n",
    "\n",
    "We'll make a couple of changes so we can easily remove missing values at the end, which should mean we end up with clean release dates."
   ]
  },
  {
   "cell_type": "code",
   "execution_count": 65,
   "metadata": {},
   "outputs": [
    {
     "name": "stdout",
     "output_type": "stream",
     "text": [
      "483 ms ± 813 µs per loop (mean ± std. dev. of 7 runs, 1 loop each)\n"
     ]
    }
   ],
   "source": [
    "def process_release_date(df):\n",
    "    df = df.copy()\n",
    "    \n",
    "    def eval_date(x):\n",
    "        x = literal_eval(x)\n",
    "        if x['coming_soon']:\n",
    "            return '' # return blank string so can drop missing at end\n",
    "        else:\n",
    "            return x['date']\n",
    "    \n",
    "    df['release_date'] = df['release_date'].apply(eval_date)\n",
    "    \n",
    "    def parse_date(x):\n",
    "        if re.search(r'[\\d]{1,2} [A-Za-z]{3}, [\\d]{4}', x):\n",
    "            return x.replace(',', '')\n",
    "        elif re.search(r'[A-Za-z]{3} [\\d]{4}', x):\n",
    "            return '1 ' + x\n",
    "        elif x == '':\n",
    "            return np.nan\n",
    "        else:\n",
    "            # Should be everything, print out anything left just in case\n",
    "            print(x)\n",
    "            \n",
    "    df['release_date'] = df['release_date'].apply(parse_date)\n",
    "    df['release_date'] = pd.to_datetime(df['release_date'], format='%d %b %Y', errors='coerce')\n",
    "    \n",
    "    df = df[df['release_date'].notnull()]\n",
    "    \n",
    "    return df\n",
    "\n",
    "%timeit process_release_date(imported_steam_data)"
   ]
  },
  {
   "cell_type": "markdown",
   "metadata": {},
   "source": [
    "Referring back to our original time of 3.6s, we've achieved a 7x speed increase. That's almost an order of magnitude improvement. "
   ]
  }
 ],
 "metadata": {
  "kernelspec": {
   "display_name": "Python 3",
   "language": "python",
   "name": "python3"
  },
  "language_info": {
   "codemirror_mode": {
    "name": "ipython",
    "version": 3
   },
   "file_extension": ".py",
   "mimetype": "text/x-python",
   "name": "python",
   "nbconvert_exporter": "python",
   "pygments_lexer": "ipython3",
   "version": "3.7.3"
  }
 },
 "nbformat": 4,
 "nbformat_minor": 2
}
