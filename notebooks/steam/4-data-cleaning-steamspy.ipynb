{
 "cells": [
  {
   "cell_type": "markdown",
   "metadata": {},
   "source": [
    "# Steamspy Data Cleaning\n",
    "\n",
    "*This forms part of a larger series of posts for my [blog](http://nik-davis.github.io) on downloading, processing and analysing data from the steam store. [See all posts here](http://nik-davis.github.io/tag/steam).*"
   ]
  },
  {
   "cell_type": "code",
   "execution_count": 29,
   "metadata": {},
   "outputs": [
    {
     "name": "stdout",
     "output_type": "stream",
     "text": [
      "The version_information extension is already loaded. To reload it, use:\n",
      "  %reload_ext version_information\n"
     ]
    },
    {
     "data": {
      "application/json": {
       "Software versions": [
        {
         "module": "Python",
         "version": "3.7.3 64bit [MSC v.1900 64 bit (AMD64)]"
        },
        {
         "module": "IPython",
         "version": "7.5.0"
        },
        {
         "module": "OS",
         "version": "Windows 10 10.0.18362 SP0"
        },
        {
         "module": "numpy",
         "version": "1.16.3"
        },
        {
         "module": "pandas",
         "version": "0.24.2"
        }
       ]
      },
      "text/html": [
       "<table><tr><th>Software</th><th>Version</th></tr><tr><td>Python</td><td>3.7.3 64bit [MSC v.1900 64 bit (AMD64)]</td></tr><tr><td>IPython</td><td>7.5.0</td></tr><tr><td>OS</td><td>Windows 10 10.0.18362 SP0</td></tr><tr><td>numpy</td><td>1.16.3</td></tr><tr><td>pandas</td><td>0.24.2</td></tr><tr><td colspan='2'>Fri Jun 07 17:39:11 2019 GMT Summer Time</td></tr></table>"
      ],
      "text/latex": [
       "\\begin{tabular}{|l|l|}\\hline\n",
       "{\\bf Software} & {\\bf Version} \\\\ \\hline\\hline\n",
       "Python & 3.7.3 64bit [MSC v.1900 64 bit (AMD64)] \\\\ \\hline\n",
       "IPython & 7.5.0 \\\\ \\hline\n",
       "OS & Windows 10 10.0.18362 SP0 \\\\ \\hline\n",
       "numpy & 1.16.3 \\\\ \\hline\n",
       "pandas & 0.24.2 \\\\ \\hline\n",
       "\\hline \\multicolumn{2}{|l|}{Fri Jun 07 17:39:11 2019 GMT Summer Time} \\\\ \\hline\n",
       "\\end{tabular}\n"
      ],
      "text/plain": [
       "Software versions\n",
       "Python 3.7.3 64bit [MSC v.1900 64 bit (AMD64)]\n",
       "IPython 7.5.0\n",
       "OS Windows 10 10.0.18362 SP0\n",
       "numpy 1.16.3\n",
       "pandas 0.24.2\n",
       "Fri Jun 07 17:39:11 2019 GMT Summer Time"
      ]
     },
     "execution_count": 29,
     "metadata": {},
     "output_type": "execute_result"
    }
   ],
   "source": [
    "# view software version information\n",
    "\n",
    "# http://raw.github.com/jrjohansson/version_information/master/version_information.py\n",
    "%load_ext version_information\n",
    "%reload_ext version_information\n",
    "\n",
    "%version_information numpy, pandas"
   ]
  },
  {
   "cell_type": "code",
   "execution_count": 30,
   "metadata": {},
   "outputs": [],
   "source": [
    "# standard library imports\n",
    "from ast import literal_eval\n",
    "import itertools\n",
    "import time\n",
    "import re\n",
    "\n",
    "# third-party imports\n",
    "import numpy as np\n",
    "import pandas as pd\n",
    "\n",
    "# customisations\n",
    "pd.set_option(\"max_columns\", 100)"
   ]
  },
  {
   "cell_type": "code",
   "execution_count": 31,
   "metadata": {},
   "outputs": [
    {
     "data": {
      "text/html": [
       "<div>\n",
       "<style scoped>\n",
       "    .dataframe tbody tr th:only-of-type {\n",
       "        vertical-align: middle;\n",
       "    }\n",
       "\n",
       "    .dataframe tbody tr th {\n",
       "        vertical-align: top;\n",
       "    }\n",
       "\n",
       "    .dataframe thead th {\n",
       "        text-align: right;\n",
       "    }\n",
       "</style>\n",
       "<table border=\"1\" class=\"dataframe\">\n",
       "  <thead>\n",
       "    <tr style=\"text-align: right;\">\n",
       "      <th></th>\n",
       "      <th>appid</th>\n",
       "      <th>name</th>\n",
       "      <th>developer</th>\n",
       "      <th>publisher</th>\n",
       "      <th>score_rank</th>\n",
       "      <th>positive</th>\n",
       "      <th>negative</th>\n",
       "      <th>userscore</th>\n",
       "      <th>owners</th>\n",
       "      <th>average_forever</th>\n",
       "      <th>average_2weeks</th>\n",
       "      <th>median_forever</th>\n",
       "      <th>median_2weeks</th>\n",
       "      <th>price</th>\n",
       "      <th>initialprice</th>\n",
       "      <th>discount</th>\n",
       "      <th>languages</th>\n",
       "      <th>genre</th>\n",
       "      <th>ccu</th>\n",
       "      <th>tags</th>\n",
       "    </tr>\n",
       "  </thead>\n",
       "  <tbody>\n",
       "    <tr>\n",
       "      <th>0</th>\n",
       "      <td>10</td>\n",
       "      <td>Counter-Strike</td>\n",
       "      <td>Valve</td>\n",
       "      <td>Valve</td>\n",
       "      <td>NaN</td>\n",
       "      <td>124534</td>\n",
       "      <td>3339</td>\n",
       "      <td>0</td>\n",
       "      <td>10,000,000 .. 20,000,000</td>\n",
       "      <td>17612</td>\n",
       "      <td>709</td>\n",
       "      <td>317</td>\n",
       "      <td>26</td>\n",
       "      <td>999.0</td>\n",
       "      <td>999.0</td>\n",
       "      <td>0.0</td>\n",
       "      <td>English, French, German, Italian, Spanish - Sp...</td>\n",
       "      <td>Action</td>\n",
       "      <td>14923</td>\n",
       "      <td>{'Action': 2681, 'FPS': 2048, 'Multiplayer': 1...</td>\n",
       "    </tr>\n",
       "    <tr>\n",
       "      <th>1</th>\n",
       "      <td>20</td>\n",
       "      <td>Team Fortress Classic</td>\n",
       "      <td>Valve</td>\n",
       "      <td>Valve</td>\n",
       "      <td>NaN</td>\n",
       "      <td>3318</td>\n",
       "      <td>633</td>\n",
       "      <td>0</td>\n",
       "      <td>5,000,000 .. 10,000,000</td>\n",
       "      <td>277</td>\n",
       "      <td>15</td>\n",
       "      <td>62</td>\n",
       "      <td>15</td>\n",
       "      <td>499.0</td>\n",
       "      <td>499.0</td>\n",
       "      <td>0.0</td>\n",
       "      <td>English, French, German, Italian, Spanish - Sp...</td>\n",
       "      <td>Action</td>\n",
       "      <td>87</td>\n",
       "      <td>{'Action': 208, 'FPS': 188, 'Multiplayer': 172...</td>\n",
       "    </tr>\n",
       "    <tr>\n",
       "      <th>2</th>\n",
       "      <td>30</td>\n",
       "      <td>Day of Defeat</td>\n",
       "      <td>Valve</td>\n",
       "      <td>Valve</td>\n",
       "      <td>NaN</td>\n",
       "      <td>3416</td>\n",
       "      <td>398</td>\n",
       "      <td>0</td>\n",
       "      <td>5,000,000 .. 10,000,000</td>\n",
       "      <td>187</td>\n",
       "      <td>0</td>\n",
       "      <td>34</td>\n",
       "      <td>0</td>\n",
       "      <td>499.0</td>\n",
       "      <td>499.0</td>\n",
       "      <td>0.0</td>\n",
       "      <td>English, French, German, Italian, Spanish - Spain</td>\n",
       "      <td>Action</td>\n",
       "      <td>130</td>\n",
       "      <td>{'FPS': 138, 'World War II': 122, 'Multiplayer...</td>\n",
       "    </tr>\n",
       "    <tr>\n",
       "      <th>3</th>\n",
       "      <td>40</td>\n",
       "      <td>Deathmatch Classic</td>\n",
       "      <td>Valve</td>\n",
       "      <td>Valve</td>\n",
       "      <td>NaN</td>\n",
       "      <td>1273</td>\n",
       "      <td>267</td>\n",
       "      <td>0</td>\n",
       "      <td>5,000,000 .. 10,000,000</td>\n",
       "      <td>258</td>\n",
       "      <td>0</td>\n",
       "      <td>184</td>\n",
       "      <td>0</td>\n",
       "      <td>499.0</td>\n",
       "      <td>499.0</td>\n",
       "      <td>0.0</td>\n",
       "      <td>English, French, German, Italian, Spanish - Sp...</td>\n",
       "      <td>Action</td>\n",
       "      <td>4</td>\n",
       "      <td>{'Action': 85, 'FPS': 71, 'Multiplayer': 58, '...</td>\n",
       "    </tr>\n",
       "    <tr>\n",
       "      <th>4</th>\n",
       "      <td>50</td>\n",
       "      <td>Half-Life: Opposing Force</td>\n",
       "      <td>Gearbox Software</td>\n",
       "      <td>Valve</td>\n",
       "      <td>NaN</td>\n",
       "      <td>5250</td>\n",
       "      <td>288</td>\n",
       "      <td>0</td>\n",
       "      <td>5,000,000 .. 10,000,000</td>\n",
       "      <td>624</td>\n",
       "      <td>0</td>\n",
       "      <td>415</td>\n",
       "      <td>0</td>\n",
       "      <td>499.0</td>\n",
       "      <td>499.0</td>\n",
       "      <td>0.0</td>\n",
       "      <td>English, French, German, Korean</td>\n",
       "      <td>Action</td>\n",
       "      <td>71</td>\n",
       "      <td>{'FPS': 235, 'Action': 211, 'Sci-fi': 166, 'Si...</td>\n",
       "    </tr>\n",
       "  </tbody>\n",
       "</table>\n",
       "</div>"
      ],
      "text/plain": [
       "   appid                       name         developer publisher  score_rank  \\\n",
       "0     10             Counter-Strike             Valve     Valve         NaN   \n",
       "1     20      Team Fortress Classic             Valve     Valve         NaN   \n",
       "2     30              Day of Defeat             Valve     Valve         NaN   \n",
       "3     40         Deathmatch Classic             Valve     Valve         NaN   \n",
       "4     50  Half-Life: Opposing Force  Gearbox Software     Valve         NaN   \n",
       "\n",
       "   positive  negative  userscore                    owners  average_forever  \\\n",
       "0    124534      3339          0  10,000,000 .. 20,000,000            17612   \n",
       "1      3318       633          0   5,000,000 .. 10,000,000              277   \n",
       "2      3416       398          0   5,000,000 .. 10,000,000              187   \n",
       "3      1273       267          0   5,000,000 .. 10,000,000              258   \n",
       "4      5250       288          0   5,000,000 .. 10,000,000              624   \n",
       "\n",
       "   average_2weeks  median_forever  median_2weeks  price  initialprice  \\\n",
       "0             709             317             26  999.0         999.0   \n",
       "1              15              62             15  499.0         499.0   \n",
       "2               0              34              0  499.0         499.0   \n",
       "3               0             184              0  499.0         499.0   \n",
       "4               0             415              0  499.0         499.0   \n",
       "\n",
       "   discount                                          languages   genre    ccu  \\\n",
       "0       0.0  English, French, German, Italian, Spanish - Sp...  Action  14923   \n",
       "1       0.0  English, French, German, Italian, Spanish - Sp...  Action     87   \n",
       "2       0.0  English, French, German, Italian, Spanish - Spain  Action    130   \n",
       "3       0.0  English, French, German, Italian, Spanish - Sp...  Action      4   \n",
       "4       0.0                    English, French, German, Korean  Action     71   \n",
       "\n",
       "                                                tags  \n",
       "0  {'Action': 2681, 'FPS': 2048, 'Multiplayer': 1...  \n",
       "1  {'Action': 208, 'FPS': 188, 'Multiplayer': 172...  \n",
       "2  {'FPS': 138, 'World War II': 122, 'Multiplayer...  \n",
       "3  {'Action': 85, 'FPS': 71, 'Multiplayer': 58, '...  \n",
       "4  {'FPS': 235, 'Action': 211, 'Sci-fi': 166, 'Si...  "
      ]
     },
     "execution_count": 31,
     "metadata": {},
     "output_type": "execute_result"
    }
   ],
   "source": [
    "raw_steamspy_data = pd.read_csv('../data/raw/steamspy_data.csv')\n",
    "raw_steamspy_data.head()"
   ]
  },
  {
   "cell_type": "code",
   "execution_count": null,
   "metadata": {},
   "outputs": [],
   "source": [
    "raw_steamspy_data.isnull().sum()"
   ]
  },
  {
   "cell_type": "code",
   "execution_count": null,
   "metadata": {
    "scrolled": true
   },
   "outputs": [],
   "source": [
    "# for col in raw_steamspy_data.columns:\n",
    "#     print('\\n\\n', col, '\\n\\n')\n",
    "#     display(raw_steamspy_data[raw_steamspy_data[col].isnull()].head())"
   ]
  },
  {
   "cell_type": "code",
   "execution_count": null,
   "metadata": {
    "scrolled": false
   },
   "outputs": [],
   "source": [
    "# for col in raw_steamspy_data.columns:\n",
    "#     print('----------------', col, '----------------')\n",
    "#     display(raw_steamspy_data[col].value_counts().head())"
   ]
  },
  {
   "cell_type": "code",
   "execution_count": null,
   "metadata": {},
   "outputs": [],
   "source": [
    "raw_steamspy_data['tags'].max()"
   ]
  },
  {
   "cell_type": "code",
   "execution_count": null,
   "metadata": {
    "scrolled": true
   },
   "outputs": [],
   "source": [
    "raw_steamspy_data['owners'].value_counts()"
   ]
  },
  {
   "cell_type": "code",
   "execution_count": null,
   "metadata": {},
   "outputs": [],
   "source": [
    "i = 0\n",
    "while i < 10:\n",
    "    print(10**i, end=', ')\n",
    "    i += 1\n",
    "    \n",
    "ml = [10**i for i in range(8)]\n",
    "ml"
   ]
  },
  {
   "cell_type": "code",
   "execution_count": null,
   "metadata": {},
   "outputs": [],
   "source": [
    "raw_steamspy_data['positive'].max()"
   ]
  },
  {
   "cell_type": "code",
   "execution_count": null,
   "metadata": {},
   "outputs": [],
   "source": [
    "pd.cut(raw_steamspy_data['positive'], bins=[10**i for i in range(8)]).value_counts()"
   ]
  },
  {
   "cell_type": "code",
   "execution_count": null,
   "metadata": {},
   "outputs": [],
   "source": [
    "pd.cut(raw_steamspy_data['negative'], bins=[10**i for i in range(8)]).value_counts()"
   ]
  },
  {
   "cell_type": "code",
   "execution_count": null,
   "metadata": {},
   "outputs": [],
   "source": [
    "pos = pd.cut(raw_steamspy_data['positive'], bins=[10**i for i in range(8)])\n",
    "neg = pd.cut(raw_steamspy_data['negative'], bins=[10**i for i in range(8)])\n",
    "\n",
    "div = raw_steamspy_data['positive'] / raw_steamspy_data['negative']\n",
    "pd.cut(div, bins=[0, 1, 5, 10, 100]).value_counts()"
   ]
  },
  {
   "cell_type": "code",
   "execution_count": null,
   "metadata": {},
   "outputs": [],
   "source": [
    "raw_steamspy_data['userscore'].value_counts()"
   ]
  },
  {
   "cell_type": "code",
   "execution_count": null,
   "metadata": {},
   "outputs": [],
   "source": [
    "drop_score = raw_steamspy_data.drop(['userscore', 'score_rank'], axis=1)\n",
    "drop_score.head()"
   ]
  },
  {
   "cell_type": "code",
   "execution_count": null,
   "metadata": {
    "scrolled": true
   },
   "outputs": [],
   "source": [
    "drop_score['average_2weeks'].value_counts().head()"
   ]
  },
  {
   "cell_type": "code",
   "execution_count": null,
   "metadata": {
    "scrolled": true
   },
   "outputs": [],
   "source": [
    "drop_score['median_2weeks'].value_counts().head()"
   ]
  },
  {
   "cell_type": "code",
   "execution_count": null,
   "metadata": {},
   "outputs": [],
   "source": [
    "drop_2weeks = drop_score.drop(['average_2weeks', 'median_2weeks'], axis=1)\n",
    "drop_2weeks.head()"
   ]
  },
  {
   "cell_type": "code",
   "execution_count": null,
   "metadata": {
    "scrolled": true
   },
   "outputs": [],
   "source": [
    "drop_2weeks['average_forever'].value_counts().head()"
   ]
  },
  {
   "cell_type": "code",
   "execution_count": null,
   "metadata": {},
   "outputs": [],
   "source": [
    "drop_2weeks['median_forever'].value_counts().head()"
   ]
  },
  {
   "cell_type": "code",
   "execution_count": null,
   "metadata": {},
   "outputs": [],
   "source": [
    "drop_2weeks['price'].value_counts().head()"
   ]
  },
  {
   "cell_type": "code",
   "execution_count": null,
   "metadata": {},
   "outputs": [],
   "source": [
    "drop_2weeks['initialprice'].value_counts().head()"
   ]
  },
  {
   "cell_type": "code",
   "execution_count": null,
   "metadata": {},
   "outputs": [],
   "source": [
    "drop_2weeks['discount'].value_counts().head()"
   ]
  },
  {
   "cell_type": "code",
   "execution_count": null,
   "metadata": {},
   "outputs": [],
   "source": [
    "drop_2weeks[drop_2weeks['initialprice'].isnull()].head()"
   ]
  },
  {
   "cell_type": "code",
   "execution_count": null,
   "metadata": {},
   "outputs": [],
   "source": [
    "drop_2weeks[drop_2weeks['price'].isnull()]"
   ]
  },
  {
   "cell_type": "code",
   "execution_count": null,
   "metadata": {},
   "outputs": [],
   "source": [
    "drop_2weeks[drop_2weeks['initialprice'] < drop_2weeks['price']]"
   ]
  },
  {
   "cell_type": "code",
   "execution_count": null,
   "metadata": {},
   "outputs": [],
   "source": [
    "drop_price_nulls = drop_2weeks[drop_2weeks['price'].notnull()].copy()\n",
    "drop_price_nulls.isnull().sum()"
   ]
  },
  {
   "cell_type": "code",
   "execution_count": null,
   "metadata": {},
   "outputs": [],
   "source": [
    "drop_price_nulls[drop_price_nulls['name'].isnull()]"
   ]
  },
  {
   "cell_type": "code",
   "execution_count": null,
   "metadata": {},
   "outputs": [],
   "source": [
    "drop_name_nulls = drop_price_nulls[drop_price_nulls['name'].notnull()].copy()\n",
    "drop_name_nulls.isnull().sum()"
   ]
  },
  {
   "cell_type": "code",
   "execution_count": null,
   "metadata": {
    "scrolled": true
   },
   "outputs": [],
   "source": [
    "drop_name_nulls[drop_name_nulls['genre'].isnull()].head()"
   ]
  },
  {
   "cell_type": "code",
   "execution_count": null,
   "metadata": {},
   "outputs": [],
   "source": [
    "drop_name_nulls[drop_name_nulls['languages'].isnull()]"
   ]
  },
  {
   "cell_type": "code",
   "execution_count": null,
   "metadata": {},
   "outputs": [],
   "source": [
    "drop_lang_genre_nulls = drop_name_nulls[(drop_name_nulls['languages'].notnull()) & (drop_name_nulls['genre'].notnull())]\n",
    "drop_lang_genre_nulls.isnull().sum()"
   ]
  },
  {
   "cell_type": "code",
   "execution_count": null,
   "metadata": {
    "scrolled": false
   },
   "outputs": [],
   "source": [
    "drop_lang_genre_nulls[drop_lang_genre_nulls['name'].str.contains(r'\\bdemo\\b', flags=re.I)].head()"
   ]
  },
  {
   "cell_type": "code",
   "execution_count": null,
   "metadata": {},
   "outputs": [],
   "source": [
    "drop_demos = drop_lang_genre_nulls[~drop_lang_genre_nulls['name'].str.contains(r'\\bdemo\\b', flags=re.I)]"
   ]
  },
  {
   "cell_type": "code",
   "execution_count": null,
   "metadata": {},
   "outputs": [],
   "source": [
    "drop_demos[drop_demos['name'].str.contains(r'\\bbeta\\b', flags=re.I)].head()"
   ]
  },
  {
   "cell_type": "code",
   "execution_count": null,
   "metadata": {},
   "outputs": [],
   "source": [
    "drop_betas = drop_demos[~drop_demos['name'].str.contains(r'\\bbeta\\b', flags=re.I)].copy()\n",
    "drop_betas.isnull().sum()"
   ]
  },
  {
   "cell_type": "code",
   "execution_count": null,
   "metadata": {},
   "outputs": [],
   "source": [
    "drop_betas[drop_betas['developer'].isnull()]"
   ]
  },
  {
   "cell_type": "code",
   "execution_count": null,
   "metadata": {},
   "outputs": [],
   "source": [
    "drop_betas[drop_betas['publisher'].isnull()]"
   ]
  },
  {
   "cell_type": "code",
   "execution_count": null,
   "metadata": {
    "scrolled": true
   },
   "outputs": [],
   "source": [
    "drop_betas[((drop_betas['publisher'].isnull()) | (drop_betas['developer'].isnull())) & (drop_betas['average_forever'] > 200)]"
   ]
  },
  {
   "cell_type": "code",
   "execution_count": null,
   "metadata": {},
   "outputs": [],
   "source": [
    "print(drop_betas[(drop_betas['publisher'].isnull()) & (drop_betas['developer'].isnull())].shape[0])\n",
    "\n",
    "drop_betas[(drop_betas['publisher'].isnull()) & (drop_betas['developer'].isnull())].head()"
   ]
  },
  {
   "cell_type": "code",
   "execution_count": null,
   "metadata": {},
   "outputs": [],
   "source": [
    "drop_dev_pub = drop_betas[(drop_betas['publisher'].notnull()) | (drop_betas['developer'].notnull())].copy()\n",
    "drop_dev_pub.isnull().sum()"
   ]
  },
  {
   "cell_type": "code",
   "execution_count": null,
   "metadata": {},
   "outputs": [],
   "source": [
    "drop_dev_pub.loc[drop_dev_pub['developer'].isnull(), 'developer'] = 'unknown'\n",
    "drop_dev_pub.loc[drop_dev_pub['publisher'].isnull(), 'publisher'] = 'unknown'\n",
    "drop_dev_pub.isnull().sum()"
   ]
  },
  {
   "cell_type": "code",
   "execution_count": null,
   "metadata": {},
   "outputs": [],
   "source": [
    "drop_ccu = drop_dev_pub.drop('ccu', axis=1)\n",
    "drop_ccu.head()"
   ]
  },
  {
   "cell_type": "code",
   "execution_count": null,
   "metadata": {},
   "outputs": [],
   "source": [
    "drop_ccu.shape"
   ]
  },
  {
   "cell_type": "code",
   "execution_count": null,
   "metadata": {
    "scrolled": true
   },
   "outputs": [],
   "source": [
    "# handle tags\n",
    "tags = drop_ccu['tags']\n",
    "\n",
    "tags_dict = {}\n",
    "\n",
    "for i, row in tags.iteritems():\n",
    "    eval_row = literal_eval(row)\n",
    "    \n",
    "    if isinstance(eval_row, dict):\n",
    "        for key in literal_eval(row).keys():\n",
    "            tags_dict[key] = 1\n",
    "        \n",
    "tags_dict"
   ]
  },
  {
   "cell_type": "code",
   "execution_count": null,
   "metadata": {
    "scrolled": true
   },
   "outputs": [],
   "source": [
    "for k in literal_eval(tags[0]).keys():\n",
    "    print(k)"
   ]
  },
  {
   "cell_type": "code",
   "execution_count": null,
   "metadata": {},
   "outputs": [],
   "source": [
    "# for i, row in drop_ccu.iterrows():\n",
    "#     row_tags = literal_eval(row['tags'])\n",
    "    \n",
    "#     if isinstance(row_tags, dict):\n",
    "#         for key in tags_dict.keys():\n",
    "#             if key in row_tags:\n",
    "#                 drop_ccu[key] = row_tags[key]\n",
    "#             else:\n",
    "#                 drop_ccu[key] = 0\n",
    "#     else:\n",
    "#         for key in tags_dict.keys():\n",
    "#             drop_ccu[key] = 0\n",
    "with pd.option_context(\"display.max_colwidth\", 500):\n",
    "    display(drop_ccu['tags'].head())"
   ]
  },
  {
   "cell_type": "code",
   "execution_count": null,
   "metadata": {},
   "outputs": [],
   "source": [
    "print(\n",
    "    list(literal_eval(drop_ccu['tags'][0]).keys())[:5],\n",
    "    '\\n',\n",
    "    literal_eval(drop_ccu['tags'][0])\n",
    ")"
   ]
  },
  {
   "cell_type": "code",
   "execution_count": null,
   "metadata": {
    "scrolled": true
   },
   "outputs": [],
   "source": [
    "def parse_tags(x):\n",
    "    x_eval = literal_eval(x)\n",
    "    \n",
    "    if isinstance(x_eval, dict):\n",
    "        return x_eval\n",
    "    elif isinstance(x_eval, list):\n",
    "        return {}\n",
    "    else:\n",
    "        print(x_eval, x)\n",
    "\n",
    "tag_data = drop_ccu[['appid', 'genre', 'tags']].copy()\n",
    "        \n",
    "tag_data['tags'] = tag_data['tags'].apply(parse_tags)\n",
    "\n",
    "tag_names = tag_data['tags'].apply(lambda x: x.keys())\n",
    "\n",
    "cols = set(list(itertools.chain(*tag_names)))\n",
    "\n",
    "for col in sorted(cols):\n",
    "    col_name = (col.lower().replace(' ', '_').replace('-', '_').replace(\"'\", \"\"))\n",
    "    \n",
    "    tag_data[col_name] = tag_data['tags'].apply(lambda x: x[col] if col in x.keys() else 0)\n",
    "    \n",
    "tag_data = tag_data.drop('tags', axis=1)\n",
    "    \n",
    "tag_data.head()"
   ]
  },
  {
   "cell_type": "code",
   "execution_count": null,
   "metadata": {},
   "outputs": [],
   "source": [
    "sums = tag_data.drop('genre', axis=1).sum()\n",
    "\n",
    "cols = sums[sums > 50000].index\n",
    "\n",
    "tag_data[cols].head()"
   ]
  },
  {
   "cell_type": "code",
   "execution_count": null,
   "metadata": {},
   "outputs": [],
   "source": [
    "tag_data.columns[tag_data.max() == 0]"
   ]
  },
  {
   "cell_type": "code",
   "execution_count": null,
   "metadata": {},
   "outputs": [],
   "source": [
    "tag_data.iloc[:, 2:].max(axis=1).head()"
   ]
  },
  {
   "cell_type": "code",
   "execution_count": null,
   "metadata": {},
   "outputs": [],
   "source": [
    "tag_data['genre'].value_counts()"
   ]
  },
  {
   "cell_type": "code",
   "execution_count": null,
   "metadata": {},
   "outputs": [],
   "source": [
    "tag_data_merge = tag_data.drop('genre', axis=1)\n",
    "steamspy_data = drop_ccu.merge(tag_data_merge, how='inner', on='appid')\n",
    "\n",
    "steamspy_data.head()"
   ]
  },
  {
   "cell_type": "code",
   "execution_count": null,
   "metadata": {
    "scrolled": true
   },
   "outputs": [],
   "source": [
    "steamspy_data.isnull().sum()"
   ]
  },
  {
   "cell_type": "code",
   "execution_count": 164,
   "metadata": {},
   "outputs": [
    {
     "name": "stdout",
     "output_type": "stream",
     "text": [
      "Exported tag data to '../data/exports/steamspy_tag_data.csv'\n"
     ]
    },
    {
     "data": {
      "text/html": [
       "<div>\n",
       "<style scoped>\n",
       "    .dataframe tbody tr th:only-of-type {\n",
       "        vertical-align: middle;\n",
       "    }\n",
       "\n",
       "    .dataframe tbody tr th {\n",
       "        vertical-align: top;\n",
       "    }\n",
       "\n",
       "    .dataframe thead th {\n",
       "        text-align: right;\n",
       "    }\n",
       "</style>\n",
       "<table border=\"1\" class=\"dataframe\">\n",
       "  <thead>\n",
       "    <tr style=\"text-align: right;\">\n",
       "      <th></th>\n",
       "      <th>appid</th>\n",
       "      <th>name</th>\n",
       "      <th>positive</th>\n",
       "      <th>negative</th>\n",
       "      <th>owners</th>\n",
       "      <th>average_forever</th>\n",
       "      <th>median_forever</th>\n",
       "      <th>languages</th>\n",
       "      <th>tags</th>\n",
       "    </tr>\n",
       "  </thead>\n",
       "  <tbody>\n",
       "    <tr>\n",
       "      <th>0</th>\n",
       "      <td>10</td>\n",
       "      <td>Counter-Strike</td>\n",
       "      <td>124534</td>\n",
       "      <td>3339</td>\n",
       "      <td>10000000-20000000</td>\n",
       "      <td>17612</td>\n",
       "      <td>317</td>\n",
       "      <td>English, French, German, Italian, Spanish - Sp...</td>\n",
       "      <td>Action;FPS;Multiplayer</td>\n",
       "    </tr>\n",
       "    <tr>\n",
       "      <th>1</th>\n",
       "      <td>20</td>\n",
       "      <td>Team Fortress Classic</td>\n",
       "      <td>3318</td>\n",
       "      <td>633</td>\n",
       "      <td>5000000-10000000</td>\n",
       "      <td>277</td>\n",
       "      <td>62</td>\n",
       "      <td>English, French, German, Italian, Spanish - Sp...</td>\n",
       "      <td>Action;FPS;Multiplayer</td>\n",
       "    </tr>\n",
       "    <tr>\n",
       "      <th>2</th>\n",
       "      <td>30</td>\n",
       "      <td>Day of Defeat</td>\n",
       "      <td>3416</td>\n",
       "      <td>398</td>\n",
       "      <td>5000000-10000000</td>\n",
       "      <td>187</td>\n",
       "      <td>34</td>\n",
       "      <td>English, French, German, Italian, Spanish - Spain</td>\n",
       "      <td>FPS;World War II;Multiplayer</td>\n",
       "    </tr>\n",
       "    <tr>\n",
       "      <th>3</th>\n",
       "      <td>40</td>\n",
       "      <td>Deathmatch Classic</td>\n",
       "      <td>1273</td>\n",
       "      <td>267</td>\n",
       "      <td>5000000-10000000</td>\n",
       "      <td>258</td>\n",
       "      <td>184</td>\n",
       "      <td>English, French, German, Italian, Spanish - Sp...</td>\n",
       "      <td>Action;FPS;Multiplayer</td>\n",
       "    </tr>\n",
       "    <tr>\n",
       "      <th>4</th>\n",
       "      <td>50</td>\n",
       "      <td>Half-Life: Opposing Force</td>\n",
       "      <td>5250</td>\n",
       "      <td>288</td>\n",
       "      <td>5000000-10000000</td>\n",
       "      <td>624</td>\n",
       "      <td>415</td>\n",
       "      <td>English, French, German, Korean</td>\n",
       "      <td>FPS;Action;Sci-fi</td>\n",
       "    </tr>\n",
       "  </tbody>\n",
       "</table>\n",
       "</div>"
      ],
      "text/plain": [
       "   appid                       name  positive  negative             owners  \\\n",
       "0     10             Counter-Strike    124534      3339  10000000-20000000   \n",
       "1     20      Team Fortress Classic      3318       633   5000000-10000000   \n",
       "2     30              Day of Defeat      3416       398   5000000-10000000   \n",
       "3     40         Deathmatch Classic      1273       267   5000000-10000000   \n",
       "4     50  Half-Life: Opposing Force      5250       288   5000000-10000000   \n",
       "\n",
       "   average_forever  median_forever  \\\n",
       "0            17612             317   \n",
       "1              277              62   \n",
       "2              187              34   \n",
       "3              258             184   \n",
       "4              624             415   \n",
       "\n",
       "                                           languages  \\\n",
       "0  English, French, German, Italian, Spanish - Sp...   \n",
       "1  English, French, German, Italian, Spanish - Sp...   \n",
       "2  English, French, German, Italian, Spanish - Spain   \n",
       "3  English, French, German, Italian, Spanish - Sp...   \n",
       "4                    English, French, German, Korean   \n",
       "\n",
       "                           tags  \n",
       "0        Action;FPS;Multiplayer  \n",
       "1        Action;FPS;Multiplayer  \n",
       "2  FPS;World War II;Multiplayer  \n",
       "3        Action;FPS;Multiplayer  \n",
       "4             FPS;Action;Sci-fi  "
      ]
     },
     "execution_count": 164,
     "metadata": {},
     "output_type": "execute_result"
    }
   ],
   "source": [
    "def process_tags(df, export=False):\n",
    "    df = df.copy()\n",
    "    \n",
    "    if export: \n",
    "        \n",
    "        tag_data = df[['appid', 'tags']].copy()\n",
    "        \n",
    "        def parse_tags(x):\n",
    "            x_eval = literal_eval(x)\n",
    "\n",
    "            if isinstance(x_eval, dict):\n",
    "                return x_eval\n",
    "            elif isinstance(x_eval, list):\n",
    "                return {}\n",
    "            else:\n",
    "                print(x_eval, x)\n",
    "\n",
    "        tag_data['tags'] = tag_data['tags'].apply(parse_tags)\n",
    "\n",
    "        tag_names = tag_data['tags'].apply(lambda x: x.keys())\n",
    "\n",
    "        cols = set(itertools.chain(*tag_names))\n",
    "\n",
    "        for col in sorted(cols):\n",
    "            col_name = (col.lower().replace(' ', '_').replace('-', '_').replace(\"'\", \"\"))\n",
    "\n",
    "            tag_data[col_name] = tag_data['tags'].apply(lambda x: x[col] if col in x.keys() else 0)\n",
    "\n",
    "        tag_data = tag_data.drop('tags', axis=1)\n",
    "\n",
    "        tag_data.to_csv('../data/exports/steamspy_tag_data.csv', index=False)\n",
    "        print(\"Exported tag data to '../data/exports/steamspy_tag_data.csv'\")\n",
    "        \n",
    "        \n",
    "    def parse_tags(x):\n",
    "        x = literal_eval(x)\n",
    "        \n",
    "        if isinstance(x, dict):\n",
    "            return ';'.join(list(x.keys())[:3])\n",
    "        else:\n",
    "            return np.nan\n",
    "    \n",
    "    df['tags'] = df['tags'].apply(parse_tags)\n",
    "    \n",
    "    # rows with null tags seem to be superseded by newer release, so remove (e.g. dead island)\n",
    "    df = df[df['tags'].notnull()]\n",
    "    \n",
    "    return df\n",
    "\n",
    "\n",
    "def process(df):\n",
    "    df = df.copy()\n",
    "    \n",
    "    # handle missing values\n",
    "    df = df[(df['name'].notnull()) & (df['name'] != 'none')]\n",
    "    df = df[df['developer'].notnull()]\n",
    "    df = df[df['languages'].notnull()]\n",
    "    \n",
    "    df = df.drop(['genre', 'developer', 'publisher', 'score_rank', 'userscore', 'average_2weeks', 'median_2weeks', 'price', 'initialprice', 'discount', 'ccu'], axis=1)\n",
    "    \n",
    "    # keep top five tags\n",
    "    df = process_tags(df, export=True)\n",
    "    \n",
    "    df['owners'] = df['owners'].str.replace(',', '').str.replace(' .. ', '-')\n",
    "    \n",
    "    # could fill genres like this\n",
    "    # df.loc[df['genre'].isnull(), 'genre'] = df.loc[df['genre'].isnull(), 'tags'].apply(lambda x: x.split(';')[0])\n",
    "    \n",
    "    # still some duplicates with same name but different appid\n",
    "    \n",
    "    return df\n",
    "\n",
    "\n",
    "steamspy_data = process(raw_steamspy_data)\n",
    "steamspy_data.head()"
   ]
  },
  {
   "cell_type": "code",
   "execution_count": 166,
   "metadata": {
    "scrolled": false
   },
   "outputs": [],
   "source": [
    "# tags = steamspy_data['tags'].apply(lambda x: literal_eval(x))\n",
    "\n",
    "# tag_counts = {}\n",
    "\n",
    "# def count_tags(x):\n",
    "    \n",
    "#     if isinstance(x, dict):\n",
    "#         for key in x.keys():\n",
    "#             tag_counts[key] = tag_counts.get(key, 0) + x[key]\n",
    "    \n",
    "#     return x\n",
    "\n",
    "# tags.apply(count_tags)\n",
    "# tag_series = pd.Series(tag_counts)\n",
    "\n",
    "# top_tag_list = list(tag_series[tag_series > 100000].index)"
   ]
  },
  {
   "cell_type": "code",
   "execution_count": 165,
   "metadata": {
    "scrolled": true
   },
   "outputs": [],
   "source": [
    "# set(itertools.chain(*steamspy_data['tags'].str.split(';')))"
   ]
  },
  {
   "cell_type": "code",
   "execution_count": 167,
   "metadata": {},
   "outputs": [
    {
     "data": {
      "text/plain": [
       "0-20000                19543\n",
       "20000-50000             3191\n",
       "50000-100000            1767\n",
       "100000-200000           1458\n",
       "200000-500000           1347\n",
       "500000-1000000           547\n",
       "1000000-2000000          308\n",
       "2000000-5000000          209\n",
       "5000000-10000000          49\n",
       "10000000-20000000         22\n",
       "20000000-50000000          3\n",
       "50000000-100000000         2\n",
       "100000000-200000000        1\n",
       "Name: owners, dtype: int64"
      ]
     },
     "execution_count": 167,
     "metadata": {},
     "output_type": "execute_result"
    }
   ],
   "source": [
    "steamspy_data['owners'].value_counts()"
   ]
  },
  {
   "cell_type": "code",
   "execution_count": 168,
   "metadata": {},
   "outputs": [],
   "source": [
    "steamspy_data.to_csv('../data/exports/steamspy_clean.csv', index=False)"
   ]
  },
  {
   "cell_type": "code",
   "execution_count": 170,
   "metadata": {},
   "outputs": [
    {
     "data": {
      "text/html": [
       "<div>\n",
       "<style scoped>\n",
       "    .dataframe tbody tr th:only-of-type {\n",
       "        vertical-align: middle;\n",
       "    }\n",
       "\n",
       "    .dataframe tbody tr th {\n",
       "        vertical-align: top;\n",
       "    }\n",
       "\n",
       "    .dataframe thead th {\n",
       "        text-align: right;\n",
       "    }\n",
       "</style>\n",
       "<table border=\"1\" class=\"dataframe\">\n",
       "  <thead>\n",
       "    <tr style=\"text-align: right;\">\n",
       "      <th></th>\n",
       "      <th>name</th>\n",
       "      <th>steam_appid</th>\n",
       "      <th>required_age</th>\n",
       "      <th>platforms</th>\n",
       "      <th>categories</th>\n",
       "      <th>genres</th>\n",
       "      <th>achievements</th>\n",
       "      <th>release_date</th>\n",
       "      <th>price</th>\n",
       "      <th>english</th>\n",
       "      <th>developer</th>\n",
       "      <th>publisher</th>\n",
       "      <th>appid</th>\n",
       "      <th>name_steamspy</th>\n",
       "      <th>positive</th>\n",
       "      <th>negative</th>\n",
       "      <th>owners</th>\n",
       "      <th>average_forever</th>\n",
       "      <th>median_forever</th>\n",
       "      <th>languages</th>\n",
       "      <th>tags</th>\n",
       "    </tr>\n",
       "  </thead>\n",
       "  <tbody>\n",
       "    <tr>\n",
       "      <th>0</th>\n",
       "      <td>Counter-Strike</td>\n",
       "      <td>10</td>\n",
       "      <td>0</td>\n",
       "      <td>windows;mac;linux</td>\n",
       "      <td>Multi-player;Online Multi-Player;Local Multi-P...</td>\n",
       "      <td>Action</td>\n",
       "      <td>0</td>\n",
       "      <td>2000-11-01</td>\n",
       "      <td>7.19</td>\n",
       "      <td>1</td>\n",
       "      <td>Valve</td>\n",
       "      <td>Valve</td>\n",
       "      <td>10</td>\n",
       "      <td>Counter-Strike</td>\n",
       "      <td>124534</td>\n",
       "      <td>3339</td>\n",
       "      <td>10000000-20000000</td>\n",
       "      <td>17612</td>\n",
       "      <td>317</td>\n",
       "      <td>English, French, German, Italian, Spanish - Sp...</td>\n",
       "      <td>Action;FPS;Multiplayer</td>\n",
       "    </tr>\n",
       "    <tr>\n",
       "      <th>1</th>\n",
       "      <td>Team Fortress Classic</td>\n",
       "      <td>20</td>\n",
       "      <td>0</td>\n",
       "      <td>windows;mac;linux</td>\n",
       "      <td>Multi-player;Online Multi-Player;Local Multi-P...</td>\n",
       "      <td>Action</td>\n",
       "      <td>0</td>\n",
       "      <td>1999-04-01</td>\n",
       "      <td>3.99</td>\n",
       "      <td>1</td>\n",
       "      <td>Valve</td>\n",
       "      <td>Valve</td>\n",
       "      <td>20</td>\n",
       "      <td>Team Fortress Classic</td>\n",
       "      <td>3318</td>\n",
       "      <td>633</td>\n",
       "      <td>5000000-10000000</td>\n",
       "      <td>277</td>\n",
       "      <td>62</td>\n",
       "      <td>English, French, German, Italian, Spanish - Sp...</td>\n",
       "      <td>Action;FPS;Multiplayer</td>\n",
       "    </tr>\n",
       "    <tr>\n",
       "      <th>2</th>\n",
       "      <td>Day of Defeat</td>\n",
       "      <td>30</td>\n",
       "      <td>0</td>\n",
       "      <td>windows;mac;linux</td>\n",
       "      <td>Multi-player;Valve Anti-Cheat enabled</td>\n",
       "      <td>Action</td>\n",
       "      <td>0</td>\n",
       "      <td>2003-05-01</td>\n",
       "      <td>3.99</td>\n",
       "      <td>1</td>\n",
       "      <td>Valve</td>\n",
       "      <td>Valve</td>\n",
       "      <td>30</td>\n",
       "      <td>Day of Defeat</td>\n",
       "      <td>3416</td>\n",
       "      <td>398</td>\n",
       "      <td>5000000-10000000</td>\n",
       "      <td>187</td>\n",
       "      <td>34</td>\n",
       "      <td>English, French, German, Italian, Spanish - Spain</td>\n",
       "      <td>FPS;World War II;Multiplayer</td>\n",
       "    </tr>\n",
       "    <tr>\n",
       "      <th>3</th>\n",
       "      <td>Deathmatch Classic</td>\n",
       "      <td>40</td>\n",
       "      <td>0</td>\n",
       "      <td>windows;mac;linux</td>\n",
       "      <td>Multi-player;Online Multi-Player;Local Multi-P...</td>\n",
       "      <td>Action</td>\n",
       "      <td>0</td>\n",
       "      <td>2001-06-01</td>\n",
       "      <td>3.99</td>\n",
       "      <td>1</td>\n",
       "      <td>Valve</td>\n",
       "      <td>Valve</td>\n",
       "      <td>40</td>\n",
       "      <td>Deathmatch Classic</td>\n",
       "      <td>1273</td>\n",
       "      <td>267</td>\n",
       "      <td>5000000-10000000</td>\n",
       "      <td>258</td>\n",
       "      <td>184</td>\n",
       "      <td>English, French, German, Italian, Spanish - Sp...</td>\n",
       "      <td>Action;FPS;Multiplayer</td>\n",
       "    </tr>\n",
       "    <tr>\n",
       "      <th>4</th>\n",
       "      <td>Half-Life: Opposing Force</td>\n",
       "      <td>50</td>\n",
       "      <td>0</td>\n",
       "      <td>windows;mac;linux</td>\n",
       "      <td>Single-player;Multi-player;Valve Anti-Cheat en...</td>\n",
       "      <td>Action</td>\n",
       "      <td>0</td>\n",
       "      <td>1999-11-01</td>\n",
       "      <td>3.99</td>\n",
       "      <td>1</td>\n",
       "      <td>Gearbox Software</td>\n",
       "      <td>Valve</td>\n",
       "      <td>50</td>\n",
       "      <td>Half-Life: Opposing Force</td>\n",
       "      <td>5250</td>\n",
       "      <td>288</td>\n",
       "      <td>5000000-10000000</td>\n",
       "      <td>624</td>\n",
       "      <td>415</td>\n",
       "      <td>English, French, German, Korean</td>\n",
       "      <td>FPS;Action;Sci-fi</td>\n",
       "    </tr>\n",
       "  </tbody>\n",
       "</table>\n",
       "</div>"
      ],
      "text/plain": [
       "                        name  steam_appid  required_age          platforms  \\\n",
       "0             Counter-Strike           10             0  windows;mac;linux   \n",
       "1      Team Fortress Classic           20             0  windows;mac;linux   \n",
       "2              Day of Defeat           30             0  windows;mac;linux   \n",
       "3         Deathmatch Classic           40             0  windows;mac;linux   \n",
       "4  Half-Life: Opposing Force           50             0  windows;mac;linux   \n",
       "\n",
       "                                          categories  genres  achievements  \\\n",
       "0  Multi-player;Online Multi-Player;Local Multi-P...  Action             0   \n",
       "1  Multi-player;Online Multi-Player;Local Multi-P...  Action             0   \n",
       "2              Multi-player;Valve Anti-Cheat enabled  Action             0   \n",
       "3  Multi-player;Online Multi-Player;Local Multi-P...  Action             0   \n",
       "4  Single-player;Multi-player;Valve Anti-Cheat en...  Action             0   \n",
       "\n",
       "  release_date  price  english         developer publisher  appid  \\\n",
       "0   2000-11-01   7.19        1             Valve     Valve     10   \n",
       "1   1999-04-01   3.99        1             Valve     Valve     20   \n",
       "2   2003-05-01   3.99        1             Valve     Valve     30   \n",
       "3   2001-06-01   3.99        1             Valve     Valve     40   \n",
       "4   1999-11-01   3.99        1  Gearbox Software     Valve     50   \n",
       "\n",
       "               name_steamspy  positive  negative             owners  \\\n",
       "0             Counter-Strike    124534      3339  10000000-20000000   \n",
       "1      Team Fortress Classic      3318       633   5000000-10000000   \n",
       "2              Day of Defeat      3416       398   5000000-10000000   \n",
       "3         Deathmatch Classic      1273       267   5000000-10000000   \n",
       "4  Half-Life: Opposing Force      5250       288   5000000-10000000   \n",
       "\n",
       "   average_forever  median_forever  \\\n",
       "0            17612             317   \n",
       "1              277              62   \n",
       "2              187              34   \n",
       "3              258             184   \n",
       "4              624             415   \n",
       "\n",
       "                                           languages  \\\n",
       "0  English, French, German, Italian, Spanish - Sp...   \n",
       "1  English, French, German, Italian, Spanish - Sp...   \n",
       "2  English, French, German, Italian, Spanish - Spain   \n",
       "3  English, French, German, Italian, Spanish - Sp...   \n",
       "4                    English, French, German, Korean   \n",
       "\n",
       "                           tags  \n",
       "0        Action;FPS;Multiplayer  \n",
       "1        Action;FPS;Multiplayer  \n",
       "2  FPS;World War II;Multiplayer  \n",
       "3        Action;FPS;Multiplayer  \n",
       "4             FPS;Action;Sci-fi  "
      ]
     },
     "execution_count": 170,
     "metadata": {},
     "output_type": "execute_result"
    }
   ],
   "source": [
    "steam_data = pd.read_csv('../data/exports/steam_data_clean.csv')\n",
    "    \n",
    "merged = steam_data.merge(steamspy_data, left_on='steam_appid', right_on='appid', suffixes=('', '_steamspy'))\n",
    "merged.head()"
   ]
  },
  {
   "cell_type": "code",
   "execution_count": 171,
   "metadata": {},
   "outputs": [
    {
     "data": {
      "text/html": [
       "<div>\n",
       "<style scoped>\n",
       "    .dataframe tbody tr th:only-of-type {\n",
       "        vertical-align: middle;\n",
       "    }\n",
       "\n",
       "    .dataframe tbody tr th {\n",
       "        vertical-align: top;\n",
       "    }\n",
       "\n",
       "    .dataframe thead th {\n",
       "        text-align: right;\n",
       "    }\n",
       "</style>\n",
       "<table border=\"1\" class=\"dataframe\">\n",
       "  <thead>\n",
       "    <tr style=\"text-align: right;\">\n",
       "      <th></th>\n",
       "      <th>appid</th>\n",
       "      <th>name</th>\n",
       "      <th>release_date</th>\n",
       "      <th>english</th>\n",
       "      <th>developer</th>\n",
       "      <th>publisher</th>\n",
       "      <th>platforms</th>\n",
       "      <th>required_age</th>\n",
       "      <th>categories</th>\n",
       "      <th>genres</th>\n",
       "      <th>steamspy_tags</th>\n",
       "      <th>achievements</th>\n",
       "      <th>positive_ratings</th>\n",
       "      <th>negative_ratings</th>\n",
       "      <th>average_playtime</th>\n",
       "      <th>median_playtime</th>\n",
       "      <th>owners</th>\n",
       "      <th>price</th>\n",
       "    </tr>\n",
       "  </thead>\n",
       "  <tbody>\n",
       "    <tr>\n",
       "      <th>0</th>\n",
       "      <td>10</td>\n",
       "      <td>Counter-Strike</td>\n",
       "      <td>2000-11-01</td>\n",
       "      <td>1</td>\n",
       "      <td>Valve</td>\n",
       "      <td>Valve</td>\n",
       "      <td>windows;mac;linux</td>\n",
       "      <td>0</td>\n",
       "      <td>Multi-player;Online Multi-Player;Local Multi-P...</td>\n",
       "      <td>Action</td>\n",
       "      <td>Action;FPS;Multiplayer</td>\n",
       "      <td>0</td>\n",
       "      <td>124534</td>\n",
       "      <td>3339</td>\n",
       "      <td>17612</td>\n",
       "      <td>317</td>\n",
       "      <td>10000000-20000000</td>\n",
       "      <td>7.19</td>\n",
       "    </tr>\n",
       "    <tr>\n",
       "      <th>1</th>\n",
       "      <td>20</td>\n",
       "      <td>Team Fortress Classic</td>\n",
       "      <td>1999-04-01</td>\n",
       "      <td>1</td>\n",
       "      <td>Valve</td>\n",
       "      <td>Valve</td>\n",
       "      <td>windows;mac;linux</td>\n",
       "      <td>0</td>\n",
       "      <td>Multi-player;Online Multi-Player;Local Multi-P...</td>\n",
       "      <td>Action</td>\n",
       "      <td>Action;FPS;Multiplayer</td>\n",
       "      <td>0</td>\n",
       "      <td>3318</td>\n",
       "      <td>633</td>\n",
       "      <td>277</td>\n",
       "      <td>62</td>\n",
       "      <td>5000000-10000000</td>\n",
       "      <td>3.99</td>\n",
       "    </tr>\n",
       "    <tr>\n",
       "      <th>2</th>\n",
       "      <td>30</td>\n",
       "      <td>Day of Defeat</td>\n",
       "      <td>2003-05-01</td>\n",
       "      <td>1</td>\n",
       "      <td>Valve</td>\n",
       "      <td>Valve</td>\n",
       "      <td>windows;mac;linux</td>\n",
       "      <td>0</td>\n",
       "      <td>Multi-player;Valve Anti-Cheat enabled</td>\n",
       "      <td>Action</td>\n",
       "      <td>FPS;World War II;Multiplayer</td>\n",
       "      <td>0</td>\n",
       "      <td>3416</td>\n",
       "      <td>398</td>\n",
       "      <td>187</td>\n",
       "      <td>34</td>\n",
       "      <td>5000000-10000000</td>\n",
       "      <td>3.99</td>\n",
       "    </tr>\n",
       "    <tr>\n",
       "      <th>3</th>\n",
       "      <td>40</td>\n",
       "      <td>Deathmatch Classic</td>\n",
       "      <td>2001-06-01</td>\n",
       "      <td>1</td>\n",
       "      <td>Valve</td>\n",
       "      <td>Valve</td>\n",
       "      <td>windows;mac;linux</td>\n",
       "      <td>0</td>\n",
       "      <td>Multi-player;Online Multi-Player;Local Multi-P...</td>\n",
       "      <td>Action</td>\n",
       "      <td>Action;FPS;Multiplayer</td>\n",
       "      <td>0</td>\n",
       "      <td>1273</td>\n",
       "      <td>267</td>\n",
       "      <td>258</td>\n",
       "      <td>184</td>\n",
       "      <td>5000000-10000000</td>\n",
       "      <td>3.99</td>\n",
       "    </tr>\n",
       "    <tr>\n",
       "      <th>4</th>\n",
       "      <td>50</td>\n",
       "      <td>Half-Life: Opposing Force</td>\n",
       "      <td>1999-11-01</td>\n",
       "      <td>1</td>\n",
       "      <td>Gearbox Software</td>\n",
       "      <td>Valve</td>\n",
       "      <td>windows;mac;linux</td>\n",
       "      <td>0</td>\n",
       "      <td>Single-player;Multi-player;Valve Anti-Cheat en...</td>\n",
       "      <td>Action</td>\n",
       "      <td>FPS;Action;Sci-fi</td>\n",
       "      <td>0</td>\n",
       "      <td>5250</td>\n",
       "      <td>288</td>\n",
       "      <td>624</td>\n",
       "      <td>415</td>\n",
       "      <td>5000000-10000000</td>\n",
       "      <td>3.99</td>\n",
       "    </tr>\n",
       "  </tbody>\n",
       "</table>\n",
       "</div>"
      ],
      "text/plain": [
       "   appid                       name release_date  english         developer  \\\n",
       "0     10             Counter-Strike   2000-11-01        1             Valve   \n",
       "1     20      Team Fortress Classic   1999-04-01        1             Valve   \n",
       "2     30              Day of Defeat   2003-05-01        1             Valve   \n",
       "3     40         Deathmatch Classic   2001-06-01        1             Valve   \n",
       "4     50  Half-Life: Opposing Force   1999-11-01        1  Gearbox Software   \n",
       "\n",
       "  publisher          platforms  required_age  \\\n",
       "0     Valve  windows;mac;linux             0   \n",
       "1     Valve  windows;mac;linux             0   \n",
       "2     Valve  windows;mac;linux             0   \n",
       "3     Valve  windows;mac;linux             0   \n",
       "4     Valve  windows;mac;linux             0   \n",
       "\n",
       "                                          categories  genres  \\\n",
       "0  Multi-player;Online Multi-Player;Local Multi-P...  Action   \n",
       "1  Multi-player;Online Multi-Player;Local Multi-P...  Action   \n",
       "2              Multi-player;Valve Anti-Cheat enabled  Action   \n",
       "3  Multi-player;Online Multi-Player;Local Multi-P...  Action   \n",
       "4  Single-player;Multi-player;Valve Anti-Cheat en...  Action   \n",
       "\n",
       "                  steamspy_tags  achievements  positive_ratings  \\\n",
       "0        Action;FPS;Multiplayer             0            124534   \n",
       "1        Action;FPS;Multiplayer             0              3318   \n",
       "2  FPS;World War II;Multiplayer             0              3416   \n",
       "3        Action;FPS;Multiplayer             0              1273   \n",
       "4             FPS;Action;Sci-fi             0              5250   \n",
       "\n",
       "   negative_ratings  average_playtime  median_playtime             owners  \\\n",
       "0              3339             17612              317  10000000-20000000   \n",
       "1               633               277               62   5000000-10000000   \n",
       "2               398               187               34   5000000-10000000   \n",
       "3               267               258              184   5000000-10000000   \n",
       "4               288               624              415   5000000-10000000   \n",
       "\n",
       "   price  \n",
       "0   7.19  \n",
       "1   3.99  \n",
       "2   3.99  \n",
       "3   3.99  \n",
       "4   3.99  "
      ]
     },
     "execution_count": 171,
     "metadata": {},
     "output_type": "execute_result"
    }
   ],
   "source": [
    "steam_clean = merged.drop(['name_steamspy', 'languages', 'steam_appid'], axis=1)\n",
    "steam_clean = steam_clean[[\n",
    "    'appid',\n",
    "    'name',\n",
    "    'release_date',\n",
    "    'english',\n",
    "    'developer',\n",
    "    'publisher',\n",
    "    'platforms',\n",
    "    'required_age',\n",
    "    'categories',\n",
    "    'genres',\n",
    "    'tags',\n",
    "    'achievements',\n",
    "    'positive',\n",
    "    'negative',\n",
    "    'average_forever',\n",
    "    'median_forever',\n",
    "    'owners',\n",
    "    'price'\n",
    "]]\n",
    "\n",
    "steam_clean = steam_clean.rename({\n",
    "    'tags': 'steamspy_tags',\n",
    "    'positive': 'positive_ratings',\n",
    "    'negative': 'negative_ratings',\n",
    "    'average_forever': 'average_playtime',\n",
    "    'median_forever': 'median_playtime'\n",
    "}, axis=1)\n",
    "\n",
    "steam_clean.head()"
   ]
  },
  {
   "cell_type": "code",
   "execution_count": 172,
   "metadata": {},
   "outputs": [],
   "source": [
    "steam_clean.to_csv('../data/steam_clean.csv', index=False)"
   ]
  }
 ],
 "metadata": {
  "kernelspec": {
   "display_name": "Python 3",
   "language": "python",
   "name": "python3"
  },
  "language_info": {
   "codemirror_mode": {
    "name": "ipython",
    "version": 3
   },
   "file_extension": ".py",
   "mimetype": "text/x-python",
   "name": "python",
   "nbconvert_exporter": "python",
   "pygments_lexer": "ipython3",
   "version": "3.7.3"
  }
 },
 "nbformat": 4,
 "nbformat_minor": 2
}
