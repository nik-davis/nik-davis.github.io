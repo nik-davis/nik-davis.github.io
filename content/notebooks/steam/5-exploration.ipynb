{
 "cells": [
  {
   "cell_type": "markdown",
   "metadata": {},
   "source": [
    "# Steam Data Exploration: Profitable App Profiles\n",
    "\n",
    "*This forms part of a larger series of posts for my [blog](http://nik-davis.github.io) on downloading, processing and analysing data from the steam store. [See all posts here](http://nik-davis.github.io/tag/steam).*"
   ]
  },
  {
   "cell_type": "code",
   "execution_count": 4,
   "metadata": {},
   "outputs": [
    {
     "name": "stdout",
     "output_type": "stream",
     "text": [
      "The version_information extension is already loaded. To reload it, use:\n",
      "  %reload_ext version_information\n"
     ]
    },
    {
     "data": {
      "application/json": {
       "Software versions": [
        {
         "module": "Python",
         "version": "3.7.3 64bit [MSC v.1900 64 bit (AMD64)]"
        },
        {
         "module": "IPython",
         "version": "7.5.0"
        },
        {
         "module": "OS",
         "version": "Windows 10 10.0.18362 SP0"
        },
        {
         "module": "numpy",
         "version": "1.16.3"
        },
        {
         "module": "pandas",
         "version": "0.24.2"
        },
        {
         "module": "matplotlib",
         "version": "3.1.0"
        },
        {
         "module": "seaborn",
         "version": "0.9.0"
        },
        {
         "module": "sklearn",
         "version": "0.21.2"
        }
       ]
      },
      "text/html": [
       "<table><tr><th>Software</th><th>Version</th></tr><tr><td>Python</td><td>3.7.3 64bit [MSC v.1900 64 bit (AMD64)]</td></tr><tr><td>IPython</td><td>7.5.0</td></tr><tr><td>OS</td><td>Windows 10 10.0.18362 SP0</td></tr><tr><td>numpy</td><td>1.16.3</td></tr><tr><td>pandas</td><td>0.24.2</td></tr><tr><td>matplotlib</td><td>3.1.0</td></tr><tr><td>seaborn</td><td>0.9.0</td></tr><tr><td>sklearn</td><td>0.21.2</td></tr><tr><td colspan='2'>Wed Jun 05 18:28:00 2019 GMT Summer Time</td></tr></table>"
      ],
      "text/latex": [
       "\\begin{tabular}{|l|l|}\\hline\n",
       "{\\bf Software} & {\\bf Version} \\\\ \\hline\\hline\n",
       "Python & 3.7.3 64bit [MSC v.1900 64 bit (AMD64)] \\\\ \\hline\n",
       "IPython & 7.5.0 \\\\ \\hline\n",
       "OS & Windows 10 10.0.18362 SP0 \\\\ \\hline\n",
       "numpy & 1.16.3 \\\\ \\hline\n",
       "pandas & 0.24.2 \\\\ \\hline\n",
       "matplotlib & 3.1.0 \\\\ \\hline\n",
       "seaborn & 0.9.0 \\\\ \\hline\n",
       "sklearn & 0.21.2 \\\\ \\hline\n",
       "\\hline \\multicolumn{2}{|l|}{Wed Jun 05 18:28:00 2019 GMT Summer Time} \\\\ \\hline\n",
       "\\end{tabular}\n"
      ],
      "text/plain": [
       "Software versions\n",
       "Python 3.7.3 64bit [MSC v.1900 64 bit (AMD64)]\n",
       "IPython 7.5.0\n",
       "OS Windows 10 10.0.18362 SP0\n",
       "numpy 1.16.3\n",
       "pandas 0.24.2\n",
       "matplotlib 3.1.0\n",
       "seaborn 0.9.0\n",
       "sklearn 0.21.2\n",
       "Wed Jun 05 18:28:00 2019 GMT Summer Time"
      ]
     },
     "execution_count": 4,
     "metadata": {},
     "output_type": "execute_result"
    }
   ],
   "source": [
    "# view software version information\n",
    "\n",
    "# http://raw.github.com/jrjohansson/version_information/master/version_information.py\n",
    "%load_ext version_information\n",
    "%reload_ext version_information\n",
    "\n",
    "%version_information numpy, pandas, matplotlib, seaborn, sklearn"
   ]
  },
  {
   "cell_type": "code",
   "execution_count": 1,
   "metadata": {},
   "outputs": [],
   "source": [
    "# from IPython.display import HTML\n",
    "# HTML('''\n",
    "# <script>\n",
    "#   function code_toggle() {\n",
    "#     if (code_shown){\n",
    "#       $('div.input').hide('500');\n",
    "#       $('#toggleButton').val('Show Code')\n",
    "#     } else {\n",
    "#       $('div.input').show('500');\n",
    "#       $('#toggleButton').val('Hide Code')\n",
    "#     }\n",
    "#     code_shown = !code_shown\n",
    "#   }\n",
    "\n",
    "#   $( document ).ready(function(){\n",
    "#     code_shown=false;\n",
    "#     $('div.input').hide()\n",
    "#   });\n",
    "# </script>\n",
    "# <form action=\"javascript:code_toggle()\"><input type=\"submit\" id=\"toggleButton\" value=\"Show Code\"></form>''')"
   ]
  },
  {
   "cell_type": "markdown",
   "metadata": {},
   "source": [
    "## Ideas\n",
    "- when will valve release half life 3\n",
    "- best publishers/developers (or best and worst releases)\n",
    "- older is better/ best year for games\n",
    "- Is single-player dying? single vs multiplayer\n",
    "- description columns - analyse sentiment/emotion\n",
    "\n",
    "### Issues\n",
    "- prediction - low correlations so difficult"
   ]
  },
  {
   "cell_type": "code",
   "execution_count": 3,
   "metadata": {},
   "outputs": [],
   "source": [
    "# standard library imports\n",
    "from ast import literal_eval\n",
    "import itertools\n",
    "import time\n",
    "import re\n",
    "\n",
    "# third-party imports\n",
    "import numpy as np\n",
    "import pandas as pd\n",
    "%matplotlib inline\n",
    "import matplotlib.pyplot as plt\n",
    "import seaborn as sns\n",
    "# from sklearn.feature_selection import RFECV\n",
    "\n",
    "# customisations\n",
    "pd.set_option(\"max_columns\", 100)"
   ]
  },
  {
   "cell_type": "code",
   "execution_count": null,
   "metadata": {},
   "outputs": [],
   "source": [
    "# import holoviews as hv\n",
    "# hv.__version__"
   ]
  },
  {
   "cell_type": "code",
   "execution_count": null,
   "metadata": {},
   "outputs": [],
   "source": [
    "# hv.extension('bokeh', 'matplotlib')"
   ]
  },
  {
   "cell_type": "code",
   "execution_count": null,
   "metadata": {},
   "outputs": [],
   "source": [
    "# check a file\n",
    "# import os\n",
    "# if not os.path.isfile('../data/steamspy_clean.csv'):\n",
    "#     print('file not found')"
   ]
  },
  {
   "cell_type": "markdown",
   "metadata": {},
   "source": [
    "## Import data and preprocess for exploration"
   ]
  },
  {
   "cell_type": "code",
   "execution_count": 87,
   "metadata": {
    "scrolled": true
   },
   "outputs": [
    {
     "name": "stdout",
     "output_type": "stream",
     "text": [
      "0    33\n",
      "dtype: int64\n"
     ]
    },
    {
     "data": {
      "text/html": [
       "<div>\n",
       "<style scoped>\n",
       "    .dataframe tbody tr th:only-of-type {\n",
       "        vertical-align: middle;\n",
       "    }\n",
       "\n",
       "    .dataframe tbody tr th {\n",
       "        vertical-align: top;\n",
       "    }\n",
       "\n",
       "    .dataframe thead th {\n",
       "        text-align: right;\n",
       "    }\n",
       "</style>\n",
       "<table border=\"1\" class=\"dataframe\">\n",
       "  <thead>\n",
       "    <tr style=\"text-align: right;\">\n",
       "      <th></th>\n",
       "      <th>appid</th>\n",
       "      <th>name</th>\n",
       "      <th>release_date</th>\n",
       "      <th>developer</th>\n",
       "      <th>publisher</th>\n",
       "      <th>required_age</th>\n",
       "      <th>genres</th>\n",
       "      <th>achievements</th>\n",
       "      <th>positive_ratings</th>\n",
       "      <th>negative_ratings</th>\n",
       "      <th>average_playtime</th>\n",
       "      <th>median_playtime</th>\n",
       "      <th>owners</th>\n",
       "      <th>price</th>\n",
       "      <th>total_ratings</th>\n",
       "      <th>ratings_ratio</th>\n",
       "      <th>weighted_rating</th>\n",
       "      <th>release_year</th>\n",
       "      <th>est_revenue</th>\n",
       "      <th>price_categories</th>\n",
       "      <th>multi_player</th>\n",
       "      <th>single_player</th>\n",
       "      <th>action</th>\n",
       "      <th>adventure</th>\n",
       "      <th>casual</th>\n",
       "      <th>indie</th>\n",
       "      <th>massively_multiplayer</th>\n",
       "      <th>rpg</th>\n",
       "      <th>racing</th>\n",
       "      <th>simulation</th>\n",
       "      <th>sports</th>\n",
       "      <th>strategy</th>\n",
       "      <th>top_tag</th>\n",
       "    </tr>\n",
       "  </thead>\n",
       "  <tbody>\n",
       "    <tr>\n",
       "      <th>0</th>\n",
       "      <td>10</td>\n",
       "      <td>Counter-Strike</td>\n",
       "      <td>2000-11-01</td>\n",
       "      <td>Valve</td>\n",
       "      <td>Valve</td>\n",
       "      <td>0</td>\n",
       "      <td>Action</td>\n",
       "      <td>0</td>\n",
       "      <td>124534</td>\n",
       "      <td>3339</td>\n",
       "      <td>17612</td>\n",
       "      <td>317</td>\n",
       "      <td>15000000</td>\n",
       "      <td>7.19</td>\n",
       "      <td>127873</td>\n",
       "      <td>0.973888</td>\n",
       "      <td>95.975678</td>\n",
       "      <td>2000</td>\n",
       "      <td>107850000.0</td>\n",
       "      <td>cheap</td>\n",
       "      <td>1</td>\n",
       "      <td>0</td>\n",
       "      <td>1</td>\n",
       "      <td>0</td>\n",
       "      <td>0</td>\n",
       "      <td>0</td>\n",
       "      <td>0</td>\n",
       "      <td>0</td>\n",
       "      <td>0</td>\n",
       "      <td>0</td>\n",
       "      <td>0</td>\n",
       "      <td>0</td>\n",
       "      <td>Action</td>\n",
       "    </tr>\n",
       "    <tr>\n",
       "      <th>1</th>\n",
       "      <td>20</td>\n",
       "      <td>Team Fortress Classic</td>\n",
       "      <td>1999-04-01</td>\n",
       "      <td>Valve</td>\n",
       "      <td>Valve</td>\n",
       "      <td>0</td>\n",
       "      <td>Action</td>\n",
       "      <td>0</td>\n",
       "      <td>3318</td>\n",
       "      <td>633</td>\n",
       "      <td>277</td>\n",
       "      <td>62</td>\n",
       "      <td>7500000</td>\n",
       "      <td>3.99</td>\n",
       "      <td>3951</td>\n",
       "      <td>0.839787</td>\n",
       "      <td>80.508259</td>\n",
       "      <td>1999</td>\n",
       "      <td>29925000.0</td>\n",
       "      <td>very cheap</td>\n",
       "      <td>1</td>\n",
       "      <td>0</td>\n",
       "      <td>1</td>\n",
       "      <td>0</td>\n",
       "      <td>0</td>\n",
       "      <td>0</td>\n",
       "      <td>0</td>\n",
       "      <td>0</td>\n",
       "      <td>0</td>\n",
       "      <td>0</td>\n",
       "      <td>0</td>\n",
       "      <td>0</td>\n",
       "      <td>Action</td>\n",
       "    </tr>\n",
       "    <tr>\n",
       "      <th>2</th>\n",
       "      <td>30</td>\n",
       "      <td>Day of Defeat</td>\n",
       "      <td>2003-05-01</td>\n",
       "      <td>Valve</td>\n",
       "      <td>Valve</td>\n",
       "      <td>0</td>\n",
       "      <td>Action</td>\n",
       "      <td>0</td>\n",
       "      <td>3416</td>\n",
       "      <td>398</td>\n",
       "      <td>187</td>\n",
       "      <td>34</td>\n",
       "      <td>7500000</td>\n",
       "      <td>3.99</td>\n",
       "      <td>3814</td>\n",
       "      <td>0.895648</td>\n",
       "      <td>85.823915</td>\n",
       "      <td>2003</td>\n",
       "      <td>29925000.0</td>\n",
       "      <td>very cheap</td>\n",
       "      <td>1</td>\n",
       "      <td>0</td>\n",
       "      <td>1</td>\n",
       "      <td>0</td>\n",
       "      <td>0</td>\n",
       "      <td>0</td>\n",
       "      <td>0</td>\n",
       "      <td>0</td>\n",
       "      <td>0</td>\n",
       "      <td>0</td>\n",
       "      <td>0</td>\n",
       "      <td>0</td>\n",
       "      <td>FPS</td>\n",
       "    </tr>\n",
       "    <tr>\n",
       "      <th>3</th>\n",
       "      <td>40</td>\n",
       "      <td>Deathmatch Classic</td>\n",
       "      <td>2001-06-01</td>\n",
       "      <td>Valve</td>\n",
       "      <td>Valve</td>\n",
       "      <td>0</td>\n",
       "      <td>Action</td>\n",
       "      <td>0</td>\n",
       "      <td>1273</td>\n",
       "      <td>267</td>\n",
       "      <td>258</td>\n",
       "      <td>184</td>\n",
       "      <td>7500000</td>\n",
       "      <td>3.99</td>\n",
       "      <td>1540</td>\n",
       "      <td>0.826623</td>\n",
       "      <td>78.126542</td>\n",
       "      <td>2001</td>\n",
       "      <td>29925000.0</td>\n",
       "      <td>very cheap</td>\n",
       "      <td>1</td>\n",
       "      <td>0</td>\n",
       "      <td>1</td>\n",
       "      <td>0</td>\n",
       "      <td>0</td>\n",
       "      <td>0</td>\n",
       "      <td>0</td>\n",
       "      <td>0</td>\n",
       "      <td>0</td>\n",
       "      <td>0</td>\n",
       "      <td>0</td>\n",
       "      <td>0</td>\n",
       "      <td>Action</td>\n",
       "    </tr>\n",
       "    <tr>\n",
       "      <th>4</th>\n",
       "      <td>50</td>\n",
       "      <td>Half-Life: Opposing Force</td>\n",
       "      <td>1999-11-01</td>\n",
       "      <td>Gearbox Software</td>\n",
       "      <td>Valve</td>\n",
       "      <td>0</td>\n",
       "      <td>Action</td>\n",
       "      <td>0</td>\n",
       "      <td>5250</td>\n",
       "      <td>288</td>\n",
       "      <td>624</td>\n",
       "      <td>415</td>\n",
       "      <td>7500000</td>\n",
       "      <td>3.99</td>\n",
       "      <td>5538</td>\n",
       "      <td>0.947996</td>\n",
       "      <td>91.260480</td>\n",
       "      <td>1999</td>\n",
       "      <td>29925000.0</td>\n",
       "      <td>very cheap</td>\n",
       "      <td>1</td>\n",
       "      <td>1</td>\n",
       "      <td>1</td>\n",
       "      <td>0</td>\n",
       "      <td>0</td>\n",
       "      <td>0</td>\n",
       "      <td>0</td>\n",
       "      <td>0</td>\n",
       "      <td>0</td>\n",
       "      <td>0</td>\n",
       "      <td>0</td>\n",
       "      <td>0</td>\n",
       "      <td>FPS</td>\n",
       "    </tr>\n",
       "  </tbody>\n",
       "</table>\n",
       "</div>"
      ],
      "text/plain": [
       "   appid                       name release_date         developer publisher  \\\n",
       "0     10             Counter-Strike   2000-11-01             Valve     Valve   \n",
       "1     20      Team Fortress Classic   1999-04-01             Valve     Valve   \n",
       "2     30              Day of Defeat   2003-05-01             Valve     Valve   \n",
       "3     40         Deathmatch Classic   2001-06-01             Valve     Valve   \n",
       "4     50  Half-Life: Opposing Force   1999-11-01  Gearbox Software     Valve   \n",
       "\n",
       "   required_age  genres  achievements  positive_ratings  negative_ratings  \\\n",
       "0             0  Action             0            124534              3339   \n",
       "1             0  Action             0              3318               633   \n",
       "2             0  Action             0              3416               398   \n",
       "3             0  Action             0              1273               267   \n",
       "4             0  Action             0              5250               288   \n",
       "\n",
       "   average_playtime  median_playtime    owners  price  total_ratings  \\\n",
       "0             17612              317  15000000   7.19         127873   \n",
       "1               277               62   7500000   3.99           3951   \n",
       "2               187               34   7500000   3.99           3814   \n",
       "3               258              184   7500000   3.99           1540   \n",
       "4               624              415   7500000   3.99           5538   \n",
       "\n",
       "   ratings_ratio  weighted_rating  release_year  est_revenue price_categories  \\\n",
       "0       0.973888        95.975678          2000  107850000.0            cheap   \n",
       "1       0.839787        80.508259          1999   29925000.0       very cheap   \n",
       "2       0.895648        85.823915          2003   29925000.0       very cheap   \n",
       "3       0.826623        78.126542          2001   29925000.0       very cheap   \n",
       "4       0.947996        91.260480          1999   29925000.0       very cheap   \n",
       "\n",
       "   multi_player  single_player  action  adventure  casual  indie  \\\n",
       "0             1              0       1          0       0      0   \n",
       "1             1              0       1          0       0      0   \n",
       "2             1              0       1          0       0      0   \n",
       "3             1              0       1          0       0      0   \n",
       "4             1              1       1          0       0      0   \n",
       "\n",
       "   massively_multiplayer  rpg  racing  simulation  sports  strategy top_tag  \n",
       "0                      0    0       0           0       0         0  Action  \n",
       "1                      0    0       0           0       0         0  Action  \n",
       "2                      0    0       0           0       0         0     FPS  \n",
       "3                      0    0       0           0       0         0  Action  \n",
       "4                      0    0       0           0       0         0     FPS  "
      ]
     },
     "execution_count": 87,
     "metadata": {},
     "output_type": "execute_result"
    }
   ],
   "source": [
    "def remove_non_english(df):\n",
    "    df = df[df['english'] == 1].copy()\n",
    "    \n",
    "    # doesn't contain 3 or more non-ascii characters\n",
    "    df = df[~df['name'].str.contains('[^\\u0001-\\u007F]{3,}')]\n",
    "    \n",
    "    df = df.drop('english', axis=1)\n",
    "    \n",
    "    return df\n",
    "\n",
    "\n",
    "def calc_rating(row):\n",
    "\n",
    "    import math\n",
    "\n",
    "    pos = row['positive_ratings']\n",
    "    neg = row['negative_ratings']\n",
    "\n",
    "    total_reviews = pos + neg\n",
    "\n",
    "    average = pos / total_reviews\n",
    "\n",
    "    score = average - (average*0.5) * 2**(-math.log10(total_reviews + 1))\n",
    "\n",
    "    return score * 100\n",
    "\n",
    "\n",
    "def get_unique(series):\n",
    "    return set(list(itertools.chain(*series.apply(lambda x: [c for c in x.split(';')]))))\n",
    "\n",
    "\n",
    "def process_cat_gen_tag(df):\n",
    "    cat_cols = get_unique(df['categories'])\n",
    "    \n",
    "    cat_cols = [\n",
    "#         'Local Multi-Player',\n",
    "#         'MMO',\n",
    "#         'Mods',\n",
    "        'Multi-player',\n",
    "#         'Online Co-op',\n",
    "#         'Online Multi-Player',\n",
    "        'Single-player'\n",
    "    ]\n",
    "    \n",
    "    for col in sorted(cat_cols):\n",
    "        col_name = re.sub(r'[\\s\\-\\/]', '_', col.lower())\n",
    "        col_name = re.sub(r'[()]', '', col_name)\n",
    "        \n",
    "        df[col_name] = df['categories'].apply(lambda x: 1 if col in x.split(';') else 0)\n",
    "        \n",
    "    gen_cols = get_unique(df['genres'])\n",
    "    \n",
    "    gen_cols = [\n",
    "#         'Accounting',\n",
    "        'Action',\n",
    "        'Adventure',\n",
    "#         'Animation & Modeling',\n",
    "#         'Audio Production',\n",
    "        'Casual',\n",
    "#         'Design & Illustration',\n",
    "#         'Documentary',\n",
    "#         'Early Access',\n",
    "#         'Education',\n",
    "#         'Free to Play',\n",
    "#         'Game Development',\n",
    "#         'Gore',\n",
    "        'Indie',\n",
    "        'Massively Multiplayer',\n",
    "#         'Nudity',\n",
    "#         'Photo Editing',\n",
    "        'RPG',\n",
    "        'Racing',\n",
    "#         'Sexual Content',\n",
    "        'Simulation',\n",
    "#         'Software Training',\n",
    "        'Sports',\n",
    "        'Strategy'\n",
    "#         'Tutorial',\n",
    "#         'Utilities',\n",
    "#         'Video Production',\n",
    "#         'Violent',\n",
    "#         'Web Publishing'\n",
    "    ]\n",
    "    \n",
    "    gen_col_names = []\n",
    "    \n",
    "    for col in sorted(gen_cols):\n",
    "        col_name = col.lower().replace('&', 'and').replace(' ', '_')\n",
    "        gen_col_names.append(col_name)\n",
    "        \n",
    "        df[col_name] = df['genres'].apply(lambda x: 1 if col in x.split(';') else 0)\n",
    "    \n",
    "    # remove \"non-games\" based on genre\n",
    "    gen_sums = df[gen_col_names].sum(axis=1)\n",
    "    df = df[gen_sums > 0].copy()\n",
    "        \n",
    "    # tag_cols = get_unique(df['steamspy_tags'])\n",
    "    df['top_tag'] = df['steamspy_tags'].apply(lambda x: x.split(';')[0])\n",
    "    \n",
    "    # display(cat_cols, gen_cols, tag_cols)\n",
    "    # df = df.drop(['categories', 'genres', 'steamspy_tags'], axis=1)\n",
    "    df = df.drop(['categories', 'steamspy_tags'], axis=1)\n",
    "    \n",
    "    return df\n",
    "\n",
    "\n",
    "def process_year(df):\n",
    "    df['release_date'] = df['release_date'].astype('datetime64[ns]')\n",
    "    df['release_year'] = df['release_date'].apply(lambda x: x.year)\n",
    "    return df\n",
    "\n",
    "\n",
    "def process_dev_pub(df):\n",
    "    for col in ['developer', 'publisher']:\n",
    "        col_name = col+'_rating'\n",
    "        ratings = df.groupby(col).mean()['rating']\n",
    "        df[col_name] = df[col].apply(lambda x: ratings[x] if x in ratings else 0)\n",
    "        \n",
    "        release_counts =  df.groupby(col).count()['steam_appid']\n",
    "        df[col+'_releases'] = df[col].apply(lambda x: release_counts[x] if x in release_counts else 0)\n",
    "        \n",
    "    return df\n",
    "    \n",
    "def process_revenue(df):\n",
    "    df['est_revenue'] = df['owners'] * df['price']\n",
    "    return df\n",
    "\n",
    "\n",
    "def process_price(df):\n",
    "    cut_points = [-1, 0, 4, 10, 30, 50, 1000]\n",
    "    label_names = ['free', 'very cheap', 'cheap', 'moderate', 'expensive', 'very expensive']\n",
    "    \n",
    "    df['price_categories'] = pd.cut(df['price'], cut_points, labels=label_names)\n",
    "    \n",
    "    return df\n",
    "\n",
    "\n",
    "def pre_process():\n",
    "    df = pd.read_csv('../data/steam_clean.csv')\n",
    "    \n",
    "    # english only\n",
    "    df = remove_non_english(df)\n",
    "    \n",
    "    # windows only\n",
    "    df = df[df['platforms'].str.contains('windows')].drop('platforms', axis=1).copy()\n",
    "    \n",
    "    df['owners'] = df['owners'].str.split('-').apply(lambda x: (int(x[0]) + int(x[1])) / 2).astype(int)\n",
    "    # df['owners'] = df['owners'].str.replace('[+,]', '').astype(int)\n",
    "    \n",
    "    # calculate ratings\n",
    "    df['total_ratings'] = df['positive_ratings'] + df['negative_ratings']\n",
    "    df['ratings_ratio'] = df['positive_ratings'] / df['total_ratings']\n",
    "    df['weighted_rating'] = df.apply(calc_rating, axis=1)\n",
    "    # df = df.drop(['positive', 'negative'], axis=1)\n",
    "    \n",
    "    df = df.rename(columns={'average_forever': 'average_playtime', 'median_forever': 'median_playtime'})\n",
    "    \n",
    "    df = process_year(df)\n",
    "    # df = process_dev_pub(df)\n",
    "\n",
    "    df = process_revenue(df)\n",
    "    df = process_price(df)\n",
    "    \n",
    "    df = process_cat_gen_tag(df)\n",
    "    \n",
    "    return df\n",
    "\n",
    "data = pre_process()\n",
    "\n",
    "print(data.isnull().sum().value_counts())\n",
    "data.head()"
   ]
  },
  {
   "cell_type": "markdown",
   "metadata": {},
   "source": [
    "## Correlations"
   ]
  },
  {
   "cell_type": "code",
   "execution_count": 135,
   "metadata": {},
   "outputs": [
    {
     "name": "stdout",
     "output_type": "stream",
     "text": [
      "3644\n"
     ]
    },
    {
     "data": {
      "text/plain": [
       "appid                   -0.261301\n",
       "indie                   -0.234366\n",
       "release_year            -0.230187\n",
       "single_player           -0.165358\n",
       "casual                  -0.150413\n",
       "adventure               -0.075784\n",
       "racing                  -0.026276\n",
       "strategy                -0.015206\n",
       "simulation              -0.007561\n",
       "sports                  -0.003672\n",
       "median_playtime          0.016247\n",
       "rpg                      0.035808\n",
       "achievements             0.056737\n",
       "massively_multiplayer    0.125840\n",
       "action                   0.142425\n",
       "price                    0.144030\n",
       "average_playtime         0.167010\n",
       "required_age             0.212559\n",
       "ratings_ratio            0.215339\n",
       "multi_player             0.230884\n",
       "weighted_rating          0.278364\n",
       "negative_ratings         0.283743\n",
       "positive_ratings         0.325064\n",
       "total_ratings            0.329574\n",
       "est_revenue              0.352196\n",
       "owners                   0.492271\n",
       "log_owners               1.000000\n",
       "Name: log_owners, dtype: float64"
      ]
     },
     "execution_count": 135,
     "metadata": {},
     "output_type": "execute_result"
    }
   ],
   "source": [
    "import math\n",
    "\n",
    "df = data.copy()\n",
    "df['log_owners'] = df['owners'].apply(lambda x: math.log(x))\n",
    "df = df[df['owners'] >= 100000]\n",
    "\n",
    "print(df.shape[0])\n",
    "df.corr()['log_owners'].sort_values()"
   ]
  },
  {
   "cell_type": "code",
   "execution_count": 172,
   "metadata": {
    "scrolled": false
   },
   "outputs": [
    {
     "data": {
      "text/html": [
       "<div>\n",
       "<style scoped>\n",
       "    .dataframe tbody tr th:only-of-type {\n",
       "        vertical-align: middle;\n",
       "    }\n",
       "\n",
       "    .dataframe tbody tr th {\n",
       "        vertical-align: top;\n",
       "    }\n",
       "\n",
       "    .dataframe thead th {\n",
       "        text-align: right;\n",
       "    }\n",
       "</style>\n",
       "<table border=\"1\" class=\"dataframe\">\n",
       "  <thead>\n",
       "    <tr style=\"text-align: right;\">\n",
       "      <th></th>\n",
       "      <th>appid</th>\n",
       "      <th>name</th>\n",
       "      <th>release_date</th>\n",
       "      <th>developer</th>\n",
       "      <th>publisher</th>\n",
       "      <th>required_age</th>\n",
       "      <th>genres</th>\n",
       "      <th>achievements</th>\n",
       "      <th>positive_ratings</th>\n",
       "      <th>negative_ratings</th>\n",
       "      <th>average_playtime</th>\n",
       "      <th>median_playtime</th>\n",
       "      <th>owners</th>\n",
       "      <th>price</th>\n",
       "      <th>total_ratings</th>\n",
       "      <th>ratings_ratio</th>\n",
       "      <th>weighted_rating</th>\n",
       "      <th>release_year</th>\n",
       "      <th>est_revenue</th>\n",
       "      <th>price_categories</th>\n",
       "      <th>multi_player</th>\n",
       "      <th>single_player</th>\n",
       "      <th>action</th>\n",
       "      <th>adventure</th>\n",
       "      <th>casual</th>\n",
       "      <th>indie</th>\n",
       "      <th>massively_multiplayer</th>\n",
       "      <th>rpg</th>\n",
       "      <th>racing</th>\n",
       "      <th>simulation</th>\n",
       "      <th>sports</th>\n",
       "      <th>strategy</th>\n",
       "      <th>top_tag</th>\n",
       "      <th>log_owners</th>\n",
       "    </tr>\n",
       "  </thead>\n",
       "  <tbody>\n",
       "    <tr>\n",
       "      <th>12836</th>\n",
       "      <td>578080</td>\n",
       "      <td>PLAYERUNKNOWN'S BATTLEGROUNDS</td>\n",
       "      <td>2017-12-21</td>\n",
       "      <td>PUBG Corporation</td>\n",
       "      <td>PUBG Corporation</td>\n",
       "      <td>0</td>\n",
       "      <td>Action;Adventure;Massively Multiplayer</td>\n",
       "      <td>37</td>\n",
       "      <td>496184</td>\n",
       "      <td>487076</td>\n",
       "      <td>22938</td>\n",
       "      <td>12434</td>\n",
       "      <td>75000000</td>\n",
       "      <td>26.99</td>\n",
       "      <td>983260</td>\n",
       "      <td>0.504632</td>\n",
       "      <td>50.066901</td>\n",
       "      <td>2017</td>\n",
       "      <td>2.024250e+09</td>\n",
       "      <td>moderate</td>\n",
       "      <td>1</td>\n",
       "      <td>0</td>\n",
       "      <td>1</td>\n",
       "      <td>1</td>\n",
       "      <td>0</td>\n",
       "      <td>0</td>\n",
       "      <td>1</td>\n",
       "      <td>0</td>\n",
       "      <td>0</td>\n",
       "      <td>0</td>\n",
       "      <td>0</td>\n",
       "      <td>0</td>\n",
       "      <td>Survival</td>\n",
       "      <td>18.132999</td>\n",
       "    </tr>\n",
       "    <tr>\n",
       "      <th>1634</th>\n",
       "      <td>230410</td>\n",
       "      <td>Warframe</td>\n",
       "      <td>2013-03-25</td>\n",
       "      <td>Digital Extremes</td>\n",
       "      <td>Digital Extremes</td>\n",
       "      <td>16</td>\n",
       "      <td>Action;Free to Play</td>\n",
       "      <td>187</td>\n",
       "      <td>226541</td>\n",
       "      <td>20268</td>\n",
       "      <td>5845</td>\n",
       "      <td>394</td>\n",
       "      <td>35000000</td>\n",
       "      <td>0.00</td>\n",
       "      <td>246809</td>\n",
       "      <td>0.917880</td>\n",
       "      <td>90.695302</td>\n",
       "      <td>2013</td>\n",
       "      <td>0.000000e+00</td>\n",
       "      <td>free</td>\n",
       "      <td>1</td>\n",
       "      <td>1</td>\n",
       "      <td>1</td>\n",
       "      <td>0</td>\n",
       "      <td>0</td>\n",
       "      <td>0</td>\n",
       "      <td>0</td>\n",
       "      <td>0</td>\n",
       "      <td>0</td>\n",
       "      <td>0</td>\n",
       "      <td>0</td>\n",
       "      <td>0</td>\n",
       "      <td>Free to Play</td>\n",
       "      <td>17.370859</td>\n",
       "    </tr>\n",
       "    <tr>\n",
       "      <th>3362</th>\n",
       "      <td>304930</td>\n",
       "      <td>Unturned</td>\n",
       "      <td>2017-07-07</td>\n",
       "      <td>Smartly Dressed Games</td>\n",
       "      <td>Smartly Dressed Games</td>\n",
       "      <td>0</td>\n",
       "      <td>Action;Adventure;Casual;Free to Play;Indie</td>\n",
       "      <td>46</td>\n",
       "      <td>292574</td>\n",
       "      <td>31482</td>\n",
       "      <td>3248</td>\n",
       "      <td>413</td>\n",
       "      <td>35000000</td>\n",
       "      <td>0.00</td>\n",
       "      <td>324056</td>\n",
       "      <td>0.902850</td>\n",
       "      <td>89.294812</td>\n",
       "      <td>2017</td>\n",
       "      <td>0.000000e+00</td>\n",
       "      <td>free</td>\n",
       "      <td>0</td>\n",
       "      <td>1</td>\n",
       "      <td>1</td>\n",
       "      <td>1</td>\n",
       "      <td>1</td>\n",
       "      <td>1</td>\n",
       "      <td>0</td>\n",
       "      <td>0</td>\n",
       "      <td>0</td>\n",
       "      <td>0</td>\n",
       "      <td>0</td>\n",
       "      <td>0</td>\n",
       "      <td>Free to Play</td>\n",
       "      <td>17.370859</td>\n",
       "    </tr>\n",
       "    <tr>\n",
       "      <th>1727</th>\n",
       "      <td>236390</td>\n",
       "      <td>War Thunder</td>\n",
       "      <td>2013-08-15</td>\n",
       "      <td>Gaijin Entertainment</td>\n",
       "      <td>Gaijin Entertainment</td>\n",
       "      <td>0</td>\n",
       "      <td>Action;Free to Play;Massively Multiplayer;Simu...</td>\n",
       "      <td>46</td>\n",
       "      <td>83852</td>\n",
       "      <td>22166</td>\n",
       "      <td>4200</td>\n",
       "      <td>297</td>\n",
       "      <td>15000000</td>\n",
       "      <td>0.00</td>\n",
       "      <td>106018</td>\n",
       "      <td>0.790922</td>\n",
       "      <td>77.877967</td>\n",
       "      <td>2013</td>\n",
       "      <td>0.000000e+00</td>\n",
       "      <td>free</td>\n",
       "      <td>0</td>\n",
       "      <td>1</td>\n",
       "      <td>1</td>\n",
       "      <td>0</td>\n",
       "      <td>0</td>\n",
       "      <td>0</td>\n",
       "      <td>1</td>\n",
       "      <td>0</td>\n",
       "      <td>0</td>\n",
       "      <td>1</td>\n",
       "      <td>0</td>\n",
       "      <td>0</td>\n",
       "      <td>Free to Play</td>\n",
       "      <td>16.523561</td>\n",
       "    </tr>\n",
       "    <tr>\n",
       "      <th>2952</th>\n",
       "      <td>291550</td>\n",
       "      <td>Brawlhalla</td>\n",
       "      <td>2017-10-17</td>\n",
       "      <td>Blue Mammoth Games</td>\n",
       "      <td>Ubisoft</td>\n",
       "      <td>0</td>\n",
       "      <td>Action;Free to Play;Indie</td>\n",
       "      <td>39</td>\n",
       "      <td>73268</td>\n",
       "      <td>14489</td>\n",
       "      <td>724</td>\n",
       "      <td>146</td>\n",
       "      <td>15000000</td>\n",
       "      <td>0.00</td>\n",
       "      <td>87757</td>\n",
       "      <td>0.834896</td>\n",
       "      <td>82.132808</td>\n",
       "      <td>2017</td>\n",
       "      <td>0.000000e+00</td>\n",
       "      <td>free</td>\n",
       "      <td>1</td>\n",
       "      <td>1</td>\n",
       "      <td>1</td>\n",
       "      <td>0</td>\n",
       "      <td>0</td>\n",
       "      <td>1</td>\n",
       "      <td>0</td>\n",
       "      <td>0</td>\n",
       "      <td>0</td>\n",
       "      <td>0</td>\n",
       "      <td>0</td>\n",
       "      <td>0</td>\n",
       "      <td>Free to Play</td>\n",
       "      <td>16.523561</td>\n",
       "    </tr>\n",
       "    <tr>\n",
       "      <th>2478</th>\n",
       "      <td>271590</td>\n",
       "      <td>Grand Theft Auto V</td>\n",
       "      <td>2015-04-13</td>\n",
       "      <td>Rockstar North</td>\n",
       "      <td>Rockstar Games</td>\n",
       "      <td>18</td>\n",
       "      <td>Action;Adventure</td>\n",
       "      <td>77</td>\n",
       "      <td>329061</td>\n",
       "      <td>139308</td>\n",
       "      <td>9837</td>\n",
       "      <td>4834</td>\n",
       "      <td>15000000</td>\n",
       "      <td>24.99</td>\n",
       "      <td>468369</td>\n",
       "      <td>0.702568</td>\n",
       "      <td>69.567115</td>\n",
       "      <td>2015</td>\n",
       "      <td>3.748500e+08</td>\n",
       "      <td>moderate</td>\n",
       "      <td>1</td>\n",
       "      <td>1</td>\n",
       "      <td>1</td>\n",
       "      <td>1</td>\n",
       "      <td>0</td>\n",
       "      <td>0</td>\n",
       "      <td>0</td>\n",
       "      <td>0</td>\n",
       "      <td>0</td>\n",
       "      <td>0</td>\n",
       "      <td>0</td>\n",
       "      <td>0</td>\n",
       "      <td>Open World</td>\n",
       "      <td>16.523561</td>\n",
       "    </tr>\n",
       "    <tr>\n",
       "      <th>3251</th>\n",
       "      <td>301520</td>\n",
       "      <td>Robocraft</td>\n",
       "      <td>2017-08-24</td>\n",
       "      <td>Freejam</td>\n",
       "      <td>Freejam</td>\n",
       "      <td>0</td>\n",
       "      <td>Action;Free to Play;Indie;Massively Multiplaye...</td>\n",
       "      <td>43</td>\n",
       "      <td>80360</td>\n",
       "      <td>30987</td>\n",
       "      <td>1369</td>\n",
       "      <td>211</td>\n",
       "      <td>15000000</td>\n",
       "      <td>0.00</td>\n",
       "      <td>111347</td>\n",
       "      <td>0.721708</td>\n",
       "      <td>71.079018</td>\n",
       "      <td>2017</td>\n",
       "      <td>0.000000e+00</td>\n",
       "      <td>free</td>\n",
       "      <td>1</td>\n",
       "      <td>0</td>\n",
       "      <td>1</td>\n",
       "      <td>0</td>\n",
       "      <td>0</td>\n",
       "      <td>1</td>\n",
       "      <td>1</td>\n",
       "      <td>1</td>\n",
       "      <td>0</td>\n",
       "      <td>1</td>\n",
       "      <td>0</td>\n",
       "      <td>0</td>\n",
       "      <td>Free to Play</td>\n",
       "      <td>16.523561</td>\n",
       "    </tr>\n",
       "    <tr>\n",
       "      <th>121</th>\n",
       "      <td>4000</td>\n",
       "      <td>Garry's Mod</td>\n",
       "      <td>2006-11-29</td>\n",
       "      <td>Facepunch Studios</td>\n",
       "      <td>Valve</td>\n",
       "      <td>0</td>\n",
       "      <td>Indie;Simulation</td>\n",
       "      <td>29</td>\n",
       "      <td>363721</td>\n",
       "      <td>16433</td>\n",
       "      <td>12422</td>\n",
       "      <td>1875</td>\n",
       "      <td>15000000</td>\n",
       "      <td>6.99</td>\n",
       "      <td>380154</td>\n",
       "      <td>0.956773</td>\n",
       "      <td>94.677179</td>\n",
       "      <td>2006</td>\n",
       "      <td>1.048500e+08</td>\n",
       "      <td>cheap</td>\n",
       "      <td>1</td>\n",
       "      <td>1</td>\n",
       "      <td>0</td>\n",
       "      <td>0</td>\n",
       "      <td>0</td>\n",
       "      <td>1</td>\n",
       "      <td>0</td>\n",
       "      <td>0</td>\n",
       "      <td>0</td>\n",
       "      <td>1</td>\n",
       "      <td>0</td>\n",
       "      <td>0</td>\n",
       "      <td>Sandbox</td>\n",
       "      <td>16.523561</td>\n",
       "    </tr>\n",
       "    <tr>\n",
       "      <th>1772</th>\n",
       "      <td>238960</td>\n",
       "      <td>Path of Exile</td>\n",
       "      <td>2013-10-23</td>\n",
       "      <td>Grinding Gear Games</td>\n",
       "      <td>Grinding Gear Games</td>\n",
       "      <td>0</td>\n",
       "      <td>Action;Adventure;Free to Play;Indie;Massively ...</td>\n",
       "      <td>120</td>\n",
       "      <td>71593</td>\n",
       "      <td>6117</td>\n",
       "      <td>5263</td>\n",
       "      <td>492</td>\n",
       "      <td>15000000</td>\n",
       "      <td>0.00</td>\n",
       "      <td>77710</td>\n",
       "      <td>0.921284</td>\n",
       "      <td>90.575389</td>\n",
       "      <td>2013</td>\n",
       "      <td>0.000000e+00</td>\n",
       "      <td>free</td>\n",
       "      <td>1</td>\n",
       "      <td>1</td>\n",
       "      <td>1</td>\n",
       "      <td>1</td>\n",
       "      <td>0</td>\n",
       "      <td>1</td>\n",
       "      <td>1</td>\n",
       "      <td>1</td>\n",
       "      <td>0</td>\n",
       "      <td>0</td>\n",
       "      <td>0</td>\n",
       "      <td>0</td>\n",
       "      <td>Free to Play</td>\n",
       "      <td>16.523561</td>\n",
       "    </tr>\n",
       "    <tr>\n",
       "      <th>2951</th>\n",
       "      <td>291480</td>\n",
       "      <td>Warface</td>\n",
       "      <td>2014-07-01</td>\n",
       "      <td>My.com</td>\n",
       "      <td>My.com</td>\n",
       "      <td>16</td>\n",
       "      <td>Action;Free to Play;Massively Multiplayer</td>\n",
       "      <td>30</td>\n",
       "      <td>32751</td>\n",
       "      <td>14409</td>\n",
       "      <td>949</td>\n",
       "      <td>104</td>\n",
       "      <td>15000000</td>\n",
       "      <td>0.00</td>\n",
       "      <td>47160</td>\n",
       "      <td>0.694466</td>\n",
       "      <td>68.085960</td>\n",
       "      <td>2014</td>\n",
       "      <td>0.000000e+00</td>\n",
       "      <td>free</td>\n",
       "      <td>1</td>\n",
       "      <td>0</td>\n",
       "      <td>1</td>\n",
       "      <td>0</td>\n",
       "      <td>0</td>\n",
       "      <td>0</td>\n",
       "      <td>1</td>\n",
       "      <td>0</td>\n",
       "      <td>0</td>\n",
       "      <td>0</td>\n",
       "      <td>0</td>\n",
       "      <td>0</td>\n",
       "      <td>Free to Play</td>\n",
       "      <td>16.523561</td>\n",
       "    </tr>\n",
       "  </tbody>\n",
       "</table>\n",
       "</div>"
      ],
      "text/plain": [
       "        appid                           name release_date  \\\n",
       "12836  578080  PLAYERUNKNOWN'S BATTLEGROUNDS   2017-12-21   \n",
       "1634   230410                       Warframe   2013-03-25   \n",
       "3362   304930                       Unturned   2017-07-07   \n",
       "1727   236390                    War Thunder   2013-08-15   \n",
       "2952   291550                     Brawlhalla   2017-10-17   \n",
       "2478   271590             Grand Theft Auto V   2015-04-13   \n",
       "3251   301520                      Robocraft   2017-08-24   \n",
       "121      4000                    Garry's Mod   2006-11-29   \n",
       "1772   238960                  Path of Exile   2013-10-23   \n",
       "2951   291480                        Warface   2014-07-01   \n",
       "\n",
       "                   developer              publisher  required_age  \\\n",
       "12836       PUBG Corporation       PUBG Corporation             0   \n",
       "1634        Digital Extremes       Digital Extremes            16   \n",
       "3362   Smartly Dressed Games  Smartly Dressed Games             0   \n",
       "1727    Gaijin Entertainment   Gaijin Entertainment             0   \n",
       "2952      Blue Mammoth Games                Ubisoft             0   \n",
       "2478          Rockstar North         Rockstar Games            18   \n",
       "3251                 Freejam                Freejam             0   \n",
       "121        Facepunch Studios                  Valve             0   \n",
       "1772     Grinding Gear Games    Grinding Gear Games             0   \n",
       "2951                  My.com                 My.com            16   \n",
       "\n",
       "                                                  genres  achievements  \\\n",
       "12836             Action;Adventure;Massively Multiplayer            37   \n",
       "1634                                 Action;Free to Play           187   \n",
       "3362          Action;Adventure;Casual;Free to Play;Indie            46   \n",
       "1727   Action;Free to Play;Massively Multiplayer;Simu...            46   \n",
       "2952                           Action;Free to Play;Indie            39   \n",
       "2478                                    Action;Adventure            77   \n",
       "3251   Action;Free to Play;Indie;Massively Multiplaye...            43   \n",
       "121                                     Indie;Simulation            29   \n",
       "1772   Action;Adventure;Free to Play;Indie;Massively ...           120   \n",
       "2951           Action;Free to Play;Massively Multiplayer            30   \n",
       "\n",
       "       positive_ratings  negative_ratings  average_playtime  median_playtime  \\\n",
       "12836            496184            487076             22938            12434   \n",
       "1634             226541             20268              5845              394   \n",
       "3362             292574             31482              3248              413   \n",
       "1727              83852             22166              4200              297   \n",
       "2952              73268             14489               724              146   \n",
       "2478             329061            139308              9837             4834   \n",
       "3251              80360             30987              1369              211   \n",
       "121              363721             16433             12422             1875   \n",
       "1772              71593              6117              5263              492   \n",
       "2951              32751             14409               949              104   \n",
       "\n",
       "         owners  price  total_ratings  ratings_ratio  weighted_rating  \\\n",
       "12836  75000000  26.99         983260       0.504632        50.066901   \n",
       "1634   35000000   0.00         246809       0.917880        90.695302   \n",
       "3362   35000000   0.00         324056       0.902850        89.294812   \n",
       "1727   15000000   0.00         106018       0.790922        77.877967   \n",
       "2952   15000000   0.00          87757       0.834896        82.132808   \n",
       "2478   15000000  24.99         468369       0.702568        69.567115   \n",
       "3251   15000000   0.00         111347       0.721708        71.079018   \n",
       "121    15000000   6.99         380154       0.956773        94.677179   \n",
       "1772   15000000   0.00          77710       0.921284        90.575389   \n",
       "2951   15000000   0.00          47160       0.694466        68.085960   \n",
       "\n",
       "       release_year   est_revenue price_categories  multi_player  \\\n",
       "12836          2017  2.024250e+09         moderate             1   \n",
       "1634           2013  0.000000e+00             free             1   \n",
       "3362           2017  0.000000e+00             free             0   \n",
       "1727           2013  0.000000e+00             free             0   \n",
       "2952           2017  0.000000e+00             free             1   \n",
       "2478           2015  3.748500e+08         moderate             1   \n",
       "3251           2017  0.000000e+00             free             1   \n",
       "121            2006  1.048500e+08            cheap             1   \n",
       "1772           2013  0.000000e+00             free             1   \n",
       "2951           2014  0.000000e+00             free             1   \n",
       "\n",
       "       single_player  action  adventure  casual  indie  massively_multiplayer  \\\n",
       "12836              0       1          1       0      0                      1   \n",
       "1634               1       1          0       0      0                      0   \n",
       "3362               1       1          1       1      1                      0   \n",
       "1727               1       1          0       0      0                      1   \n",
       "2952               1       1          0       0      1                      0   \n",
       "2478               1       1          1       0      0                      0   \n",
       "3251               0       1          0       0      1                      1   \n",
       "121                1       0          0       0      1                      0   \n",
       "1772               1       1          1       0      1                      1   \n",
       "2951               0       1          0       0      0                      1   \n",
       "\n",
       "       rpg  racing  simulation  sports  strategy       top_tag  log_owners  \n",
       "12836    0       0           0       0         0      Survival   18.132999  \n",
       "1634     0       0           0       0         0  Free to Play   17.370859  \n",
       "3362     0       0           0       0         0  Free to Play   17.370859  \n",
       "1727     0       0           1       0         0  Free to Play   16.523561  \n",
       "2952     0       0           0       0         0  Free to Play   16.523561  \n",
       "2478     0       0           0       0         0    Open World   16.523561  \n",
       "3251     1       0           1       0         0  Free to Play   16.523561  \n",
       "121      0       0           1       0         0       Sandbox   16.523561  \n",
       "1772     1       0           0       0         0  Free to Play   16.523561  \n",
       "2951     0       0           0       0         0  Free to Play   16.523561  "
      ]
     },
     "execution_count": 172,
     "metadata": {},
     "output_type": "execute_result"
    }
   ],
   "source": [
    "non_valve = df[~df['developer'].str.contains('Valve')].sort_values(by='owners', ascending=False)\n",
    "non_valve.head(10)"
   ]
  },
  {
   "cell_type": "code",
   "execution_count": 184,
   "metadata": {},
   "outputs": [
    {
     "data": {
      "text/plain": [
       "<matplotlib.axes._subplots.AxesSubplot at 0x2002a31f198>"
      ]
     },
     "execution_count": 184,
     "metadata": {},
     "output_type": "execute_result"
    },
    {
     "data": {
      "image/png": "[encoded data removed]",
      "text/plain": [
       "<Figure size 432x288 with 1 Axes>"
      ]
     },
     "metadata": {
      "needs_background": "light"
     },
     "output_type": "display_data"
    }
   ],
   "source": [
    "non_valve.head(1000).corr()['weighted_rating'][genre_cols].plot.bar()"
   ]
  },
  {
   "cell_type": "code",
   "execution_count": 186,
   "metadata": {},
   "outputs": [
    {
     "data": {
      "text/plain": [
       "<matplotlib.axes._subplots.AxesSubplot at 0x2002734e6d8>"
      ]
     },
     "execution_count": 186,
     "metadata": {},
     "output_type": "execute_result"
    },
    {
     "data": {
      "image/png": "[encoded data removed]",
      "text/plain": [
       "<Figure size 432x288 with 1 Axes>"
      ]
     },
     "metadata": {
      "needs_background": "light"
     },
     "output_type": "display_data"
    }
   ],
   "source": [
    "non_valve.groupby('owners').mean()[genre_cols].plot.bar(stacked=True)"
   ]
  },
  {
   "cell_type": "code",
   "execution_count": 143,
   "metadata": {},
   "outputs": [
    {
     "data": {
      "text/plain": [
       "<matplotlib.axes._subplots.AxesSubplot at 0x2002aa38e80>"
      ]
     },
     "execution_count": 143,
     "metadata": {},
     "output_type": "execute_result"
    },
    {
     "data": {
      "image/png": "[encoded data removed]",
      "text/plain": [
       "<Figure size 432x288 with 1 Axes>"
      ]
     },
     "metadata": {
      "needs_background": "light"
     },
     "output_type": "display_data"
    }
   ],
   "source": [
    "df.corr()['owners'][genre_cols].plot.bar()"
   ]
  },
  {
   "cell_type": "markdown",
   "metadata": {},
   "source": [
    "## Release Year"
   ]
  },
  {
   "cell_type": "code",
   "execution_count": 133,
   "metadata": {},
   "outputs": [
    {
     "data": {
      "text/plain": [
       "<matplotlib.collections.PathCollection at 0x2002d4c0908>"
      ]
     },
     "execution_count": 133,
     "metadata": {},
     "output_type": "execute_result"
    },
    {
     "data": {
      "image/png": "[encoded data removed]",
      "text/plain": [
       "<Figure size 432x288 with 1 Axes>"
      ]
     },
     "metadata": {
      "needs_background": "light"
     },
     "output_type": "display_data"
    }
   ],
   "source": [
    "import math\n",
    "log_owners = data['owners'].apply(lambda x: math.log(x))\n",
    "# as box/violin?\n",
    "plt.scatter(log_owners, data['weighted_rating'])"
   ]
  },
  {
   "cell_type": "code",
   "execution_count": 114,
   "metadata": {},
   "outputs": [
    {
     "data": {
      "text/plain": [
       "<matplotlib.axes._subplots.AxesSubplot at 0x20029f7d048>"
      ]
     },
     "execution_count": 114,
     "metadata": {},
     "output_type": "execute_result"
    },
    {
     "data": {
      "image/png": "[encoded data removed]",
      "text/plain": [
       "<Figure size 432x288 with 1 Axes>"
      ]
     },
     "metadata": {
      "needs_background": "light"
     },
     "output_type": "display_data"
    }
   ],
   "source": [
    "df2 = df[df['positive_ratings'].apply(lambda x: 10 < x < 500000)]\n",
    "df2['positive_ratings'].plot()"
   ]
  },
  {
   "cell_type": "code",
   "execution_count": 19,
   "metadata": {},
   "outputs": [
    {
     "data": {
      "text/plain": [
       "<matplotlib.axes._subplots.AxesSubplot at 0x2df2be9a518>"
      ]
     },
     "execution_count": 19,
     "metadata": {},
     "output_type": "execute_result"
    },
    {
     "data": {
      "image/png": "[encoded data removed]",
      "text/plain": [
       "<Figure size 432x288 with 1 Axes>"
      ]
     },
     "metadata": {
      "needs_background": "light"
     },
     "output_type": "display_data"
    }
   ],
   "source": [
    "df.groupby('release_year').count()['appid'].plot.bar()"
   ]
  },
  {
   "cell_type": "code",
   "execution_count": 73,
   "metadata": {},
   "outputs": [
    {
     "data": {
      "image/png": "[encoded data removed]",
      "text/plain": [
       "<Figure size 432x288 with 1 Axes>"
      ]
     },
     "metadata": {
      "needs_background": "light"
     },
     "output_type": "display_data"
    }
   ],
   "source": [
    "df.pivot_table('appid', index=['release_year'], columns='price_categories', aggfunc='count').plot.bar(stacked=True)"
   ]
  },
  {
   "cell_type": "code",
   "execution_count": 16,
   "metadata": {},
   "outputs": [
    {
     "data": {
      "text/plain": [
       "<matplotlib.axes._subplots.AxesSubplot at 0x2002127d470>"
      ]
     },
     "execution_count": 16,
     "metadata": {},
     "output_type": "execute_result"
    },
    {
     "data": {
      "image/png": "[encoded data removed]",
      "text/plain": [
       "<Figure size 1080x576 with 1 Axes>"
      ]
     },
     "metadata": {
      "needs_background": "light"
     },
     "output_type": "display_data"
    }
   ],
   "source": [
    "genre_cols = data.columns[-10:]\n",
    "df.groupby('release_year').sum()[genre_cols].plot.bar(stacked=True, figsize=(15, 8))#['weighted_rating'].plot.bar()"
   ]
  },
  {
   "cell_type": "code",
   "execution_count": 18,
   "metadata": {},
   "outputs": [
    {
     "data": {
      "text/plain": [
       "<matplotlib.axes._subplots.AxesSubplot at 0x20021239470>"
      ]
     },
     "execution_count": 18,
     "metadata": {},
     "output_type": "execute_result"
    },
    {
     "data": {
      "image/png": "[encoded data removed]",
      "text/plain": [
       "<Figure size 432x288 with 1 Axes>"
      ]
     },
     "metadata": {
      "needs_background": "light"
     },
     "output_type": "display_data"
    }
   ],
   "source": [
    "df.groupby('release_year').mean()['price'].plot.bar()"
   ]
  },
  {
   "cell_type": "code",
   "execution_count": 152,
   "metadata": {},
   "outputs": [
    {
     "data": {
      "image/png": "[encoded data removed]",
      "text/plain": [
       "<Figure size 1080x576 with 2 Axes>"
      ]
     },
     "metadata": {
      "needs_background": "light"
     },
     "output_type": "display_data"
    }
   ],
   "source": [
    "fig = plt.figure(figsize=(15, 8))\n",
    "\n",
    "ax1 = fig.add_subplot(1, 2, 1)\n",
    "df.groupby('release_year').mean()['owners'].plot(ax=ax1)\n",
    "\n",
    "ax2 = fig.add_subplot(1, 2, 2)\n",
    "df.groupby('release_year').sum()['owners'].plot(ax=ax2)\n",
    "\n",
    "plt.show()"
   ]
  },
  {
   "cell_type": "markdown",
   "metadata": {},
   "source": [
    "## Genres"
   ]
  },
  {
   "cell_type": "code",
   "execution_count": 99,
   "metadata": {
    "scrolled": false
   },
   "outputs": [
    {
     "data": {
      "text/plain": [
       "<matplotlib.axes._subplots.AxesSubplot at 0x2002799cac8>"
      ]
     },
     "execution_count": 99,
     "metadata": {},
     "output_type": "execute_result"
    },
    {
     "data": {
      "image/png": "[encoded data removed]",
      "text/plain": [
       "<Figure size 432x288 with 1 Axes>"
      ]
     },
     "metadata": {
      "needs_background": "light"
     },
     "output_type": "display_data"
    }
   ],
   "source": [
    "counts = df['genres'].value_counts()\n",
    "counts[counts > 50].plot.bar()"
   ]
  },
  {
   "cell_type": "code",
   "execution_count": 108,
   "metadata": {},
   "outputs": [
    {
     "data": {
      "text/plain": [
       "<matplotlib.axes._subplots.AxesSubplot at 0x200278b2240>"
      ]
     },
     "execution_count": 108,
     "metadata": {},
     "output_type": "execute_result"
    },
    {
     "data": {
      "image/png": "[encoded data removed]",
      "text/plain": [
       "<Figure size 432x288 with 1 Axes>"
      ]
     },
     "metadata": {
      "needs_background": "light"
     },
     "output_type": "display_data"
    }
   ],
   "source": [
    "# genre and not-genre\n",
    "\n",
    "# for year in df['release_year'].unique():\n",
    "#     pass\n",
    "\n",
    "df.pivot_table(index='release_year', values=['action']).plot()"
   ]
  },
  {
   "cell_type": "code",
   "execution_count": 24,
   "metadata": {},
   "outputs": [
    {
     "data": {
      "image/png": "[encoded data removed]",
      "text/plain": [
       "<Figure size 432x288 with 2 Axes>"
      ]
     },
     "metadata": {
      "needs_background": "light"
     },
     "output_type": "display_data"
    }
   ],
   "source": [
    "# percentage of apps in each genre\n",
    "genre_cols = data.columns[-10:]\n",
    "\n",
    "total_owners_per_genre = data[genre_cols].multiply(data['owners'], axis='index').sum()\n",
    "average_owners_per_genre = total_owners_per_genre / data[genre_cols].sum()\n",
    "\n",
    "fig, ax1 = plt.subplots()\n",
    "\n",
    "color = 'tab:red'\n",
    "data[genre_cols].mean().sort_index(ascending=False).plot.barh(ax=ax1, color=color, alpha=.5, position=.8)\n",
    "# ax1.set_ylabel('genre')\n",
    "ax1.set_xlabel('% of apps', color=color)\n",
    "ax1.tick_params(axis='x', labelcolor=color)\n",
    "\n",
    "ax2 = ax1.twiny()\n",
    "\n",
    "color = 'tab:blue'\n",
    "average_owners_per_genre.sort_index(ascending=False).plot.barh(ax=ax2, color=color, alpha=.5, position=.2, label='1')\n",
    "ax2.set_xlabel('average owners per app', color=color)\n",
    "ax2.tick_params(axis='x', labelcolor=color)\n",
    "\n",
    "plt.tight_layout()\n",
    "plt.show()"
   ]
  },
  {
   "cell_type": "code",
   "execution_count": 28,
   "metadata": {},
   "outputs": [
    {
     "data": {
      "image/png": "[encoded data removed]",
      "text/plain": [
       "<Figure size 432x288 with 1 Axes>"
      ]
     },
     "metadata": {
      "needs_background": "light"
     },
     "output_type": "display_data"
    }
   ],
   "source": [
    "# percentage of apps in each genre\n",
    "genre_cols = data.columns[-10:]\n",
    "\n",
    "data[genre_cols].mean().sort_index(ascending=False).plot.barh();"
   ]
  },
  {
   "cell_type": "code",
   "execution_count": 9,
   "metadata": {},
   "outputs": [
    {
     "data": {
      "image/png": "[encoded data removed]",
      "text/plain": [
       "<Figure size 432x288 with 1 Axes>"
      ]
     },
     "metadata": {
      "needs_background": "light"
     },
     "output_type": "display_data"
    }
   ],
   "source": [
    "total_owners_per_genre = data[genre_cols].multiply(data['owners'], axis='index').sum()\n",
    "average_owners_per_genre = total_owners_per_genre / data[genre_cols].sum()\n",
    "\n",
    "average_owners_per_genre.sort_index(ascending=False).plot.barh();"
   ]
  },
  {
   "cell_type": "code",
   "execution_count": 5,
   "metadata": {
    "scrolled": false
   },
   "outputs": [
    {
     "data": {
      "text/html": [
       "<div>\n",
       "<style scoped>\n",
       "    .dataframe tbody tr th:only-of-type {\n",
       "        vertical-align: middle;\n",
       "    }\n",
       "\n",
       "    .dataframe tbody tr th {\n",
       "        vertical-align: top;\n",
       "    }\n",
       "\n",
       "    .dataframe thead th {\n",
       "        text-align: right;\n",
       "    }\n",
       "</style>\n",
       "<table border=\"1\" class=\"dataframe\">\n",
       "  <thead>\n",
       "    <tr style=\"text-align: right;\">\n",
       "      <th></th>\n",
       "      <th>name</th>\n",
       "      <th>steam_appid</th>\n",
       "      <th>required_age</th>\n",
       "      <th>achievements</th>\n",
       "      <th>release_date</th>\n",
       "      <th>price</th>\n",
       "      <th>developer</th>\n",
       "      <th>publisher</th>\n",
       "      <th>positive</th>\n",
       "      <th>negative</th>\n",
       "      <th>owners</th>\n",
       "      <th>average_playtime</th>\n",
       "      <th>median_playtime</th>\n",
       "      <th>num_ratings</th>\n",
       "      <th>rating</th>\n",
       "      <th>weighted_rating</th>\n",
       "      <th>release_year</th>\n",
       "      <th>est_revenue</th>\n",
       "      <th>price_categories</th>\n",
       "      <th>multi_player</th>\n",
       "      <th>single_player</th>\n",
       "      <th>action</th>\n",
       "      <th>adventure</th>\n",
       "      <th>casual</th>\n",
       "      <th>indie</th>\n",
       "      <th>massively_multiplayer</th>\n",
       "      <th>rpg</th>\n",
       "      <th>racing</th>\n",
       "      <th>simulation</th>\n",
       "      <th>sports</th>\n",
       "      <th>strategy</th>\n",
       "    </tr>\n",
       "  </thead>\n",
       "  <tbody>\n",
       "    <tr>\n",
       "      <th>12836</th>\n",
       "      <td>PLAYERUNKNOWN'S BATTLEGROUNDS</td>\n",
       "      <td>578080</td>\n",
       "      <td>0</td>\n",
       "      <td>37</td>\n",
       "      <td>2017-12-21</td>\n",
       "      <td>26.99</td>\n",
       "      <td>PUBG Corporation</td>\n",
       "      <td>PUBG Corporation</td>\n",
       "      <td>496184</td>\n",
       "      <td>487076</td>\n",
       "      <td>75000000</td>\n",
       "      <td>22938</td>\n",
       "      <td>12434</td>\n",
       "      <td>983260</td>\n",
       "      <td>0.504632</td>\n",
       "      <td>50.066901</td>\n",
       "      <td>2017</td>\n",
       "      <td>2.024250e+09</td>\n",
       "      <td>moderate</td>\n",
       "      <td>1</td>\n",
       "      <td>0</td>\n",
       "      <td>1</td>\n",
       "      <td>1</td>\n",
       "      <td>0</td>\n",
       "      <td>0</td>\n",
       "      <td>1</td>\n",
       "      <td>0</td>\n",
       "      <td>0</td>\n",
       "      <td>0</td>\n",
       "      <td>0</td>\n",
       "      <td>0</td>\n",
       "    </tr>\n",
       "    <tr>\n",
       "      <th>2951</th>\n",
       "      <td>Warface</td>\n",
       "      <td>291480</td>\n",
       "      <td>16</td>\n",
       "      <td>30</td>\n",
       "      <td>2014-07-01</td>\n",
       "      <td>0.00</td>\n",
       "      <td>My.com</td>\n",
       "      <td>My.com</td>\n",
       "      <td>32751</td>\n",
       "      <td>14409</td>\n",
       "      <td>15000000</td>\n",
       "      <td>949</td>\n",
       "      <td>104</td>\n",
       "      <td>47160</td>\n",
       "      <td>0.694466</td>\n",
       "      <td>68.085960</td>\n",
       "      <td>2014</td>\n",
       "      <td>0.000000e+00</td>\n",
       "      <td>free</td>\n",
       "      <td>1</td>\n",
       "      <td>0</td>\n",
       "      <td>1</td>\n",
       "      <td>0</td>\n",
       "      <td>0</td>\n",
       "      <td>0</td>\n",
       "      <td>1</td>\n",
       "      <td>0</td>\n",
       "      <td>0</td>\n",
       "      <td>0</td>\n",
       "      <td>0</td>\n",
       "      <td>0</td>\n",
       "    </tr>\n",
       "    <tr>\n",
       "      <th>3251</th>\n",
       "      <td>Robocraft</td>\n",
       "      <td>301520</td>\n",
       "      <td>0</td>\n",
       "      <td>43</td>\n",
       "      <td>2017-08-24</td>\n",
       "      <td>0.00</td>\n",
       "      <td>Freejam</td>\n",
       "      <td>Freejam</td>\n",
       "      <td>80360</td>\n",
       "      <td>30987</td>\n",
       "      <td>15000000</td>\n",
       "      <td>1369</td>\n",
       "      <td>211</td>\n",
       "      <td>111347</td>\n",
       "      <td>0.721708</td>\n",
       "      <td>71.079018</td>\n",
       "      <td>2017</td>\n",
       "      <td>0.000000e+00</td>\n",
       "      <td>free</td>\n",
       "      <td>1</td>\n",
       "      <td>0</td>\n",
       "      <td>1</td>\n",
       "      <td>0</td>\n",
       "      <td>0</td>\n",
       "      <td>1</td>\n",
       "      <td>1</td>\n",
       "      <td>1</td>\n",
       "      <td>0</td>\n",
       "      <td>1</td>\n",
       "      <td>0</td>\n",
       "      <td>0</td>\n",
       "    </tr>\n",
       "    <tr>\n",
       "      <th>1772</th>\n",
       "      <td>Path of Exile</td>\n",
       "      <td>238960</td>\n",
       "      <td>0</td>\n",
       "      <td>120</td>\n",
       "      <td>2013-10-23</td>\n",
       "      <td>0.00</td>\n",
       "      <td>Grinding Gear Games</td>\n",
       "      <td>Grinding Gear Games</td>\n",
       "      <td>71593</td>\n",
       "      <td>6117</td>\n",
       "      <td>15000000</td>\n",
       "      <td>5263</td>\n",
       "      <td>492</td>\n",
       "      <td>77710</td>\n",
       "      <td>0.921284</td>\n",
       "      <td>90.575389</td>\n",
       "      <td>2013</td>\n",
       "      <td>0.000000e+00</td>\n",
       "      <td>free</td>\n",
       "      <td>1</td>\n",
       "      <td>1</td>\n",
       "      <td>1</td>\n",
       "      <td>1</td>\n",
       "      <td>0</td>\n",
       "      <td>1</td>\n",
       "      <td>1</td>\n",
       "      <td>1</td>\n",
       "      <td>0</td>\n",
       "      <td>0</td>\n",
       "      <td>0</td>\n",
       "      <td>0</td>\n",
       "    </tr>\n",
       "    <tr>\n",
       "      <th>1727</th>\n",
       "      <td>War Thunder</td>\n",
       "      <td>236390</td>\n",
       "      <td>0</td>\n",
       "      <td>46</td>\n",
       "      <td>2013-08-15</td>\n",
       "      <td>0.00</td>\n",
       "      <td>Gaijin Entertainment</td>\n",
       "      <td>Gaijin Entertainment</td>\n",
       "      <td>83852</td>\n",
       "      <td>22166</td>\n",
       "      <td>15000000</td>\n",
       "      <td>4200</td>\n",
       "      <td>297</td>\n",
       "      <td>106018</td>\n",
       "      <td>0.790922</td>\n",
       "      <td>77.877967</td>\n",
       "      <td>2013</td>\n",
       "      <td>0.000000e+00</td>\n",
       "      <td>free</td>\n",
       "      <td>0</td>\n",
       "      <td>1</td>\n",
       "      <td>1</td>\n",
       "      <td>0</td>\n",
       "      <td>0</td>\n",
       "      <td>0</td>\n",
       "      <td>1</td>\n",
       "      <td>0</td>\n",
       "      <td>0</td>\n",
       "      <td>1</td>\n",
       "      <td>0</td>\n",
       "      <td>0</td>\n",
       "    </tr>\n",
       "    <tr>\n",
       "      <th>7809</th>\n",
       "      <td>Z1 Battle Royale</td>\n",
       "      <td>433850</td>\n",
       "      <td>0</td>\n",
       "      <td>0</td>\n",
       "      <td>2018-02-28</td>\n",
       "      <td>0.00</td>\n",
       "      <td>NantG</td>\n",
       "      <td>Daybreak Game Company</td>\n",
       "      <td>111434</td>\n",
       "      <td>91664</td>\n",
       "      <td>15000000</td>\n",
       "      <td>3142</td>\n",
       "      <td>162</td>\n",
       "      <td>203098</td>\n",
       "      <td>0.548671</td>\n",
       "      <td>54.174476</td>\n",
       "      <td>2018</td>\n",
       "      <td>0.000000e+00</td>\n",
       "      <td>free</td>\n",
       "      <td>1</td>\n",
       "      <td>0</td>\n",
       "      <td>1</td>\n",
       "      <td>1</td>\n",
       "      <td>0</td>\n",
       "      <td>0</td>\n",
       "      <td>1</td>\n",
       "      <td>0</td>\n",
       "      <td>0</td>\n",
       "      <td>0</td>\n",
       "      <td>0</td>\n",
       "      <td>0</td>\n",
       "    </tr>\n",
       "    <tr>\n",
       "      <th>1607</th>\n",
       "      <td>Heroes &amp; Generals</td>\n",
       "      <td>227940</td>\n",
       "      <td>0</td>\n",
       "      <td>0</td>\n",
       "      <td>2016-10-18</td>\n",
       "      <td>0.00</td>\n",
       "      <td>RETO MOTO</td>\n",
       "      <td>RETO MOTO</td>\n",
       "      <td>65856</td>\n",
       "      <td>34416</td>\n",
       "      <td>15000000</td>\n",
       "      <td>1752</td>\n",
       "      <td>76</td>\n",
       "      <td>100272</td>\n",
       "      <td>0.656774</td>\n",
       "      <td>64.651991</td>\n",
       "      <td>2016</td>\n",
       "      <td>0.000000e+00</td>\n",
       "      <td>free</td>\n",
       "      <td>1</td>\n",
       "      <td>0</td>\n",
       "      <td>1</td>\n",
       "      <td>0</td>\n",
       "      <td>0</td>\n",
       "      <td>1</td>\n",
       "      <td>1</td>\n",
       "      <td>0</td>\n",
       "      <td>0</td>\n",
       "      <td>0</td>\n",
       "      <td>0</td>\n",
       "      <td>0</td>\n",
       "    </tr>\n",
       "    <tr>\n",
       "      <th>11994</th>\n",
       "      <td>Infestation: The New Z</td>\n",
       "      <td>555570</td>\n",
       "      <td>0</td>\n",
       "      <td>63</td>\n",
       "      <td>2016-11-22</td>\n",
       "      <td>0.00</td>\n",
       "      <td>Fredaikis AB</td>\n",
       "      <td>Fredaikis AB</td>\n",
       "      <td>13726</td>\n",
       "      <td>14201</td>\n",
       "      <td>7500000</td>\n",
       "      <td>376</td>\n",
       "      <td>73</td>\n",
       "      <td>27927</td>\n",
       "      <td>0.491496</td>\n",
       "      <td>48.022116</td>\n",
       "      <td>2016</td>\n",
       "      <td>0.000000e+00</td>\n",
       "      <td>free</td>\n",
       "      <td>0</td>\n",
       "      <td>0</td>\n",
       "      <td>1</td>\n",
       "      <td>0</td>\n",
       "      <td>0</td>\n",
       "      <td>1</td>\n",
       "      <td>1</td>\n",
       "      <td>1</td>\n",
       "      <td>0</td>\n",
       "      <td>0</td>\n",
       "      <td>0</td>\n",
       "      <td>0</td>\n",
       "    </tr>\n",
       "    <tr>\n",
       "      <th>3340</th>\n",
       "      <td>Trove</td>\n",
       "      <td>304050</td>\n",
       "      <td>0</td>\n",
       "      <td>16</td>\n",
       "      <td>2015-07-09</td>\n",
       "      <td>0.00</td>\n",
       "      <td>Trion Worlds</td>\n",
       "      <td>Trion Worlds</td>\n",
       "      <td>47897</td>\n",
       "      <td>13708</td>\n",
       "      <td>7500000</td>\n",
       "      <td>2602</td>\n",
       "      <td>184</td>\n",
       "      <td>61605</td>\n",
       "      <td>0.777486</td>\n",
       "      <td>76.343023</td>\n",
       "      <td>2015</td>\n",
       "      <td>0.000000e+00</td>\n",
       "      <td>free</td>\n",
       "      <td>0</td>\n",
       "      <td>0</td>\n",
       "      <td>1</td>\n",
       "      <td>1</td>\n",
       "      <td>1</td>\n",
       "      <td>0</td>\n",
       "      <td>1</td>\n",
       "      <td>1</td>\n",
       "      <td>0</td>\n",
       "      <td>0</td>\n",
       "      <td>0</td>\n",
       "      <td>0</td>\n",
       "    </tr>\n",
       "    <tr>\n",
       "      <th>2502</th>\n",
       "      <td>Counter-Strike Nexon: Zombies</td>\n",
       "      <td>273110</td>\n",
       "      <td>0</td>\n",
       "      <td>65</td>\n",
       "      <td>2014-10-07</td>\n",
       "      <td>0.00</td>\n",
       "      <td>Valve Corporation, Nexon Korea Corporation</td>\n",
       "      <td>Nexon Korea Corporation</td>\n",
       "      <td>22130</td>\n",
       "      <td>12127</td>\n",
       "      <td>7500000</td>\n",
       "      <td>4047</td>\n",
       "      <td>112</td>\n",
       "      <td>34257</td>\n",
       "      <td>0.645999</td>\n",
       "      <td>63.206449</td>\n",
       "      <td>2014</td>\n",
       "      <td>0.000000e+00</td>\n",
       "      <td>free</td>\n",
       "      <td>1</td>\n",
       "      <td>1</td>\n",
       "      <td>1</td>\n",
       "      <td>0</td>\n",
       "      <td>1</td>\n",
       "      <td>0</td>\n",
       "      <td>1</td>\n",
       "      <td>0</td>\n",
       "      <td>0</td>\n",
       "      <td>0</td>\n",
       "      <td>0</td>\n",
       "      <td>0</td>\n",
       "    </tr>\n",
       "  </tbody>\n",
       "</table>\n",
       "</div>"
      ],
      "text/plain": [
       "                                name  steam_appid  required_age  achievements  \\\n",
       "12836  PLAYERUNKNOWN'S BATTLEGROUNDS       578080             0            37   \n",
       "2951                         Warface       291480            16            30   \n",
       "3251                       Robocraft       301520             0            43   \n",
       "1772                   Path of Exile       238960             0           120   \n",
       "1727                     War Thunder       236390             0            46   \n",
       "7809                Z1 Battle Royale       433850             0             0   \n",
       "1607               Heroes & Generals       227940             0             0   \n",
       "11994         Infestation: The New Z       555570             0            63   \n",
       "3340                           Trove       304050             0            16   \n",
       "2502   Counter-Strike Nexon: Zombies       273110             0            65   \n",
       "\n",
       "      release_date  price                                   developer  \\\n",
       "12836   2017-12-21  26.99                            PUBG Corporation   \n",
       "2951    2014-07-01   0.00                                      My.com   \n",
       "3251    2017-08-24   0.00                                     Freejam   \n",
       "1772    2013-10-23   0.00                         Grinding Gear Games   \n",
       "1727    2013-08-15   0.00                        Gaijin Entertainment   \n",
       "7809    2018-02-28   0.00                                       NantG   \n",
       "1607    2016-10-18   0.00                                   RETO MOTO   \n",
       "11994   2016-11-22   0.00                                Fredaikis AB   \n",
       "3340    2015-07-09   0.00                                Trion Worlds   \n",
       "2502    2014-10-07   0.00  Valve Corporation, Nexon Korea Corporation   \n",
       "\n",
       "                     publisher  positive  negative    owners  \\\n",
       "12836         PUBG Corporation    496184    487076  75000000   \n",
       "2951                    My.com     32751     14409  15000000   \n",
       "3251                   Freejam     80360     30987  15000000   \n",
       "1772       Grinding Gear Games     71593      6117  15000000   \n",
       "1727      Gaijin Entertainment     83852     22166  15000000   \n",
       "7809     Daybreak Game Company    111434     91664  15000000   \n",
       "1607                 RETO MOTO     65856     34416  15000000   \n",
       "11994             Fredaikis AB     13726     14201   7500000   \n",
       "3340              Trion Worlds     47897     13708   7500000   \n",
       "2502   Nexon Korea Corporation     22130     12127   7500000   \n",
       "\n",
       "       average_playtime  median_playtime  num_ratings    rating  \\\n",
       "12836             22938            12434       983260  0.504632   \n",
       "2951                949              104        47160  0.694466   \n",
       "3251               1369              211       111347  0.721708   \n",
       "1772               5263              492        77710  0.921284   \n",
       "1727               4200              297       106018  0.790922   \n",
       "7809               3142              162       203098  0.548671   \n",
       "1607               1752               76       100272  0.656774   \n",
       "11994               376               73        27927  0.491496   \n",
       "3340               2602              184        61605  0.777486   \n",
       "2502               4047              112        34257  0.645999   \n",
       "\n",
       "       weighted_rating  release_year   est_revenue price_categories  \\\n",
       "12836        50.066901          2017  2.024250e+09         moderate   \n",
       "2951         68.085960          2014  0.000000e+00             free   \n",
       "3251         71.079018          2017  0.000000e+00             free   \n",
       "1772         90.575389          2013  0.000000e+00             free   \n",
       "1727         77.877967          2013  0.000000e+00             free   \n",
       "7809         54.174476          2018  0.000000e+00             free   \n",
       "1607         64.651991          2016  0.000000e+00             free   \n",
       "11994        48.022116          2016  0.000000e+00             free   \n",
       "3340         76.343023          2015  0.000000e+00             free   \n",
       "2502         63.206449          2014  0.000000e+00             free   \n",
       "\n",
       "       multi_player  single_player  action  adventure  casual  indie  \\\n",
       "12836             1              0       1          1       0      0   \n",
       "2951              1              0       1          0       0      0   \n",
       "3251              1              0       1          0       0      1   \n",
       "1772              1              1       1          1       0      1   \n",
       "1727              0              1       1          0       0      0   \n",
       "7809              1              0       1          1       0      0   \n",
       "1607              1              0       1          0       0      1   \n",
       "11994             0              0       1          0       0      1   \n",
       "3340              0              0       1          1       1      0   \n",
       "2502              1              1       1          0       1      0   \n",
       "\n",
       "       massively_multiplayer  rpg  racing  simulation  sports  strategy  \n",
       "12836                      1    0       0           0       0         0  \n",
       "2951                       1    0       0           0       0         0  \n",
       "3251                       1    1       0           1       0         0  \n",
       "1772                       1    1       0           0       0         0  \n",
       "1727                       1    0       0           1       0         0  \n",
       "7809                       1    0       0           0       0         0  \n",
       "1607                       1    0       0           0       0         0  \n",
       "11994                      1    1       0           0       0         0  \n",
       "3340                       1    1       0           0       0         0  \n",
       "2502                       1    0       0           0       0         0  "
      ]
     },
     "execution_count": 5,
     "metadata": {},
     "output_type": "execute_result"
    }
   ],
   "source": [
    "data[data['massively_multiplayer'] == 1].sort_values(by='owners', ascending=False).head(10)"
   ]
  },
  {
   "cell_type": "code",
   "execution_count": 82,
   "metadata": {},
   "outputs": [
    {
     "data": {
      "text/plain": [
       "<matplotlib.axes._subplots.AxesSubplot at 0x17b2f45cfd0>"
      ]
     },
     "execution_count": 82,
     "metadata": {},
     "output_type": "execute_result"
    },
    {
     "data": {
      "image/png": "[encoded data removed]",
      "text/plain": [
       "<Figure size 432x288 with 1 Axes>"
      ]
     },
     "metadata": {
      "needs_background": "light"
     },
     "output_type": "display_data"
    }
   ],
   "source": [
    "# percentage of apps in each category\n",
    "cat_cols = ['multi_player', 'single_player']\n",
    "\n",
    "data[(data['multi_player'] == 1) & (data['single_player'] == 1)].shape[0]\n",
    "data[cat_cols].mean().plot.bar()"
   ]
  },
  {
   "cell_type": "code",
   "execution_count": 7,
   "metadata": {},
   "outputs": [
    {
     "data": {
      "text/plain": [
       "<matplotlib.axes._subplots.AxesSubplot at 0x14af84d4a58>"
      ]
     },
     "execution_count": 7,
     "metadata": {},
     "output_type": "execute_result"
    },
    {
     "data": {
      "image/png": "[encoded data removed]",
      "text/plain": [
       "<Figure size 432x288 with 1 Axes>"
      ]
     },
     "metadata": {
      "needs_background": "light"
     },
     "output_type": "display_data"
    }
   ],
   "source": [
    "total_owners_per_cat = data[cat_cols].multiply(data['owners'], axis='index').sum()\n",
    "average_owners_per_cat = total_owners_per_cat / data[cat_cols].sum()\n",
    "\n",
    "average_owners_per_cat.sort_values().plot.bar()"
   ]
  },
  {
   "cell_type": "markdown",
   "metadata": {},
   "source": [
    "## Developers and publishers"
   ]
  },
  {
   "cell_type": "code",
   "execution_count": 196,
   "metadata": {
    "scrolled": false
   },
   "outputs": [
    {
     "data": {
      "text/html": [
       "<div>\n",
       "<style scoped>\n",
       "    .dataframe tbody tr th:only-of-type {\n",
       "        vertical-align: middle;\n",
       "    }\n",
       "\n",
       "    .dataframe tbody tr th {\n",
       "        vertical-align: top;\n",
       "    }\n",
       "\n",
       "    .dataframe thead th {\n",
       "        text-align: right;\n",
       "    }\n",
       "</style>\n",
       "<table border=\"1\" class=\"dataframe\">\n",
       "  <thead>\n",
       "    <tr style=\"text-align: right;\">\n",
       "      <th></th>\n",
       "      <th>n_releases</th>\n",
       "      <th>average_playtime</th>\n",
       "      <th>owners</th>\n",
       "      <th>weighted_rating</th>\n",
       "    </tr>\n",
       "    <tr>\n",
       "      <th>developer</th>\n",
       "      <th></th>\n",
       "      <th></th>\n",
       "      <th></th>\n",
       "      <th></th>\n",
       "    </tr>\n",
       "  </thead>\n",
       "  <tbody>\n",
       "    <tr>\n",
       "      <th>Valve</th>\n",
       "      <td>24</td>\n",
       "      <td>2871.583333</td>\n",
       "      <td>403500000</td>\n",
       "      <td>86.229421</td>\n",
       "    </tr>\n",
       "    <tr>\n",
       "      <th>Bethesda Game Studios</th>\n",
       "      <td>10</td>\n",
       "      <td>2001.800000</td>\n",
       "      <td>37050000</td>\n",
       "      <td>80.565951</td>\n",
       "    </tr>\n",
       "    <tr>\n",
       "      <th>Digital Extremes</th>\n",
       "      <td>3</td>\n",
       "      <td>2012.000000</td>\n",
       "      <td>36575000</td>\n",
       "      <td>83.445259</td>\n",
       "    </tr>\n",
       "    <tr>\n",
       "      <th>Facepunch Studios</th>\n",
       "      <td>4</td>\n",
       "      <td>5443.500000</td>\n",
       "      <td>22520000</td>\n",
       "      <td>73.472961</td>\n",
       "    </tr>\n",
       "    <tr>\n",
       "      <th>Ubisoft Montreal</th>\n",
       "      <td>19</td>\n",
       "      <td>1027.368421</td>\n",
       "      <td>20270000</td>\n",
       "      <td>74.314250</td>\n",
       "    </tr>\n",
       "    <tr>\n",
       "      <th>Bohemia Interactive</th>\n",
       "      <td>15</td>\n",
       "      <td>2410.866667</td>\n",
       "      <td>19105000</td>\n",
       "      <td>60.984001</td>\n",
       "    </tr>\n",
       "    <tr>\n",
       "      <th>Gearbox Software</th>\n",
       "      <td>7</td>\n",
       "      <td>378.571429</td>\n",
       "      <td>17700000</td>\n",
       "      <td>77.642837</td>\n",
       "    </tr>\n",
       "    <tr>\n",
       "      <th>Rockstar North</th>\n",
       "      <td>4</td>\n",
       "      <td>2486.500000</td>\n",
       "      <td>16850000</td>\n",
       "      <td>72.952430</td>\n",
       "    </tr>\n",
       "    <tr>\n",
       "      <th>Relic Entertainment</th>\n",
       "      <td>8</td>\n",
       "      <td>556.625000</td>\n",
       "      <td>16500000</td>\n",
       "      <td>87.991890</td>\n",
       "    </tr>\n",
       "    <tr>\n",
       "      <th>CAPCOM Co., Ltd.</th>\n",
       "      <td>12</td>\n",
       "      <td>922.000000</td>\n",
       "      <td>16125000</td>\n",
       "      <td>80.002037</td>\n",
       "    </tr>\n",
       "  </tbody>\n",
       "</table>\n",
       "</div>"
      ],
      "text/plain": [
       "                       n_releases  average_playtime     owners  \\\n",
       "developer                                                        \n",
       "Valve                          24       2871.583333  403500000   \n",
       "Bethesda Game Studios          10       2001.800000   37050000   \n",
       "Digital Extremes                3       2012.000000   36575000   \n",
       "Facepunch Studios               4       5443.500000   22520000   \n",
       "Ubisoft Montreal               19       1027.368421   20270000   \n",
       "Bohemia Interactive            15       2410.866667   19105000   \n",
       "Gearbox Software                7        378.571429   17700000   \n",
       "Rockstar North                  4       2486.500000   16850000   \n",
       "Relic Entertainment             8        556.625000   16500000   \n",
       "CAPCOM Co., Ltd.               12        922.000000   16125000   \n",
       "\n",
       "                       weighted_rating  \n",
       "developer                               \n",
       "Valve                        86.229421  \n",
       "Bethesda Game Studios        80.565951  \n",
       "Digital Extremes             83.445259  \n",
       "Facepunch Studios            73.472961  \n",
       "Ubisoft Montreal             74.314250  \n",
       "Bohemia Interactive          60.984001  \n",
       "Gearbox Software             77.642837  \n",
       "Rockstar North               72.952430  \n",
       "Relic Entertainment          87.991890  \n",
       "CAPCOM Co., Ltd.             80.002037  "
      ]
     },
     "metadata": {},
     "output_type": "display_data"
    },
    {
     "data": {
      "image/png": "[encoded data removed]",
      "text/plain": [
       "<Figure size 432x288 with 1 Axes>"
      ]
     },
     "metadata": {
      "needs_background": "light"
     },
     "output_type": "display_data"
    }
   ],
   "source": [
    "# top developers\n",
    "dev_pv = data.pivot_table(index='developer', values=['appid', 'owners', 'average_playtime', 'weighted_rating'],\n",
    "                 aggfunc={'appid': len, \n",
    "                          'owners': 'sum',\n",
    "                          'average_playtime': 'mean',\n",
    "                          'weighted_rating': 'mean'\n",
    "                         }).rename({'appid': 'n_releases'}, axis=1).sort_values('owners', ascending=False)\n",
    "\n",
    "top_devs_pv = dev_pv[dev_pv['n_releases'] > 1].head(10)\n",
    "\n",
    "display(top_devs_pv)\n",
    "top_devs_pv['weighted_rating'].sort_values().plot.barh();"
   ]
  },
  {
   "cell_type": "code",
   "execution_count": 192,
   "metadata": {},
   "outputs": [
    {
     "data": {
      "text/html": [
       "<div>\n",
       "<style scoped>\n",
       "    .dataframe tbody tr th:only-of-type {\n",
       "        vertical-align: middle;\n",
       "    }\n",
       "\n",
       "    .dataframe tbody tr th {\n",
       "        vertical-align: top;\n",
       "    }\n",
       "\n",
       "    .dataframe thead th {\n",
       "        text-align: right;\n",
       "    }\n",
       "</style>\n",
       "<table border=\"1\" class=\"dataframe\">\n",
       "  <thead>\n",
       "    <tr style=\"text-align: right;\">\n",
       "      <th></th>\n",
       "      <th>n_releases</th>\n",
       "      <th>average_playtime</th>\n",
       "      <th>owners</th>\n",
       "      <th>weighted_rating</th>\n",
       "    </tr>\n",
       "    <tr>\n",
       "      <th>publisher</th>\n",
       "      <th></th>\n",
       "      <th></th>\n",
       "      <th></th>\n",
       "      <th></th>\n",
       "    </tr>\n",
       "  </thead>\n",
       "  <tbody>\n",
       "    <tr>\n",
       "      <th>Valve</th>\n",
       "      <td>28</td>\n",
       "      <td>3743.535714</td>\n",
       "      <td>508500000</td>\n",
       "      <td>86.721731</td>\n",
       "    </tr>\n",
       "    <tr>\n",
       "      <th>Ubisoft</th>\n",
       "      <td>111</td>\n",
       "      <td>956.459459</td>\n",
       "      <td>80835000</td>\n",
       "      <td>70.397394</td>\n",
       "    </tr>\n",
       "    <tr>\n",
       "      <th>Bethesda Softworks</th>\n",
       "      <td>34</td>\n",
       "      <td>1303.558824</td>\n",
       "      <td>66535000</td>\n",
       "      <td>77.520152</td>\n",
       "    </tr>\n",
       "    <tr>\n",
       "      <th>SEGA</th>\n",
       "      <td>78</td>\n",
       "      <td>766.012821</td>\n",
       "      <td>53245000</td>\n",
       "      <td>73.608514</td>\n",
       "    </tr>\n",
       "    <tr>\n",
       "      <th>Square Enix</th>\n",
       "      <td>96</td>\n",
       "      <td>1314.979167</td>\n",
       "      <td>48305000</td>\n",
       "      <td>69.041601</td>\n",
       "    </tr>\n",
       "    <tr>\n",
       "      <th>Electronic Arts</th>\n",
       "      <td>32</td>\n",
       "      <td>648.937500</td>\n",
       "      <td>41585000</td>\n",
       "      <td>77.736716</td>\n",
       "    </tr>\n",
       "    <tr>\n",
       "      <th>Paradox Interactive</th>\n",
       "      <td>55</td>\n",
       "      <td>925.218182</td>\n",
       "      <td>41265000</td>\n",
       "      <td>68.787463</td>\n",
       "    </tr>\n",
       "    <tr>\n",
       "      <th>Rockstar Games</th>\n",
       "      <td>15</td>\n",
       "      <td>980.333333</td>\n",
       "      <td>38360000</td>\n",
       "      <td>77.653614</td>\n",
       "    </tr>\n",
       "    <tr>\n",
       "      <th>2K</th>\n",
       "      <td>46</td>\n",
       "      <td>431.195652</td>\n",
       "      <td>33280000</td>\n",
       "      <td>62.705651</td>\n",
       "    </tr>\n",
       "    <tr>\n",
       "      <th>Devolver Digital</th>\n",
       "      <td>65</td>\n",
       "      <td>236.523077</td>\n",
       "      <td>32360000</td>\n",
       "      <td>79.248104</td>\n",
       "    </tr>\n",
       "  </tbody>\n",
       "</table>\n",
       "</div>"
      ],
      "text/plain": [
       "                     n_releases  average_playtime     owners  weighted_rating\n",
       "publisher                                                                    \n",
       "Valve                        28       3743.535714  508500000        86.721731\n",
       "Ubisoft                     111        956.459459   80835000        70.397394\n",
       "Bethesda Softworks           34       1303.558824   66535000        77.520152\n",
       "SEGA                         78        766.012821   53245000        73.608514\n",
       "Square Enix                  96       1314.979167   48305000        69.041601\n",
       "Electronic Arts              32        648.937500   41585000        77.736716\n",
       "Paradox Interactive          55        925.218182   41265000        68.787463\n",
       "Rockstar Games               15        980.333333   38360000        77.653614\n",
       "2K                           46        431.195652   33280000        62.705651\n",
       "Devolver Digital             65        236.523077   32360000        79.248104"
      ]
     },
     "metadata": {},
     "output_type": "display_data"
    },
    {
     "data": {
      "image/png": "[encoded data removed]",
      "text/plain": [
       "<Figure size 432x288 with 1 Axes>"
      ]
     },
     "metadata": {
      "needs_background": "light"
     },
     "output_type": "display_data"
    }
   ],
   "source": [
    "# top publishers\n",
    "pub_pv = data.pivot_table(index='publisher', values=['appid', 'owners', 'average_playtime', 'weighted_rating'],\n",
    "                         aggfunc={'appid': len, \n",
    "                                  'owners': 'sum',\n",
    "                                  'average_playtime': 'mean',\n",
    "                                  'weighted_rating': 'mean'\n",
    "                         }).rename({'appid': 'n_releases'}, axis=1).sort_values('owners', ascending=False)\n",
    "\n",
    "top_pubs_pv = pub_pv[pub_pv['n_releases'] > 1].head(10)\n",
    "\n",
    "display(top_pubs_pv)\n",
    "top_pubs_pv['weighted_rating'].sort_values().plot.barh();"
   ]
  },
  {
   "cell_type": "code",
   "execution_count": 164,
   "metadata": {},
   "outputs": [
    {
     "data": {
      "text/html": [
       "<div>\n",
       "<style scoped>\n",
       "    .dataframe tbody tr th:only-of-type {\n",
       "        vertical-align: middle;\n",
       "    }\n",
       "\n",
       "    .dataframe tbody tr th {\n",
       "        vertical-align: top;\n",
       "    }\n",
       "\n",
       "    .dataframe thead th {\n",
       "        text-align: right;\n",
       "    }\n",
       "</style>\n",
       "<table border=\"1\" class=\"dataframe\">\n",
       "  <thead>\n",
       "    <tr style=\"text-align: right;\">\n",
       "      <th></th>\n",
       "      <th>n_releases</th>\n",
       "      <th>average_playtime</th>\n",
       "      <th>owners</th>\n",
       "      <th>weighted_rating</th>\n",
       "    </tr>\n",
       "    <tr>\n",
       "      <th>publisher</th>\n",
       "      <th></th>\n",
       "      <th></th>\n",
       "      <th></th>\n",
       "      <th></th>\n",
       "    </tr>\n",
       "  </thead>\n",
       "  <tbody>\n",
       "    <tr>\n",
       "      <th>Neko Climax Studios</th>\n",
       "      <td>4</td>\n",
       "      <td>77.500000</td>\n",
       "      <td>470000</td>\n",
       "      <td>91.008093</td>\n",
       "    </tr>\n",
       "    <tr>\n",
       "      <th>Matt Roszak</th>\n",
       "      <td>4</td>\n",
       "      <td>96.250000</td>\n",
       "      <td>585000</td>\n",
       "      <td>90.363814</td>\n",
       "    </tr>\n",
       "    <tr>\n",
       "      <th>Suspicious Developments</th>\n",
       "      <td>4</td>\n",
       "      <td>2000.750000</td>\n",
       "      <td>1925000</td>\n",
       "      <td>89.896718</td>\n",
       "    </tr>\n",
       "    <tr>\n",
       "      <th>Rusty Lake</th>\n",
       "      <td>4</td>\n",
       "      <td>175.250000</td>\n",
       "      <td>725000</td>\n",
       "      <td>89.611893</td>\n",
       "    </tr>\n",
       "    <tr>\n",
       "      <th>GirlGame</th>\n",
       "      <td>4</td>\n",
       "      <td>32.500000</td>\n",
       "      <td>535000</td>\n",
       "      <td>88.485926</td>\n",
       "    </tr>\n",
       "    <tr>\n",
       "      <th>Freebird Games</th>\n",
       "      <td>4</td>\n",
       "      <td>155.750000</td>\n",
       "      <td>2235000</td>\n",
       "      <td>88.202255</td>\n",
       "    </tr>\n",
       "    <tr>\n",
       "      <th>Scott Cawthon</th>\n",
       "      <td>8</td>\n",
       "      <td>2801.625000</td>\n",
       "      <td>5150000</td>\n",
       "      <td>87.676721</td>\n",
       "    </tr>\n",
       "    <tr>\n",
       "      <th>DrinkBox Studios</th>\n",
       "      <td>4</td>\n",
       "      <td>169.250000</td>\n",
       "      <td>1285000</td>\n",
       "      <td>87.595501</td>\n",
       "    </tr>\n",
       "    <tr>\n",
       "      <th>Annapurna Interactive</th>\n",
       "      <td>4</td>\n",
       "      <td>62.750000</td>\n",
       "      <td>585000</td>\n",
       "      <td>87.589290</td>\n",
       "    </tr>\n",
       "    <tr>\n",
       "      <th>Valve</th>\n",
       "      <td>28</td>\n",
       "      <td>3743.535714</td>\n",
       "      <td>508500000</td>\n",
       "      <td>86.721731</td>\n",
       "    </tr>\n",
       "  </tbody>\n",
       "</table>\n",
       "</div>"
      ],
      "text/plain": [
       "                         n_releases  average_playtime     owners  \\\n",
       "publisher                                                          \n",
       "Neko Climax Studios               4         77.500000     470000   \n",
       "Matt Roszak                       4         96.250000     585000   \n",
       "Suspicious Developments           4       2000.750000    1925000   \n",
       "Rusty Lake                        4        175.250000     725000   \n",
       "GirlGame                          4         32.500000     535000   \n",
       "Freebird Games                    4        155.750000    2235000   \n",
       "Scott Cawthon                     8       2801.625000    5150000   \n",
       "DrinkBox Studios                  4        169.250000    1285000   \n",
       "Annapurna Interactive             4         62.750000     585000   \n",
       "Valve                            28       3743.535714  508500000   \n",
       "\n",
       "                         weighted_rating  \n",
       "publisher                                 \n",
       "Neko Climax Studios            91.008093  \n",
       "Matt Roszak                    90.363814  \n",
       "Suspicious Developments        89.896718  \n",
       "Rusty Lake                     89.611893  \n",
       "GirlGame                       88.485926  \n",
       "Freebird Games                 88.202255  \n",
       "Scott Cawthon                  87.676721  \n",
       "DrinkBox Studios               87.595501  \n",
       "Annapurna Interactive          87.589290  \n",
       "Valve                          86.721731  "
      ]
     },
     "metadata": {},
     "output_type": "display_data"
    },
    {
     "data": {
      "image/png": "[encoded data removed]",
      "text/plain": [
       "<Figure size 432x288 with 1 Axes>"
      ]
     },
     "metadata": {
      "needs_background": "light"
     },
     "output_type": "display_data"
    }
   ],
   "source": [
    "# top publishers\n",
    "pub_pv = data.pivot_table(index='publisher', values=['appid', 'owners', 'average_playtime', 'weighted_rating'],\n",
    "                         aggfunc={'appid': len, \n",
    "                                  'owners': 'sum',\n",
    "                                  'average_playtime': 'mean',\n",
    "                                  'weighted_rating': 'mean'\n",
    "                         }).rename({'appid': 'n_releases'}, axis=1).sort_values('weighted_rating', ascending=False)\n",
    "\n",
    "top_pubs_pv = pub_pv[pub_pv['n_releases'] > 3].head(10)\n",
    "\n",
    "display(top_pubs_pv)\n",
    "top_pubs_pv['owners'].sort_values().plot.barh();"
   ]
  },
  {
   "cell_type": "markdown",
   "metadata": {},
   "source": [
    "## Ratings"
   ]
  },
  {
   "cell_type": "code",
   "execution_count": 10,
   "metadata": {},
   "outputs": [
    {
     "name": "stdout",
     "output_type": "stream",
     "text": [
      "0.7133588514488597\n",
      "58.74868722415526\n"
     ]
    },
    {
     "data": {
      "image/png": "[encoded data removed]",
      "text/plain": [
       "<Figure size 432x288 with 1 Axes>"
      ]
     },
     "metadata": {
      "needs_background": "light"
     },
     "output_type": "display_data"
    },
    {
     "data": {
      "image/png": "[encoded data removed]",
      "text/plain": [
       "<Figure size 432x288 with 1 Axes>"
      ]
     },
     "metadata": {
      "needs_background": "light"
     },
     "output_type": "display_data"
    }
   ],
   "source": [
    "# overall ratings\n",
    "print(data['rating'].mean())\n",
    "print(data['weighted_rating'].mean())\n",
    "\n",
    "data['rating'].plot.hist()\n",
    "plt.show()\n",
    "\n",
    "data['weighted_rating'].plot.hist();"
   ]
  },
  {
   "cell_type": "code",
   "execution_count": 95,
   "metadata": {
    "scrolled": false
   },
   "outputs": [
    {
     "data": {
      "image/png": "[encoded data removed]",
      "text/plain": [
       "<Figure size 864x648 with 12 Axes>"
      ]
     },
     "metadata": {
      "needs_background": "light"
     },
     "output_type": "display_data"
    }
   ],
   "source": [
    "# (data[genre_cols].multiply(data['weighted_rating'], axis=0).sum() / data[genre_cols].sum()).plot.bar()\n",
    "\n",
    "cols = list(genre_cols) + cat_cols\n",
    "\n",
    "# ratings distribution by genre - need to create fig array\n",
    "fig = plt.figure(figsize=(12, 9))\n",
    "\n",
    "for i in range(12):\n",
    "    ax = fig.add_subplot(4, 3, i+1)\n",
    "    \n",
    "    col = cols[i]\n",
    "    df = data.loc[data[col] == 1, [col, 'weighted_rating']]\n",
    "    \n",
    "    (df[col] * df['weighted_rating']).plot.hist(ax=ax, sharey=True, sharex=True, bins=10)\n",
    "    ax.set_title(col)\n",
    "\n",
    "plt.tight_layout()\n",
    "plt.show()"
   ]
  },
  {
   "cell_type": "code",
   "execution_count": 107,
   "metadata": {},
   "outputs": [
    {
     "data": {
      "text/plain": [
       "F_onewayResult(statistic=41.40545266050743, pvalue=1.5299376211088596e-74)"
      ]
     },
     "execution_count": 107,
     "metadata": {},
     "output_type": "execute_result"
    }
   ],
   "source": [
    "# hence  means are different\n",
    "import scipy.stats as stats\n",
    "\n",
    "# won't work\n",
    "# genre_ratings_data = [data.loc[data[genre] == 1, 'weighted_rating'] for i, genre in enumerate(genre_cols)]\n",
    "# t1 = data[data['action'] == 1]['weighted_rating'].head(5), data[data['adventure'] == 1]['weighted_rating'].head(5)\n",
    "# t2 = [data[data[g] == 1]['weighted_rating'].head(5) for i, g in enumerate(['action', 'adventure'])]\n",
    "\n",
    "# print(tuple(t1))\n",
    "# print(tuple(t2))\n",
    "\n",
    "# type(t2)\n",
    "\n",
    "f = stats.f_oneway(\n",
    "    data[data['action'] == 1]['weighted_rating'],\n",
    "    data[data['adventure'] == 1]['weighted_rating'],\n",
    "    data[data['casual'] == 1]['weighted_rating'],\n",
    "    data[data['indie'] == 1]['weighted_rating'],\n",
    "    data[data['massively_multiplayer'] == 1]['weighted_rating'],\n",
    "    data[data['rpg'] == 1]['weighted_rating'],\n",
    "    data[data['racing'] == 1]['weighted_rating'],\n",
    "    data[data['simulation'] == 1]['weighted_rating'],\n",
    "    data[data['sports'] == 1]['weighted_rating'],\n",
    "    data[data['strategy'] == 1]['weighted_rating']\n",
    ")\n",
    "\n",
    "f"
   ]
  },
  {
   "cell_type": "code",
   "execution_count": 166,
   "metadata": {},
   "outputs": [],
   "source": [
    "# import holoviews as hv\n",
    "# from holoviews import opts\n",
    "# hv.extension('plotly')\n",
    "# import plotly"
   ]
  },
  {
   "cell_type": "code",
   "execution_count": 169,
   "metadata": {},
   "outputs": [],
   "source": [
    "# graph_data = [data[data[genre] == 1]['weighted_rating'] for genre in genre_cols]\n",
    "# graph_data = [data.loc[data[g] == 1, 'weighted_rating'] for g in ['action', 'adventure']]\n",
    "\n",
    "\n",
    "# action = data.loc[data['action'] == 1, 'weighted_rating']\n",
    "# adventure = data.loc[data['adventure'] == 1, 'weighted_rating']\n",
    "\n",
    "# layout = {\n",
    "#     'shapes': [{\n",
    "#         'type': 'line',\n",
    "#         'x0': -.5,\n",
    "#         'y0': data['weighted_rating'].mean(),\n",
    "#         'x1': 10,\n",
    "#         'y1': data['weighted_rating'].mean(),\n",
    "#         'line': {'dash': 'dashdot'}\n",
    "#     }]\n",
    "# }\n",
    "\n",
    "# graph_data = [{\n",
    "#     'y': data.loc[data[g] == 1, 'weighted_rating'],\n",
    "#     'type': 'violin',\n",
    "#     'name': g,\n",
    "#     'showlegend':False\n",
    "# } for g in list(genre_cols)]\n",
    "\n",
    "# plotly.offline.iplot({'data': graph_data, 'layout': layout})\n",
    "# graph_data = [data.loc[data['action'] == 1, 'weighted_rating'], data.loc[data['adventure'] == 1, 'weighted_rating']]\n",
    "# hv.Violin(graph_data)"
   ]
  },
  {
   "cell_type": "code",
   "execution_count": 165,
   "metadata": {},
   "outputs": [
    {
     "data": {
      "text/plain": [
       "[Text(0, 0, 'action'),\n",
       " Text(0, 0, 'adventure'),\n",
       " Text(0, 0, 'casual'),\n",
       " Text(0, 0, 'indie'),\n",
       " Text(0, 0, 'massively_multiplayer'),\n",
       " Text(0, 0, 'rpg'),\n",
       " Text(0, 0, 'racing'),\n",
       " Text(0, 0, 'simulation'),\n",
       " Text(0, 0, 'sports'),\n",
       " Text(0, 0, 'strategy')]"
      ]
     },
     "execution_count": 165,
     "metadata": {},
     "output_type": "execute_result"
    },
    {
     "data": {
      "image/png": "[encoded data removed]",
      "text/plain": [
       "<Figure size 1080x648 with 1 Axes>"
      ]
     },
     "metadata": {
      "needs_background": "light"
     },
     "output_type": "display_data"
    }
   ],
   "source": [
    "ac = data.loc[data['action'] == 1, 'weighted_rating']\n",
    "ad = data.loc[data['adventure'] == 1, 'weighted_rating']\n",
    "\n",
    "fig, ax = plt.subplots(figsize=(15,9))\n",
    "\n",
    "ax.violinplot([data.loc[data[g] == 1, 'weighted_rating'].values for g in genre_cols],\n",
    "               showmeans=False,\n",
    "               showmedians=True\n",
    "              );\n",
    "\n",
    "ax.axhline(data['weighted_rating'].mean())\n",
    "\n",
    "ax.set_xticks(range(1,11))\n",
    "ax.set_xticklabels(genre_cols, rotation=0)\n",
    "# plt.xticks(ticks=[i for i in range(1, 11)], labels=[g for g in genre_cols]);"
   ]
  },
  {
   "cell_type": "markdown",
   "metadata": {},
   "source": [
    "# Mostly Redundant section"
   ]
  },
  {
   "cell_type": "code",
   "execution_count": 145,
   "metadata": {},
   "outputs": [
    {
     "data": {
      "application/vnd.holoviews_exec.v0+json": "",
      "text/html": [
       "<div id='2102' style='display: table; margin: 0 auto;'>\n",
       "\n",
       "\n",
       "\n",
       "\n",
       "\n",
       "  <div class=\"bk-root\" id=\"c3bd2474-155b-4da7-bffe-e2132390fb58\" data-root-id=\"2102\"></div>\n",
       "</div>\n",
       "<script type=\"application/javascript\">(function(root) {\n",
       "  function embed_document(root) {\n",
       "    \n",
       "  var docs_json = {\"669461a7-b4a9-474f-974b-395ca6fc4cb7\":{\"roots\":{\"references\":[{\"attributes\":{\"below\":[{\"id\":\"2111\",\"type\":\"CategoricalAxis\"}],\"center\":[{\"id\":\"2114\",\"type\":\"Grid\"},{\"id\":\"2119\",\"type\":\"Grid\"}],\"left\":[{\"id\":\"2115\",\"type\":\"LinearAxis\"}],\"margin\":null,\"min_border_bottom\":10,\"min_border_left\":10,\"min_border_right\":10,\"min_border_top\":10,\"plot_height\":300,\"plot_width\":300,\"renderers\":[{\"id\":\"2135\",\"type\":\"GlyphRenderer\"},{\"id\":\"2141\",\"type\":\"GlyphRenderer\"},{\"id\":\"2147\",\"type\":\"GlyphRenderer\"},{\"id\":\"2153\",\"type\":\"GlyphRenderer\"}],\"sizing_mode\":\"fixed\",\"title\":{\"id\":\"2103\",\"type\":\"Title\"},\"toolbar\":{\"id\":\"2125\",\"type\":\"Toolbar\"},\"x_range\":{\"id\":\"2100\",\"type\":\"FactorRange\"},\"x_scale\":{\"id\":\"2107\",\"type\":\"CategoricalScale\"},\"y_range\":{\"id\":\"2101\",\"type\":\"Range1d\"},\"y_scale\":{\"id\":\"2109\",\"type\":\"LinearScale\"}},\"id\":\"2102\",\"subtype\":\"Figure\",\"type\":\"Plot\"},{\"attributes\":{},\"id\":\"2168\",\"type\":\"Selection\"},{\"attributes\":{\"line_alpha\":{\"value\":0.1},\"line_color\":{\"value\":\"black\"},\"x0\":{\"field\":\"x\"},\"x1\":{\"field\":\"x\"},\"y0\":{\"field\":\"y0\"},\"y1\":{\"field\":\"y1\"}},\"id\":\"2140\",\"type\":\"Segment\"},{\"attributes\":{\"data_source\":{\"id\":\"2137\",\"type\":\"ColumnDataSource\"},\"glyph\":{\"id\":\"2139\",\"type\":\"Segment\"},\"hover_glyph\":null,\"muted_glyph\":null,\"nonselection_glyph\":{\"id\":\"2140\",\"type\":\"Segment\"},\"selection_glyph\":null,\"view\":{\"id\":\"2142\",\"type\":\"CDSView\"}},\"id\":\"2141\",\"type\":\"GlyphRenderer\"},{\"attributes\":{\"grid_line_color\":null,\"ticker\":{\"id\":\"2112\",\"type\":\"CategoricalTicker\"}},\"id\":\"2114\",\"type\":\"Grid\"},{\"attributes\":{\"source\":{\"id\":\"2131\",\"type\":\"ColumnDataSource\"}},\"id\":\"2136\",\"type\":\"CDSView\"},{\"attributes\":{\"source\":{\"id\":\"2137\",\"type\":\"ColumnDataSource\"}},\"id\":\"2142\",\"type\":\"CDSView\"},{\"attributes\":{},\"id\":\"2170\",\"type\":\"Selection\"},{\"attributes\":{\"x0\":{\"field\":\"x\"},\"x1\":{\"field\":\"x\"},\"y0\":{\"field\":\"y0\"},\"y1\":{\"field\":\"y1\"}},\"id\":\"2139\",\"type\":\"Segment\"},{\"attributes\":{},\"id\":\"2122\",\"type\":\"WheelZoomTool\"},{\"attributes\":{\"dimension\":1,\"grid_line_color\":null,\"ticker\":{\"id\":\"2116\",\"type\":\"BasicTicker\"}},\"id\":\"2119\",\"type\":\"Grid\"},{\"attributes\":{},\"id\":\"2167\",\"type\":\"UnionRenderers\"},{\"attributes\":{\"active_drag\":\"auto\",\"active_inspect\":\"auto\",\"active_multi\":null,\"active_scroll\":\"auto\",\"active_tap\":\"auto\",\"tools\":[{\"id\":\"2120\",\"type\":\"SaveTool\"},{\"id\":\"2121\",\"type\":\"PanTool\"},{\"id\":\"2122\",\"type\":\"WheelZoomTool\"},{\"id\":\"2123\",\"type\":\"BoxZoomTool\"},{\"id\":\"2124\",\"type\":\"ResetTool\"}]},\"id\":\"2125\",\"type\":\"Toolbar\"},{\"attributes\":{},\"id\":\"2172\",\"type\":\"Selection\"},{\"attributes\":{},\"id\":\"2116\",\"type\":\"BasicTicker\"},{\"attributes\":{},\"id\":\"2120\",\"type\":\"SaveTool\"},{\"attributes\":{},\"id\":\"2166\",\"type\":\"Selection\"},{\"attributes\":{},\"id\":\"2169\",\"type\":\"UnionRenderers\"},{\"attributes\":{},\"id\":\"2124\",\"type\":\"ResetTool\"},{\"attributes\":{\"callback\":null,\"end\":2.225317794517663,\"reset_end\":2.225317794517663,\"reset_start\":-3.0405269724819854,\"start\":-3.0405269724819854,\"tags\":[[[\"Value\",\"Value\",null]]]},\"id\":\"2101\",\"type\":\"Range1d\"},{\"attributes\":{},\"id\":\"2112\",\"type\":\"CategoricalTicker\"},{\"attributes\":{},\"id\":\"2171\",\"type\":\"UnionRenderers\"},{\"attributes\":{\"overlay\":{\"id\":\"2164\",\"type\":\"BoxAnnotation\"}},\"id\":\"2123\",\"type\":\"BoxZoomTool\"},{\"attributes\":{},\"id\":\"2109\",\"type\":\"LinearScale\"},{\"attributes\":{\"fill_color\":{\"value\":\"white\"},\"line_color\":{\"value\":\"white\"},\"x\":{\"field\":\"x\"},\"y\":{\"field\":\"y\"}},\"id\":\"2151\",\"type\":\"Scatter\"},{\"attributes\":{\"fill_alpha\":{\"value\":0.1},\"fill_color\":{\"value\":\"white\"},\"line_alpha\":{\"value\":0.1},\"line_color\":{\"value\":\"white\"},\"x\":{\"field\":\"x\"},\"y\":{\"field\":\"y\"}},\"id\":\"2152\",\"type\":\"Scatter\"},{\"attributes\":{\"data_source\":{\"id\":\"2149\",\"type\":\"ColumnDataSource\"},\"glyph\":{\"id\":\"2151\",\"type\":\"Scatter\"},\"hover_glyph\":null,\"muted_glyph\":null,\"nonselection_glyph\":{\"id\":\"2152\",\"type\":\"Scatter\"},\"selection_glyph\":null,\"view\":{\"id\":\"2154\",\"type\":\"CDSView\"}},\"id\":\"2153\",\"type\":\"GlyphRenderer\"},{\"attributes\":{\"fill_alpha\":{\"value\":0.5},\"fill_color\":{\"value\":\"#30a2da\"},\"xs\":{\"field\":\"xs\"},\"ys\":{\"field\":\"ys\"}},\"id\":\"2133\",\"type\":\"Patches\"},{\"attributes\":{\"callback\":null,\"factors\":[\"B\",\"C\",\"A\"],\"tags\":[[[\"Category\",\"Category\",null]]]},\"id\":\"2100\",\"type\":\"FactorRange\"},{\"attributes\":{\"text\":\"\",\"text_color\":{\"value\":\"black\"},\"text_font_size\":{\"value\":\"12pt\"}},\"id\":\"2103\",\"type\":\"Title\"},{\"attributes\":{\"callback\":null,\"data\":{\"xs\":[[[\"B\",-5.6050936577066636e-08],[\"B\",-1.5972355732588263e-07],[\"B\",-4.34979910859038e-07],[\"B\",-1.1321992463340723e-06],[\"B\",-2.816951123135332e-06],[\"B\",-6.700395866496985e-06],[\"B\",-1.5239260522341324e-05],[\"B\",-3.314871349453107e-05],[\"B\",-6.898108720005822e-05],[\"B\",-0.00013737412661751379],[\"B\",-0.00026192612292313033],[\"B\",-0.00047839127448021275],[\"B\",-0.0008375348094137623],[\"B\",-0.0014066463954596426],[\"B\",-0.0022685555854157816],[\"B\",-0.0035172126429770835],[\"B\",-0.005249589604851427],[\"B\",-0.007554718679511921],[\"B\",-0.010501787501377379],[\"B\",-0.014129905870465859],[\"B\",-0.01844212098221136],[\"B\",-0.02340551833457504],[\"B\",-0.028958227879385973],[\"B\",-0.035023409525502834],[\"B\",-0.041530027016308306],[\"B\",-0.048439962416378435],[\"B\",-0.055779771261526494],[\"B\",-0.0636723280130549],[\"B\",-0.07235913015827188],[\"B\",-0.08220018344463337],[\"B\",-0.0936384274880763],[\"B\",-0.10712237093603155],[\"B\",-0.1229942405581991],[\"B\",-0.14136788887188415],[\"B\",-0.16203396813978588],[\"B\",-0.18443176873249156],[\"B\",-0.2077131058564753],[\"B\",-0.2308955894917268],[\"B\",-0.2530694266155865],[\"B\",-0.2735966388153949],[\"B\",-0.29223598675128465],[\"B\",-0.30914585942709466],[\"B\",-0.32475604690197724],[\"B\",-0.33954444106264003],[\"B\",-0.353789798761996],[\"B\",-0.3673834615888051],[\"B\",-0.37976635249304463],[\"B\",-0.39001773381030275],[\"B\",-0.3970723920746407],[\"B\",-0.4],[\"B\",-0.3982591693191793],[\"B\",-0.3918467127162457],[\"B\",-0.38129737170465977],[\"B\",-0.36753869787090476],[\"B\",-0.35165243266818735],[\"B\",-0.33462119112678246],[\"B\",-0.317138464863858],[\"B\",-0.2995326932214749],[\"B\",-0.28181396902317063],[\"B\",-0.2638111297596539],[\"B\",-0.24534181999066834],[\"B\",-0.22635554493146987],[\"B\",-0.2070075857389202],[\"B\",-0.18765067485329867],[\"B\",-0.1687597781308523],[\"B\",-0.15082369217880115],[\"B\",-0.13424123913649072],[\"B\",-0.11925120089869333],[\"B\",-0.10590934884312893],[\"B\",-0.09410969319015983],[\"B\",-0.08363562115115124],[\"B\",-0.07422222974681801],[\"B\",-0.06561326768828322],[\"B\",-0.057602137054159286],[\"B\",-0.05005330705508446],[\"B\",-0.04290588402834034],[\"B\",-0.03616391770155844],[\"B\",-0.029878563710917162],[\"B\",-0.02412649172803419],[\"B\",-0.01898798360216961],[\"B\",-0.014527543865900312],[\"B\",-0.01077944874341275],[\"B\",-0.007740061469468546],[\"B\",-0.005367640510048954],[\"B\",-0.0035888768186172443],[\"B\",-0.002309993680167371],[\"B\",-0.0014294622512026247],[\"B\",-0.0008494962458894932],[\"B\",-0.00048436257031501815],[\"B\",-0.00026476505794526586],[\"B\",-0.00013865978163280488],[\"B\",-6.953579379847087e-05],[\"B\",-3.337677960016485e-05],[\"B\",-1.5328632729441144e-05],[\"B\",-6.733782253626719e-06],[\"B\",-2.8288426209987433e-06],[\"B\",-1.1362382352990568e-06],[\"B\",-4.362883103356253e-07],[\"B\",-1.6012785050923367e-07],[\"B\",-5.61701135007775e-08],[\"B\",5.61701135007775e-08],[\"B\",1.6012785050923367e-07],[\"B\",4.362883103356253e-07],[\"B\",1.1362382352990568e-06],[\"B\",2.8288426209987433e-06],[\"B\",6.733782253626719e-06],[\"B\",1.5328632729441144e-05],[\"B\",3.337677960016485e-05],[\"B\",6.953579379847087e-05],[\"B\",0.00013865978163280488],[\"B\",0.00026476505794526586],[\"B\",0.00048436257031501815],[\"B\",0.0008494962458894932],[\"B\",0.0014294622512026247],[\"B\",0.002309993680167371],[\"B\",0.0035888768186172443],[\"B\",0.005367640510048954],[\"B\",0.007740061469468546],[\"B\",0.01077944874341275],[\"B\",0.014527543865900312],[\"B\",0.01898798360216961],[\"B\",0.02412649172803419],[\"B\",0.029878563710917162],[\"B\",0.03616391770155844],[\"B\",0.04290588402834034],[\"B\",0.05005330705508446],[\"B\",0.057602137054159286],[\"B\",0.06561326768828322],[\"B\",0.07422222974681801],[\"B\",0.08363562115115124],[\"B\",0.09410969319015983],[\"B\",0.10590934884312893],[\"B\",0.11925120089869333],[\"B\",0.13424123913649072],[\"B\",0.15082369217880115],[\"B\",0.1687597781308523],[\"B\",0.18765067485329867],[\"B\",0.2070075857389202],[\"B\",0.22635554493146987],[\"B\",0.24534181999066834],[\"B\",0.2638111297596539],[\"B\",0.28181396902317063],[\"B\",0.2995326932214749],[\"B\",0.317138464863858],[\"B\",0.33462119112678246],[\"B\",0.35165243266818735],[\"B\",0.36753869787090476],[\"B\",0.38129737170465977],[\"B\",0.3918467127162457],[\"B\",0.3982591693191793],[\"B\",0.4],[\"B\",0.3970723920746407],[\"B\",0.39001773381030275],[\"B\",0.37976635249304463],[\"B\",0.3673834615888051],[\"B\",0.353789798761996],[\"B\",0.33954444106264003],[\"B\",0.32475604690197724],[\"B\",0.30914585942709466],[\"B\",0.29223598675128465],[\"B\",0.2735966388153949],[\"B\",0.2530694266155865],[\"B\",0.2308955894917268],[\"B\",0.2077131058564753],[\"B\",0.18443176873249156],[\"B\",0.16203396813978588],[\"B\",0.14136788887188415],[\"B\",0.1229942405581991],[\"B\",0.10712237093603155],[\"B\",0.0936384274880763],[\"B\",0.08220018344463337],[\"B\",0.07235913015827188],[\"B\",0.0636723280130549],[\"B\",0.055779771261526494],[\"B\",0.048439962416378435],[\"B\",0.041530027016308306],[\"B\",0.035023409525502834],[\"B\",0.028958227879385973],[\"B\",0.02340551833457504],[\"B\",0.01844212098221136],[\"B\",0.014129905870465859],[\"B\",0.010501787501377379],[\"B\",0.007554718679511921],[\"B\",0.005249589604851427],[\"B\",0.0035172126429770835],[\"B\",0.0022685555854157816],[\"B\",0.0014066463954596426],[\"B\",0.0008375348094137623],[\"B\",0.00047839127448021275],[\"B\",0.00026192612292313033],[\"B\",0.00013737412661751379],[\"B\",6.898108720005822e-05],[\"B\",3.314871349453107e-05],[\"B\",1.5239260522341324e-05],[\"B\",6.700395866496985e-06],[\"B\",2.816951123135332e-06],[\"B\",1.1321992463340723e-06],[\"B\",4.34979910859038e-07],[\"B\",1.5972355732588263e-07],[\"B\",5.6050936577066636e-08]],[[\"C\",-4.871741161976974e-08],[\"C\",-1.4219523314988262e-07],[\"C\",-3.955961812696284e-07],[\"C\",-1.0490251802721683e-06],[\"C\",-2.6514738550438548e-06],[\"C\",-6.387894020142137e-06],[\"C\",-1.4668948512380498e-05],[\"C\",-3.210807764108909e-05],[\"C\",-6.698976826302147e-05],[\"C\",-0.00013322599011878375],[\"C\",-0.00025256160683392425],[\"C\",-0.00045641680984506174],[\"C\",-0.0007863212057180897],[\"C\",-0.0012915952378195848],[\"C\",-0.002023066319658062],[\"C\",-0.0030224562783632263],[\"C\",-0.00430872299780316],[\"C\",-0.00586474971020579],[\"C\",-0.007629540654185374],[\"C\",-0.009501429545757896],[\"C\",-0.011355903750439841],[\"C\",-0.013077484478673428],[\"C\",-0.01459981650883159],[\"C\",-0.01594372437235933],[\"C\",-0.01724152881649765],[\"C\",-0.018738411134467094],[\"C\",-0.020767433621022527],[\"C\",-0.023701911696567417],[\"C\",-0.02789470653139113],[\"C\",-0.03361696585449821],[\"C\",-0.041008610967094905],[\"C\",-0.050050326697632944],[\"C\",-0.06056308046158383],[\"C\",-0.07223685124129788],[\"C\",-0.0846852589064271],[\"C\",-0.09751719886965259],[\"C\",-0.11041133114701325],[\"C\",-0.12317627566931372],[\"C\",-0.1357807400359806],[\"C\",-0.14834452033769915],[\"C\",-0.16109220849771758],[\"C\",-0.17428322401579494],[\"C\",-0.18814010960636907],[\"C\",-0.20279812336582728],[\"C\",-0.21829147718243824],[\"C\",-0.23457683309322636],[\"C\",-0.25157789085311183],[\"C\",-0.26922306828815573],[\"C\",-0.28744772875813623],[\"C\",-0.3061456709689434],[\"C\",-0.325078157702823],[\"C\",-0.34377339508184956],[\"C\",-0.36146357379432303],[\"C\",-0.3771019424371971],[\"C\",-0.38947826203104646],[\"C\",-0.397415722996813],[\"C\",-0.4],[\"C\",-0.3967749712243668],[\"C\",-0.3878465065054244],[\"C\",-0.37386308270611024],[\"C\",-0.35587958137086023],[\"C\",-0.33514516041466513],[\"C\",-0.3128762663058792],[\"C\",-0.29007587262497564],[\"C\",-0.26744087187638893],[\"C\",-0.24536825359779166],[\"C\",-0.22403815752242223],[\"C\",-0.20352939713592014],[\"C\",-0.18391834117455574],[\"C\",-0.1653260967986191],[\"C\",-0.14790524740846936],[\"C\",-0.13178452990073863],[\"C\",-0.11700643886584461],[\"C\",-0.10349259952468384],[\"C\",-0.09105633401970104],[\"C\",-0.07945918611100183],[\"C\",-0.06848874893326126],[\"C\",-0.0580270140165308],[\"C\",-0.04808394545030963],[\"C\",-0.038786281634220134],[\"C\",-0.030329161447123693],[\"C\",-0.022910593200589715],[\"C\",-0.01667185459485781],[\"C\",-0.01166102854235308],[\"C\",-0.007826034457381217],[\"C\",-0.005032867862500927],[\"C\",-0.0030981904181195618],[\"C\",-0.0018241973090436393],[\"C\",-0.0010266849760863885],[\"C\",-0.0005520704566939894],[\"C\",-0.00028351721102293416],[\"C\",-0.00013901526878571762],[\"C\",-6.506403938074034e-05],[\"C\",-2.9062497437356958e-05],[\"C\",-1.2387173525079954e-05],[\"C\",-5.037387930549665e-06],[\"C\",-1.954288995361328e-06],[\"C\",-7.232466950279688e-07],[\"C\",-2.5531046147231045e-07],[\"C\",-8.596275409989746e-08],[\"C\",8.596275409989746e-08],[\"C\",2.5531046147231045e-07],[\"C\",7.232466950279688e-07],[\"C\",1.954288995361328e-06],[\"C\",5.037387930549665e-06],[\"C\",1.2387173525079954e-05],[\"C\",2.9062497437356958e-05],[\"C\",6.506403938074034e-05],[\"C\",0.00013901526878571762],[\"C\",0.00028351721102293416],[\"C\",0.0005520704566939894],[\"C\",0.0010266849760863885],[\"C\",0.0018241973090436393],[\"C\",0.0030981904181195618],[\"C\",0.005032867862500927],[\"C\",0.007826034457381217],[\"C\",0.01166102854235308],[\"C\",0.01667185459485781],[\"C\",0.022910593200589715],[\"C\",0.030329161447123693],[\"C\",0.038786281634220134],[\"C\",0.04808394545030963],[\"C\",0.0580270140165308],[\"C\",0.06848874893326126],[\"C\",0.07945918611100183],[\"C\",0.09105633401970104],[\"C\",0.10349259952468384],[\"C\",0.11700643886584461],[\"C\",0.13178452990073863],[\"C\",0.14790524740846936],[\"C\",0.1653260967986191],[\"C\",0.18391834117455574],[\"C\",0.20352939713592014],[\"C\",0.22403815752242223],[\"C\",0.24536825359779166],[\"C\",0.26744087187638893],[\"C\",0.29007587262497564],[\"C\",0.3128762663058792],[\"C\",0.33514516041466513],[\"C\",0.35587958137086023],[\"C\",0.37386308270611024],[\"C\",0.3878465065054244],[\"C\",0.3967749712243668],[\"C\",0.4],[\"C\",0.397415722996813],[\"C\",0.38947826203104646],[\"C\",0.3771019424371971],[\"C\",0.36146357379432303],[\"C\",0.34377339508184956],[\"C\",0.325078157702823],[\"C\",0.3061456709689434],[\"C\",0.28744772875813623],[\"C\",0.26922306828815573],[\"C\",0.25157789085311183],[\"C\",0.23457683309322636],[\"C\",0.21829147718243824],[\"C\",0.20279812336582728],[\"C\",0.18814010960636907],[\"C\",0.17428322401579494],[\"C\",0.16109220849771758],[\"C\",0.14834452033769915],[\"C\",0.1357807400359806],[\"C\",0.12317627566931372],[\"C\",0.11041133114701325],[\"C\",0.09751719886965259],[\"C\",0.0846852589064271],[\"C\",0.07223685124129788],[\"C\",0.06056308046158383],[\"C\",0.050050326697632944],[\"C\",0.041008610967094905],[\"C\",0.03361696585449821],[\"C\",0.02789470653139113],[\"C\",0.023701911696567417],[\"C\",0.020767433621022527],[\"C\",0.018738411134467094],[\"C\",0.01724152881649765],[\"C\",0.01594372437235933],[\"C\",0.01459981650883159],[\"C\",0.013077484478673428],[\"C\",0.011355903750439841],[\"C\",0.009501429545757896],[\"C\",0.007629540654185374],[\"C\",0.00586474971020579],[\"C\",0.00430872299780316],[\"C\",0.0030224562783632263],[\"C\",0.002023066319658062],[\"C\",0.0012915952378195848],[\"C\",0.0007863212057180897],[\"C\",0.00045641680984506174],[\"C\",0.00025256160683392425],[\"C\",0.00013322599011878375],[\"C\",6.698976826302147e-05],[\"C\",3.210807764108909e-05],[\"C\",1.4668948512380498e-05],[\"C\",6.387894020142137e-06],[\"C\",2.6514738550438548e-06],[\"C\",1.0490251802721683e-06],[\"C\",3.955961812696284e-07],[\"C\",1.4219523314988262e-07],[\"C\",4.871741161976974e-08]],[[\"A\",-6.263553099314484e-08],[\"A\",-1.7493619678051979e-07],[\"A\",-4.675864768817058e-07],[\"A\",-1.196134031964257e-06],[\"A\",-2.9285328063623783e-06],[\"A\",-6.862705455008085e-06],[\"A\",-1.539382119843605e-05],[\"A\",-3.305560648281178e-05],[\"A\",-6.795918324032663e-05],[\"A\",-0.00013379268986469186],[\"A\",-0.00025229109238623606],[\"A\",-0.00045582418796438886],[\"A\",-0.0007894200544540201],[\"A\",-0.001311258637497331],[\"A\",-0.0020906280769106204],[\"A\",-0.003202738061924743],[\"A\",-0.004720717557290844],[\"A\",-0.006706416008274409],[\"A\",-0.009202779481441844],[\"A\",-0.012230883484123668],[\"A\",-0.0157936059615108],[\"A\",-0.01988542936018112],[\"A\",-0.024504836987525775],[\"A\",-0.029663762392673237],[\"A\",-0.035389070109503394],[\"A\",-0.04171458463812375],[\"A\",-0.048667561141575895],[\"A\",-0.05625807941751329],[\"A\",-0.06448079443797312],[\"A\",-0.07333438177903136],[\"A\",-0.08285599605061304],[\"A\",-0.09315949396022902],[\"A\",-0.10446106077029998],[\"A\",-0.11707676848063323],[\"A\",-0.13138335312238833],[\"A\",-0.14774365056404182],[\"A\",-0.1664083947094381],[\"A\",-0.18741393040050766],[\"A\",-0.2104995600733807],[\"A\",-0.2350681167049562],[\"A\",-0.26020820518010573],[\"A\",-0.2847857030015641],[\"A\",-0.30759623160447336],[\"A\",-0.3275527470207218],[\"A\",-0.34386897524707943],[\"A\",-0.35619609514334494],[\"A\",-0.3646795817074566],[\"A\",-0.3699228178439351],[\"A\",-0.37286677150115355],[\"A\",-0.3746126138046172],[\"A\",-0.37622183440202106],[\"A\",-0.3785267965858805],[\"A\",-0.381978367274787],[\"A\",-0.3865510579672846],[\"A\",-0.3917215467830032],[\"A\",-0.3965310335055697],[\"A\",-0.3997315997747194],[\"A\",-0.4],[\"A\",-0.3961824932585655],[\"A\",-0.3875191928000154],[\"A\",-0.3737943084027581],[\"A\",-0.355373780689904],[\"A\",-0.33312118233513693],[\"A\",-0.3082167936247533],[\"A\",-0.2819311841728082],[\"A\",-0.2554139043817346],[\"A\",-0.2295473257493471],[\"A\",-0.20489036403253544],[\"A\",-0.18170706868984332],[\"A\",-0.16005172164451664],[\"A\",-0.13987216950587195],[\"A\",-0.1210975439969782],[\"A\",-0.10369076602121684],[\"A\",-0.08766304106967367],[\"A\",-0.07306037475866944],[\"A\",-0.05993751598740569],[\"A\",-0.04833297352135669],[\"A\",-0.03825283954608352],[\"A\",-0.029664816386648942],[\"A\",-0.022499757831994892],[\"A\",-0.01665698516948249],[\"A\",-0.012010756751342404],[\"A\",-0.008417004341785442],[\"A\",-0.005720552973602917],[\"A\",-0.003763103195935598],[\"A\",-0.0023916257997702523],[\"A\",-0.0014661557798451796],[\"A\",-0.0008657664553710107],[\"A\",-0.0004918576179883696],[\"A\",-0.0002685737343376001],[\"A\",-0.00014083629463110739],[\"A\",-7.0875795244427e-05],[\"A\",-3.421158441164282e-05],[\"A\",-1.5832341392206856e-05],[\"A\",-7.0219216095658015e-06],[\"A\",-2.9838595631863048e-06],[\"A\",-1.2145345670733392e-06],[\"A\",-4.7344343384101996e-07],[\"A\",-1.7672046838020565e-07],[\"A\",-6.315576591719212e-08],[\"A\",6.315576591719212e-08],[\"A\",1.7672046838020565e-07],[\"A\",4.7344343384101996e-07],[\"A\",1.2145345670733392e-06],[\"A\",2.9838595631863048e-06],[\"A\",7.0219216095658015e-06],[\"A\",1.5832341392206856e-05],[\"A\",3.421158441164282e-05],[\"A\",7.0875795244427e-05],[\"A\",0.00014083629463110739],[\"A\",0.0002685737343376001],[\"A\",0.0004918576179883696],[\"A\",0.0008657664553710107],[\"A\",0.0014661557798451796],[\"A\",0.0023916257997702523],[\"A\",0.003763103195935598],[\"A\",0.005720552973602917],[\"A\",0.008417004341785442],[\"A\",0.012010756751342404],[\"A\",0.01665698516948249],[\"A\",0.022499757831994892],[\"A\",0.029664816386648942],[\"A\",0.03825283954608352],[\"A\",0.04833297352135669],[\"A\",0.05993751598740569],[\"A\",0.07306037475866944],[\"A\",0.08766304106967367],[\"A\",0.10369076602121684],[\"A\",0.1210975439969782],[\"A\",0.13987216950587195],[\"A\",0.16005172164451664],[\"A\",0.18170706868984332],[\"A\",0.20489036403253544],[\"A\",0.2295473257493471],[\"A\",0.2554139043817346],[\"A\",0.2819311841728082],[\"A\",0.3082167936247533],[\"A\",0.33312118233513693],[\"A\",0.355373780689904],[\"A\",0.3737943084027581],[\"A\",0.3875191928000154],[\"A\",0.3961824932585655],[\"A\",0.4],[\"A\",0.3997315997747194],[\"A\",0.3965310335055697],[\"A\",0.3917215467830032],[\"A\",0.3865510579672846],[\"A\",0.381978367274787],[\"A\",0.3785267965858805],[\"A\",0.37622183440202106],[\"A\",0.3746126138046172],[\"A\",0.37286677150115355],[\"A\",0.3699228178439351],[\"A\",0.3646795817074566],[\"A\",0.35619609514334494],[\"A\",0.34386897524707943],[\"A\",0.3275527470207218],[\"A\",0.30759623160447336],[\"A\",0.2847857030015641],[\"A\",0.26020820518010573],[\"A\",0.2350681167049562],[\"A\",0.2104995600733807],[\"A\",0.18741393040050766],[\"A\",0.1664083947094381],[\"A\",0.14774365056404182],[\"A\",0.13138335312238833],[\"A\",0.11707676848063323],[\"A\",0.10446106077029998],[\"A\",0.09315949396022902],[\"A\",0.08285599605061304],[\"A\",0.07333438177903136],[\"A\",0.06448079443797312],[\"A\",0.05625807941751329],[\"A\",0.048667561141575895],[\"A\",0.04171458463812375],[\"A\",0.035389070109503394],[\"A\",0.029663762392673237],[\"A\",0.024504836987525775],[\"A\",0.01988542936018112],[\"A\",0.0157936059615108],[\"A\",0.012230883484123668],[\"A\",0.009202779481441844],[\"A\",0.006706416008274409],[\"A\",0.004720717557290844],[\"A\",0.003202738061924743],[\"A\",0.0020906280769106204],[\"A\",0.001311258637497331],[\"A\",0.0007894200544540201],[\"A\",0.00045582418796438886],[\"A\",0.00025229109238623606],[\"A\",0.00013379268986469186],[\"A\",6.795918324032663e-05],[\"A\",3.305560648281178e-05],[\"A\",1.539382119843605e-05],[\"A\",6.862705455008085e-06],[\"A\",2.9285328063623783e-06],[\"A\",1.196134031964257e-06],[\"A\",4.675864768817058e-07],[\"A\",1.7493619678051979e-07],[\"A\",6.263553099314484e-08]]],\"ys\":[{\"__ndarray__\":\"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\",\"dtype\":\"float64\",\"shape\":[200]},{\"__ndarray__\":\"VhpOTibXFMBeiskK1HUUwGf6RMeBFBTAb2rAgy+zE8B32jtA3VETwIBKt/yK8BLAiLoyuTiPEsCQKq515i0SwJmaKTKUzBHAoQql7kFrEcCqeiCr7wkRwLLqm2edqBDAuloXJEtHEMCGlSXB8csPwJZ1HDpNCQ/Ap1UTs6hGDsC4NQosBIQNwMgVAaVfwQzA2fX3Hbv+C8Dq1e6WFjwLwPq15Q9yeQrAC5bciM22CcAcdtMBKfQIwC1WynqEMQjAPTbB899uB8BOFrhsO6wGwF/2ruWW6QXAb9alXvImBcCAtpzXTWQEwJGWk1CpoQPAonaKyQTfAsCyVoFCYBwCwMM2eLu7WQHA1BZvNBeXAMDI7cta5aj/v+qtuUycI/6/DG6nPlOe/L8uLpUwChn7v07ugiLBk/m/cK5wFHgO+L+Sbl4GL4n2v7IuTPjlA/W/1O456px+87/0rifcU/nxvxhvFc4KdPC/cF4GgIPd7b+43uFj8dLqv/hevUdfyOe/ON+YK8295L+AX3QPO7Phv4C/n+ZRUd2/AMBWri0817+QwA12CSfRvyCCiXvKI8a/QAbvFQTzs78A3tMsM4aRP4D1WKwdtrw/wHm+RleFyj9QPKjbz1fTP9A78RP0bNk/QDs6TBiC3z9gnUFCnsviPyAdZl4w1uU/2JyKesLg6D+YHK+WVOvrP1ic07Lm9e4/CA58ZzwA8T/oTY51hYXyP8iNoIPOCvQ/pM2ykReQ9T+EDcWfYBX3P2BN162pmvg/QI3pu/If+j8gzfvJO6X7P/wMDtiEKv0/3Ewg5s2v/j9eRhl6ixoAQExmIgEw3QBAPIYriNSfAUAspjQPeWICQBrGPZYdJQNACuZGHcLnA0D6BVCkZqoEQOglWSsLbQVA2EVisq8vBkDIZWs5VPIGQLiFdMD4tAdApKV9R513CECUxYbOQToJQITlj1Xm/AlAdAWZ3Iq/CkBkJaJjL4ILQFBFq+rTRAxAQGW0cXgHDUAwhb34HMoNQCClxn/BjA5AEMXPBmZPD0CAcuxGBQkQQHYCcYpXahBAbpL1zanLEEBukvXNqcsQQHYCcYpXahBAgHLsRgUJEEAQxc8GZk8PQCClxn/BjA5AMIW9+BzKDUBAZbRxeAcNQFBFq+rTRAxAZCWiYy+CC0B0BZncir8KQITlj1Xm/AlAlMWGzkE6CUCkpX1HnXcIQLiFdMD4tAdAyGVrOVTyBkDYRWKyry8GQOglWSsLbQVA+gVQpGaqBEAK5kYdwucDQBrGPZYdJQNALKY0D3liAkA8hiuI1J8BQExmIgEw3QBAXkYZeosaAEDcTCDmza/+P/wMDtiEKv0/IM37yTul+z9Ajem78h/6P2BN162pmvg/hA3Fn2AV9z+kzbKRF5D1P8iNoIPOCvQ/6E2OdYWF8j8IDnxnPADxP1ic07Lm9e4/mByvllTr6z/YnIp6wuDoPyAdZl4w1uU/YJ1BQp7L4j9AOzpMGILfP9A78RP0bNk/UDyo289X0z/Aeb5GV4XKP4D1WKwdtrw/AN7TLDOGkT9ABu8VBPOzvyCCiXvKI8a/kMANdgkn0b8AwFauLTzXv4C/n+ZRUd2/gF90Dzuz4b8435grzb3kv/hevUdfyOe/uN7hY/HS6r9wXgaAg93tvxhvFc4KdPC/9K4n3FP58b/U7jnqnH7zv7IuTPjlA/W/km5eBi+J9r9wrnAUeA74v07ugiLBk/m/Li6VMAoZ+78Mbqc+U578v+qtuUycI/6/yO3LWuWo/7/UFm80F5cAwMM2eLu7WQHAslaBQmAcAsCidorJBN8CwJGWk1CpoQPAgLac101kBMBv1qVe8iYFwF/2ruWW6QXATha4bDusBsA9NsHz324HwC1WynqEMQjAHHbTASn0CMALltyIzbYJwPq15Q9yeQrA6tXulhY8C8DZ9fcdu/4LwMgVAaVfwQzAuDUKLASEDcCnVROzqEYOwJZ1HDpNCQ/AhpUlwfHLD8C6WhckS0cQwLLqm2edqBDAqnogq+8JEcChCqXuQWsRwJmaKTKUzBHAkCqudeYtEsCIujK5OI8SwIBKt/yK8BLAd9o7QN1RE8BvasCDL7MTwGf6RMeBFBTAXorJCtR1FMBWGk5OJtcUwA==\",\"dtype\":\"float64\",\"shape\":[200]},{\"__ndarray__\":\"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\",\"dtype\":\"float64\",\"shape\":[200]}]},\"selected\":{\"id\":\"2166\",\"type\":\"Selection\"},\"selection_policy\":{\"id\":\"2165\",\"type\":\"UnionRenderers\"}},\"id\":\"2131\",\"type\":\"ColumnDataSource\"},{\"attributes\":{\"source\":{\"id\":\"2149\",\"type\":\"ColumnDataSource\"}},\"id\":\"2154\",\"type\":\"CDSView\"},{\"attributes\":{},\"id\":\"2121\",\"type\":\"PanTool\"},{\"attributes\":{},\"id\":\"2155\",\"type\":\"CategoricalTickFormatter\"},{\"attributes\":{},\"id\":\"2107\",\"type\":\"CategoricalScale\"},{\"attributes\":{\"bottom\":{\"field\":\"bottom\"},\"fill_color\":{\"value\":\"black\"},\"top\":{\"field\":\"top\"},\"width\":{\"value\":0.1},\"x\":{\"field\":\"x\"}},\"id\":\"2145\",\"type\":\"VBar\"},{\"attributes\":{\"bottom_units\":\"screen\",\"fill_alpha\":{\"value\":0.5},\"fill_color\":{\"value\":\"lightgrey\"},\"left_units\":\"screen\",\"level\":\"overlay\",\"line_alpha\":{\"value\":1.0},\"line_color\":{\"value\":\"black\"},\"line_dash\":[4,4],\"line_width\":{\"value\":2},\"render_mode\":\"css\",\"right_units\":\"screen\",\"top_units\":\"screen\"},\"id\":\"2164\",\"type\":\"BoxAnnotation\"},{\"attributes\":{\"bottom\":{\"field\":\"bottom\"},\"fill_alpha\":{\"value\":0.1},\"fill_color\":{\"value\":\"black\"},\"line_alpha\":{\"value\":0.1},\"line_color\":{\"value\":\"black\"},\"top\":{\"field\":\"top\"},\"width\":{\"value\":0.1},\"x\":{\"field\":\"x\"}},\"id\":\"2146\",\"type\":\"VBar\"},{\"attributes\":{\"axis_label\":\"Value\",\"bounds\":\"auto\",\"formatter\":{\"id\":\"2157\",\"type\":\"BasicTickFormatter\"},\"major_label_orientation\":\"horizontal\",\"ticker\":{\"id\":\"2116\",\"type\":\"BasicTicker\"}},\"id\":\"2115\",\"type\":\"LinearAxis\"},{\"attributes\":{},\"id\":\"2157\",\"type\":\"BasicTickFormatter\"},{\"attributes\":{},\"id\":\"2165\",\"type\":\"UnionRenderers\"},{\"attributes\":{\"data_source\":{\"id\":\"2143\",\"type\":\"ColumnDataSource\"},\"glyph\":{\"id\":\"2145\",\"type\":\"VBar\"},\"hover_glyph\":null,\"muted_glyph\":null,\"nonselection_glyph\":{\"id\":\"2146\",\"type\":\"VBar\"},\"selection_glyph\":null,\"view\":{\"id\":\"2148\",\"type\":\"CDSView\"}},\"id\":\"2147\",\"type\":\"GlyphRenderer\"},{\"attributes\":{\"callback\":null,\"data\":{\"bottom\":{\"__ndarray__\":\"75mAqhfH7L+IZ0VmFyvmvwxJwLhvRem/\",\"dtype\":\"float64\",\"shape\":[3]},\"top\":{\"__ndarray__\":\"SPFzVsky2j9gZPU6xHbjPzaOJBhgdOY/\",\"dtype\":\"float64\",\"shape\":[3]},\"x\":[[\"B\",0],[\"C\",0],[\"A\",0]]},\"selected\":{\"id\":\"2170\",\"type\":\"Selection\"},\"selection_policy\":{\"id\":\"2169\",\"type\":\"UnionRenderers\"}},\"id\":\"2143\",\"type\":\"ColumnDataSource\"},{\"attributes\":{\"source\":{\"id\":\"2143\",\"type\":\"ColumnDataSource\"}},\"id\":\"2148\",\"type\":\"CDSView\"},{\"attributes\":{\"callback\":null,\"data\":{\"x\":[[\"B\",0],[\"C\",0],[\"A\",0]],\"y\":{\"__ndarray__\":\"mIp6R91fzL+sX5ePLxGQP9+3FncXoZU/\",\"dtype\":\"float64\",\"shape\":[3]}},\"selected\":{\"id\":\"2172\",\"type\":\"Selection\"},\"selection_policy\":{\"id\":\"2171\",\"type\":\"UnionRenderers\"}},\"id\":\"2149\",\"type\":\"ColumnDataSource\"},{\"attributes\":{\"fill_alpha\":{\"value\":0.5},\"fill_color\":{\"value\":\"#30a2da\"},\"line_alpha\":{\"value\":0.1},\"line_color\":{\"value\":\"black\"},\"xs\":{\"field\":\"xs\"},\"ys\":{\"field\":\"ys\"}},\"id\":\"2134\",\"type\":\"Patches\"},{\"attributes\":{\"data_source\":{\"id\":\"2131\",\"type\":\"ColumnDataSource\"},\"glyph\":{\"id\":\"2133\",\"type\":\"Patches\"},\"hover_glyph\":null,\"muted_glyph\":null,\"nonselection_glyph\":{\"id\":\"2134\",\"type\":\"Patches\"},\"selection_glyph\":null,\"view\":{\"id\":\"2136\",\"type\":\"CDSView\"}},\"id\":\"2135\",\"type\":\"GlyphRenderer\"},{\"attributes\":{\"axis_label\":\"Category\",\"bounds\":\"auto\",\"formatter\":{\"id\":\"2155\",\"type\":\"CategoricalTickFormatter\"},\"major_label_orientation\":\"horizontal\",\"ticker\":{\"id\":\"2112\",\"type\":\"CategoricalTicker\"}},\"id\":\"2111\",\"type\":\"CategoricalAxis\"},{\"attributes\":{\"callback\":null,\"data\":{\"x\":[[\"B\",0],[\"C\",0],[\"A\",0]],\"y0\":{\"__ndarray__\":\"RQ9lgkjmAsBZZgc2eCcFwJPjZ0ahPwbA\",\"dtype\":\"float64\",\"shape\":[3]},\"y1\":{\"__ndarray__\":\"zxAQGy+X/z8yRHrNBjwAQB1IdWpzzQFA\",\"dtype\":\"float64\",\"shape\":[3]}},\"selected\":{\"id\":\"2168\",\"type\":\"Selection\"},\"selection_policy\":{\"id\":\"2167\",\"type\":\"UnionRenderers\"}},\"id\":\"2137\",\"type\":\"ColumnDataSource\"}],\"root_ids\":[\"2102\"]},\"title\":\"Bokeh Application\",\"version\":\"1.2.0\"}};\n",
       "  var render_items = [{\"docid\":\"669461a7-b4a9-474f-974b-395ca6fc4cb7\",\"roots\":{\"2102\":\"c3bd2474-155b-4da7-bffe-e2132390fb58\"}}];\n",
       "  root.Bokeh.embed.embed_items_notebook(docs_json, render_items);\n",
       "\n",
       "  }\n",
       "  if (root.Bokeh !== undefined) {\n",
       "    embed_document(root);\n",
       "  } else {\n",
       "    var attempts = 0;\n",
       "    var timer = setInterval(function(root) {\n",
       "      if (root.Bokeh !== undefined) {\n",
       "        embed_document(root);\n",
       "        clearInterval(timer);\n",
       "      }\n",
       "      attempts++;\n",
       "      if (attempts > 100) {\n",
       "        console.log(\"Bokeh: ERROR: Unable to run BokehJS code because BokehJS library is missing\");\n",
       "        clearInterval(timer);\n",
       "      }\n",
       "    }, 10, root)\n",
       "  }\n",
       "})(window);</script>"
      ],
      "text/plain": [
       ":Violin   [Category]   (Value)"
      ]
     },
     "execution_count": 145,
     "metadata": {
      "application/vnd.holoviews_exec.v0+json": {
       "id": "2102"
      }
     },
     "output_type": "execute_result"
    }
   ],
   "source": [
    "groups = [chr(65+g) for g in np.random.randint(0, 3, 200)]\n",
    "violin = hv.Violin((groups, np.random.randn(200)),\n",
    "                    ['Category'], 'Value')\n",
    "# violin.opts(opts.Violin(height=400, show_legend=False, width=600))\n",
    "violin"
   ]
  },
  {
   "cell_type": "code",
   "execution_count": 145,
   "metadata": {},
   "outputs": [
    {
     "data": {
      "image/png": "[encoded data removed]",
      "text/plain": [
       "<Figure size 432x288 with 2 Axes>"
      ]
     },
     "metadata": {
      "needs_background": "light"
     },
     "output_type": "display_data"
    }
   ],
   "source": [
    "# rating by year vs releases per year\n",
    "\n",
    "fig, ax1 = plt.subplots()\n",
    "\n",
    "color = 'tab:red'\n",
    "rating_by_yr = data.groupby('release_year')['weighted_rating'].aggregate(np.mean)\n",
    "rating_by_yr.plot(color=color)\n",
    "ax1.set_ylabel('rating')\n",
    "\n",
    "ax2 = ax1.twinx()\n",
    "\n",
    "releases = data.groupby('release_year')['appid'].aggregate(len)\n",
    "releases.plot()\n",
    "ax2.set_ylabel('releases')\n",
    "\n",
    "fig.tight_layout()\n",
    "plt.show()"
   ]
  },
  {
   "cell_type": "code",
   "execution_count": 146,
   "metadata": {},
   "outputs": [
    {
     "data": {
      "image/png": "[encoded data removed]",
      "text/plain": [
       "<Figure size 432x288 with 2 Axes>"
      ]
     },
     "metadata": {
      "needs_background": "light"
     },
     "output_type": "display_data"
    }
   ],
   "source": [
    "# rating by year vs releases per year for games with over 10000 owners\n",
    "\n",
    "subset = data[data['owners'] > 10000].copy()\n",
    "\n",
    "fig, ax1 = plt.subplots()\n",
    "\n",
    "color = 'tab:red'\n",
    "rating_by_yr = subset.groupby('release_year')['weighted_rating'].aggregate(np.mean)\n",
    "rating_by_yr.plot(color=color)\n",
    "ax1.set_ylabel('rating')\n",
    "\n",
    "ax2 = ax1.twinx()\n",
    "\n",
    "releases = subset.groupby('release_year')['appid'].aggregate(len)\n",
    "releases.plot()\n",
    "ax2.set_ylabel('releases')\n",
    "\n",
    "fig.tight_layout()\n",
    "plt.show()"
   ]
  },
  {
   "cell_type": "code",
   "execution_count": null,
   "metadata": {},
   "outputs": [],
   "source": [
    "by_year = data[['release_year', 'weighted_rating']].groupby('release_year').aggregate(np.mean)\n",
    "by_year.plot();"
   ]
  },
  {
   "cell_type": "code",
   "execution_count": null,
   "metadata": {},
   "outputs": [],
   "source": [
    "import hvplot.pandas\n",
    "\n",
    "by_year.hvplot()"
   ]
  },
  {
   "cell_type": "code",
   "execution_count": null,
   "metadata": {},
   "outputs": [],
   "source": [
    "from holoviews import opts\n",
    "vline = hv.VLine(2014).opts(color='black')\n",
    "\n",
    "m = by_year.hvplot() * vline * \\\n",
    "    hv.Text(2014, 80, \" Text\", halign='left')\n",
    "m"
   ]
  },
  {
   "cell_type": "code",
   "execution_count": null,
   "metadata": {},
   "outputs": [],
   "source": [
    "print(m)\n",
    "m.Curve.I.data.head()"
   ]
  },
  {
   "cell_type": "code",
   "execution_count": null,
   "metadata": {},
   "outputs": [],
   "source": [
    "# top_dev_data = data[data['developer'].isin(top_devs_pv.index)]\n",
    "\n",
    "# rating_agg = top_dev_data.groupby(['release_year', 'developer'])['weighted_rating'].aggregate(np.mean)\n",
    "# by_dev = rating_agg.hvplot('release_year', groupby='developer', width=500, dynamic=False)\n",
    "\n",
    "# by_dev.opts(xlim=(1998, 2019))\n",
    "# by_dev * vline\n",
    "\n",
    "# # hv.help(hvplot)"
   ]
  },
  {
   "cell_type": "code",
   "execution_count": null,
   "metadata": {},
   "outputs": [],
   "source": [
    "# top_pub_data = data[data['developer'].isin(top_pubs_pv.index)]\n",
    "\n",
    "# rating_agg = top_pub_data.groupby(['release_year', 'publisher'])['weighted_rating'].aggregate(np.mean)\n",
    "# by_pub = rating_agg.hvplot('release_year', groupby='publisher', width=500, dynamic=False)\n",
    "\n",
    "# by_pub.opts(xlim=(1998, 2019))\n",
    "# by_pub * vline"
   ]
  },
  {
   "cell_type": "code",
   "execution_count": null,
   "metadata": {},
   "outputs": [],
   "source": [
    "# by_dev['Valve'].relabel('Valve') + by_dev['Bethesda Game Studios'].relabel('Bethesda Game Studios')"
   ]
  },
  {
   "cell_type": "code",
   "execution_count": null,
   "metadata": {},
   "outputs": [],
   "source": [
    "# devs = ['Rockstar North', 'Ubisoft Montreal', 'Gearbox Software']\n",
    "# rating_agg.loc[:, devs].hvplot(by='developer')"
   ]
  },
  {
   "cell_type": "code",
   "execution_count": null,
   "metadata": {},
   "outputs": [],
   "source": [
    "subset = data[['owners', 'release_year']].sample(1000)\n",
    "hvplot.scatter_matrix(subset, c='release_year')"
   ]
  },
  {
   "cell_type": "code",
   "execution_count": null,
   "metadata": {},
   "outputs": [],
   "source": [
    "data.corr().abs()['strategy'].sort_values(ascending=False)"
   ]
  },
  {
   "cell_type": "code",
   "execution_count": null,
   "metadata": {},
   "outputs": [],
   "source": [
    "# junk     \n",
    "# df = df[df['average_playtime'] > 0]\n",
    "# df = df[df['rating'] > 0]\n",
    "\n",
    "# free\n",
    "# df = df[df['price'] > 0]"
   ]
  },
  {
   "cell_type": "code",
   "execution_count": null,
   "metadata": {
    "scrolled": true
   },
   "outputs": [],
   "source": [
    "data.groupby('developer').mean().loc[['Valve', 'Gearbox Software'], :]\n",
    "\n",
    "data.groupby('developer').mean()['rating'].sort_values(ascending=False)\n",
    "\n",
    "dev_pv = data.pivot_table(index='developer', values=['steam_appid', 'num_ratings', 'rating'], aggfunc={'rating':np.mean, 'steam_appid': len, 'num_ratings': np.sum}).sort_values(by='rating', ascending=False)\n",
    "\n",
    "dev_pv[dev_pv['steam_appid'] >= 10].rename({'rating':'average_rating','steam_appid':'num_apps'}, axis=1)"
   ]
  },
  {
   "cell_type": "code",
   "execution_count": null,
   "metadata": {
    "scrolled": true
   },
   "outputs": [],
   "source": [
    "data.groupby('publisher').mean()['rating'].sort_values(ascending=False)\n",
    "\n",
    "pub_pv = data.pivot_table(index='publisher', values=['steam_appid', 'rating'], aggfunc={'rating':np.mean, 'steam_appid': len}, fill_value=0).sort_values(by='rating', ascending=False)\n",
    "\n",
    "pub_pv[pub_pv['steam_appid'] >= 10]"
   ]
  },
  {
   "cell_type": "code",
   "execution_count": null,
   "metadata": {},
   "outputs": [],
   "source": [
    "counts = data['top_tag'].value_counts()\n",
    "counts[counts > 100]"
   ]
  },
  {
   "cell_type": "code",
   "execution_count": null,
   "metadata": {},
   "outputs": [],
   "source": [
    "data['release_year'].plot.hist(bins=50)"
   ]
  },
  {
   "cell_type": "code",
   "execution_count": null,
   "metadata": {
    "scrolled": true
   },
   "outputs": [],
   "source": [
    "pd.pivot_table(data, index=['publisher'], values=['average_playtime', 'rating', 'owners', 'publisher_rating', 'est_revenue']).sort_values(by='est_revenue', ascending=False)"
   ]
  },
  {
   "cell_type": "code",
   "execution_count": null,
   "metadata": {},
   "outputs": [],
   "source": [
    "data.loc[data['rating'] > data['rating'].mean(), 'release_year'].plot.hist(alpha=.5, bins=20)\n",
    "data.loc[data['rating'] < data['rating'].mean(), 'release_year'].plot.hist(alpha=.5, bins=20)\n",
    "plt.show()\n",
    "\n",
    "data.loc[data['average_playtime'] > data['average_playtime'].median(), 'release_year'].plot.hist(alpha=0.5, bins=20)\n",
    "data.loc[data['average_playtime'] < data['average_playtime'].median(), 'release_year'].plot.hist(alpha=0.5, bins=20)\n",
    "plt.show()"
   ]
  },
  {
   "cell_type": "code",
   "execution_count": null,
   "metadata": {},
   "outputs": [],
   "source": [
    "dev_ratings = data.groupby('developer').mean()['rating'].sort_values(ascending=False)\n",
    "\n",
    "dev_ratings[dev_ratings > 90]"
   ]
  },
  {
   "cell_type": "code",
   "execution_count": null,
   "metadata": {},
   "outputs": [],
   "source": [
    "data.corr()['est_revenue'].abs().sort_values()"
   ]
  },
  {
   "cell_type": "code",
   "execution_count": null,
   "metadata": {
    "scrolled": false
   },
   "outputs": [],
   "source": [
    "# data.corr()['owners'].sort_values()\n",
    "print(data['owners'].value_counts())\n",
    "\n",
    "data.pivot_table(index=\"owners\", values=\"rating\").plot.bar()\n",
    "plt.show()"
   ]
  },
  {
   "cell_type": "code",
   "execution_count": null,
   "metadata": {},
   "outputs": [],
   "source": [
    "def plot_correlation_heatmap(df):\n",
    "    corr = df.corr()\n",
    "    \n",
    "    sns.set(style='white')\n",
    "    mask = np.zeros_like(corr, dtype=np.bool)\n",
    "    mask[np.triu_indices_from(mask)] = True\n",
    "    \n",
    "    f, ax = plt.subplots(figsize=(11,9))\n",
    "    cmap = sns.diverging_palette(220, 10, as_cmap=True)\n",
    "    \n",
    "    sns.heatmap(corr, mask=mask, cmap=cmap, vmax=0.3, center=0,\n",
    "                square=True, linewidths=.5, cbar_kws={\"shrink\": .5})\n",
    "    plt.show()\n",
    "\n",
    "# correlations = data.corr()\n",
    "# sns.heatmap(correlations)\n",
    "plot_correlation_heatmap(data)"
   ]
  },
  {
   "cell_type": "code",
   "execution_count": null,
   "metadata": {},
   "outputs": [],
   "source": [
    "from sklearn.feature_selection import RFECV\n",
    "from sklearn.linear_model import LinearRegression\n",
    "\n",
    "numeric = data.select_dtypes(include='number').dropna(axis=1).copy()\n",
    "display(numeric.head())\n",
    "all_X = numeric.drop(['rating', 'owners', 'est_revenue', 'steam_appid'], axis=1)\n",
    "all_y = numeric['est_revenue']\n",
    "\n",
    "lr = LinearRegression()\n",
    "selector = RFECV(lr, cv=10)\n",
    "selector.fit(all_X, all_y)\n",
    "optimised_columns = all_X.columns[selector.support_]\n",
    "optimised_columns"
   ]
  },
  {
   "cell_type": "code",
   "execution_count": null,
   "metadata": {},
   "outputs": [],
   "source": [
    "from sklearn.model_selection import cross_val_score\n",
    "\n",
    "all_X = numeric[optimised_columns]\n",
    "all_y = numeric['est_revenue']\n",
    "\n",
    "lr = LinearRegression()\n",
    "scores = cross_val_score(lr, all_X, all_y, cv=10)\n",
    "accuracy = scores.mean()\n",
    "accuracy"
   ]
  },
  {
   "cell_type": "code",
   "execution_count": null,
   "metadata": {},
   "outputs": [],
   "source": [
    "for col in ['categories', 'genres', 'tags']:\n",
    "    print('\\n----------{}----------\\n'.format(col))\n",
    "    print(data[col].value_counts().head(10))"
   ]
  },
  {
   "cell_type": "code",
   "execution_count": null,
   "metadata": {},
   "outputs": [],
   "source": [
    "def get_unique(series):\n",
    "    return set(list(itertools.chain(*series.apply(lambda x: [c for c in x.split(';')]))))\n",
    "    \n",
    "get_unique(data['categories'])"
   ]
  },
  {
   "cell_type": "code",
   "execution_count": null,
   "metadata": {},
   "outputs": [],
   "source": [
    "# most common\n",
    "genre_data = final_data[['steam_appid', 'genres']].copy()\n",
    "\n",
    "genre_cols = set(list(itertools.chain(*genre_data['genres'].apply(lambda x: [item for item in x.split(';')]))))\n",
    "\n",
    "for col in sorted(genre_cols):\n",
    "    col_name = col.lower().replace('&', 'and').replace(' ', '_')\n",
    "\n",
    "    genre_data[col_name] = genre_data['genres'].apply(lambda x: 1 if col in x else 0)\n",
    "    \n",
    "genre_data.drop(['steam_appid', 'genres'], axis=1).sum().sort_values(ascending=False)"
   ]
  },
  {
   "cell_type": "code",
   "execution_count": null,
   "metadata": {},
   "outputs": [],
   "source": [
    "# most popular\n",
    "genre_owners_data = pd.concat([genre_data.drop(['steam_appid', 'genres'], axis=1), final_data['owners'].str.replace('[+,]', '').astype(int)], axis=1).copy()\n",
    "\n",
    "genre_owners_data.head()"
   ]
  },
  {
   "cell_type": "code",
   "execution_count": null,
   "metadata": {},
   "outputs": [],
   "source": [
    "for col in genre_owners_data.columns.drop('owners'):\n",
    "    genre_owners_data[col] *= genre_owners_data['owners']\n",
    "\n",
    "genre_owners_data.head()    "
   ]
  },
  {
   "cell_type": "code",
   "execution_count": null,
   "metadata": {},
   "outputs": [],
   "source": [
    "genre_owners_data.sum().sort_values(ascending=False)"
   ]
  },
  {
   "cell_type": "code",
   "execution_count": null,
   "metadata": {},
   "outputs": [],
   "source": [
    "# category_data = final_data['categories']..copy()\n",
    "category_data = pd.DataFrame()\n",
    "\n",
    "# genre_cols = set(list(itertools.chain(*genre_data['genres'].apply(lambda x: [item for item in x.split(';')]))))\n",
    "cat_cols = set(list(itertools.chain(*final_data['categories'].apply(lambda x: [c for c in x.split(';')]))))\n",
    "\n",
    "for col in cat_cols:\n",
    "    col_name = re.sub(r'[\\s\\-\\/]', '_', col.lower())\n",
    "    col_name = re.sub(r'[()]', '', col_name)\n",
    "    \n",
    "    category_data[col_name] = final_data['categories'].apply(lambda x: 1 if col in x else 0)  \n",
    "\n",
    "category_data.head()"
   ]
  },
  {
   "cell_type": "code",
   "execution_count": null,
   "metadata": {},
   "outputs": [],
   "source": [
    "category_data.sum().sort_values(ascending=False)"
   ]
  },
  {
   "cell_type": "code",
   "execution_count": null,
   "metadata": {},
   "outputs": [],
   "source": [
    "# cat_owners_data = pd.concat([category_data, final_data['owners_int']], axis=1)\n",
    "final_data['owners_int'] = final_data['owners'].str.replace('[+,]', '').astype(int)\n",
    "cat_owners_data = category_data.apply(lambda x: x * final_data['owners_int'])\n",
    "cat_owners_data.sum().sort_values(ascending=False)"
   ]
  },
  {
   "cell_type": "code",
   "execution_count": null,
   "metadata": {},
   "outputs": [],
   "source": [
    "total = cat_owners_data.sum().sum()\n",
    "cat_owners_data.sum().sort_values(ascending=False) / total * 100"
   ]
  },
  {
   "cell_type": "code",
   "execution_count": null,
   "metadata": {},
   "outputs": [],
   "source": [
    "# high playtime\n",
    "final_data.sort_values('average_forever', ascending=False).head(100).reset_index(drop=True)"
   ]
  },
  {
   "cell_type": "code",
   "execution_count": null,
   "metadata": {},
   "outputs": [],
   "source": [
    "# popular publishers\n",
    "final_data.groupby('publisher').mean().sort_values('owners_int', ascending=False).head(25)"
   ]
  },
  {
   "cell_type": "code",
   "execution_count": null,
   "metadata": {},
   "outputs": [],
   "source": [
    "# popular developers\n",
    "final_data.groupby('developer').mean().sort_values('owners_int', ascending=False).head(25)"
   ]
  },
  {
   "cell_type": "code",
   "execution_count": null,
   "metadata": {
    "scrolled": true
   },
   "outputs": [],
   "source": [
    "# ratings\n",
    "import math\n",
    "\n",
    "def calc_rating(row):\n",
    "    pos = row['positive']\n",
    "    neg = row['negative']\n",
    "    \n",
    "    total_reviews = pos + neg\n",
    "    \n",
    "    average = pos / total_reviews\n",
    "    \n",
    "    score = average - (average*0.5) * 2**(-math.log10(total_reviews + 1))\n",
    "    \n",
    "    return score * 100\n",
    "\n",
    "final_data['rating'] = final_data.apply(calc_rating, axis=1)\n",
    "\n",
    "final_data.sort_values('rating', ascending=False).head(25)"
   ]
  },
  {
   "cell_type": "code",
   "execution_count": null,
   "metadata": {
    "scrolled": true
   },
   "outputs": [],
   "source": [
    "# simple ratings\n",
    "final_data['simple_rating'] = final_data['positive'] / (final_data['positive'] + final_data['negative'])\n",
    "final_data[final_data['owners_int'] > 20000].sort_values('simple_rating', ascending=False).head(25)"
   ]
  },
  {
   "cell_type": "code",
   "execution_count": null,
   "metadata": {},
   "outputs": [],
   "source": [
    "final_data.groupby('owners_int').mean().sort_index()"
   ]
  },
  {
   "cell_type": "code",
   "execution_count": null,
   "metadata": {},
   "outputs": [],
   "source": [
    "final_data['price_bins'] = pd.cut(final_data['price'], bins=10)\n",
    "final_data.groupby('price_bins').mean().sort_index()"
   ]
  },
  {
   "cell_type": "markdown",
   "metadata": {},
   "source": [
    "## Reference"
   ]
  },
  {
   "cell_type": "markdown",
   "metadata": {},
   "source": [
    "### handling non-english apps"
   ]
  },
  {
   "cell_type": "code",
   "execution_count": null,
   "metadata": {
    "scrolled": true
   },
   "outputs": [],
   "source": [
    "# handling non-english apps\n",
    "pattern = '[\\u2122\\u00ae\\u0099\\U0001f300-\\U0001F5FF\\u2700-\\u27BF\\U0001F600-\\U0001F6FF\\U0001F900-\\U0001F9FF\\u26A0\\u2b1b\\u2649]'\n",
    "\n",
    "full_data['name'] = full_data['name_x'].apply(lambda x: re.sub(pattern, '', x))\n",
    "\n",
    "pattern_2 = '[\\u2022]'\n",
    "full_data['name'] = full_data['name'].apply(lambda x: re.sub(pattern_2, ' ', x))\n",
    "\n",
    "with pd.option_context(\"display.max_rows\", 500, \"display.max_colwidth\", 500):\n",
    "    display(full_data.loc[full_data['name'].str.contains('[^\\d\\w\\s\\u0021-\\u007e\\u2013-\\u2019]'), ['name_x', 'name', 'name_y']])"
   ]
  },
  {
   "cell_type": "code",
   "execution_count": null,
   "metadata": {},
   "outputs": [],
   "source": [
    "hex(ord('♉'))"
   ]
  },
  {
   "cell_type": "code",
   "execution_count": null,
   "metadata": {},
   "outputs": [],
   "source": [
    "# '🍕'.encode('utf-8').decode('utf-8')\n",
    "\n",
    "re.sub(u\"\\U0001F355\", '', '🍕')\n",
    "\n",
    "u\"\\u26A0\""
   ]
  }
 ],
 "metadata": {
  "kernelspec": {
   "display_name": "Python 3",
   "language": "python",
   "name": "python3"
  },
  "language_info": {
   "codemirror_mode": {
    "name": "ipython",
    "version": 3
   },
   "file_extension": ".py",
   "mimetype": "text/x-python",
   "name": "python",
   "nbconvert_exporter": "python",
   "pygments_lexer": "ipython3",
   "version": "3.7.3"
  }
 },
 "nbformat": 4,
 "nbformat_minor": 2
}
